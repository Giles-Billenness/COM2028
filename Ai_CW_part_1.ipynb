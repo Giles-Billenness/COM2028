{
  "cells": [
    {
      "cell_type": "markdown",
      "metadata": {
        "colab_type": "text",
        "id": "kg-vepPxGZJc"
      },
      "source": [
        "# Preamble, inc pip install scipy 1.1.0 and download of data from github"
      ]
    },
    {
      "cell_type": "code",
      "execution_count": null,
      "metadata": {
        "colab": {},
        "colab_type": "code",
        "id": "ciPERpVrserv",
        "vscode": {
          "languageId": "python"
        }
      },
      "outputs": [],
      "source": [
        "\"\"\"\n",
        "Recognising printed pages for multiple languages\n",
        "The first part is to extract letters and words from an image of a printed page. \n",
        "\n",
        "So the system will take an image of a printed text, and output a text of the words in that image.\n",
        "\n",
        "The first two steps for this task is to build a dataset that is suited for training,\n",
        "and then train a letter recogniser based on such dataset. \n",
        "(SVM, K-NN, neural network, and CNN etc) or a combination of them.\n",
        "\n",
        "Prepare data from at least two kinds of languages, such as English and Chinese. \n",
        "\"\"\""
      ]
    },
    {
      "cell_type": "code",
      "execution_count": 1,
      "metadata": {
        "colab": {
          "base_uri": "https://localhost:8080/",
          "height": 235
        },
        "colab_type": "code",
        "id": "HITuVvdlthQP",
        "outputId": "77b9f032-d8b5-4b6c-c243-6df87cffcc8f",
        "vscode": {
          "languageId": "python"
        }
      },
      "outputs": [
        {
          "name": "stdout",
          "output_type": "stream",
          "text": [
            "Collecting scipy==1.1.0\n",
            "\u001b[?25l  Downloading https://files.pythonhosted.org/packages/a8/0b/f163da98d3a01b3e0ef1cab8dd2123c34aee2bafbb1c5bffa354cc8a1730/scipy-1.1.0-cp36-cp36m-manylinux1_x86_64.whl (31.2MB)\n",
            "\u001b[K     |████████████████████████████████| 31.2MB 140kB/s \n",
            "\u001b[?25hRequirement already satisfied: numpy>=1.8.2 in /usr/local/lib/python3.6/dist-packages (from scipy==1.1.0) (1.18.5)\n",
            "\u001b[31mERROR: umap-learn 0.4.4 has requirement scipy>=1.3.1, but you'll have scipy 1.1.0 which is incompatible.\u001b[0m\n",
            "\u001b[31mERROR: tensorflow 2.2.0 has requirement scipy==1.4.1; python_version >= \"3\", but you'll have scipy 1.1.0 which is incompatible.\u001b[0m\n",
            "\u001b[31mERROR: plotnine 0.6.0 has requirement scipy>=1.2.0, but you'll have scipy 1.1.0 which is incompatible.\u001b[0m\n",
            "\u001b[31mERROR: albumentations 0.1.12 has requirement imgaug<0.2.7,>=0.2.5, but you'll have imgaug 0.2.9 which is incompatible.\u001b[0m\n",
            "Installing collected packages: scipy\n",
            "  Found existing installation: scipy 1.4.1\n",
            "    Uninstalling scipy-1.4.1:\n",
            "      Successfully uninstalled scipy-1.4.1\n",
            "Successfully installed scipy-1.1.0\n"
          ]
        }
      ],
      "source": [
        "#extract letters\n",
        "!pip install scipy==1.1.0\n",
        "# You need to restart the Runtime after installing the scipy"
      ]
    },
    {
      "cell_type": "markdown",
      "metadata": {
        "colab_type": "text",
        "id": "sJgvyRGYkJgB"
      },
      "source": [
        "Get the training, testing and apropreate folders:"
      ]
    },
    {
      "cell_type": "code",
      "execution_count": 2,
      "metadata": {
        "colab": {},
        "colab_type": "code",
        "id": "E5x-Tobgjtu7",
        "vscode": {
          "languageId": "python"
        }
      },
      "outputs": [],
      "source": [
        "import requests\n",
        "import zipfile\n",
        "import io\n",
        "r = requests.get('https://github.com/Giles-Billenness/COM2028/raw/master/COM2028Writing.zip')\n",
        "z = zipfile.ZipFile(io.BytesIO(r.content))\n",
        "z.extractall()"
      ]
    },
    {
      "cell_type": "markdown",
      "metadata": {
        "colab_type": "text",
        "id": "PIw3edpNGqwG"
      },
      "source": [
        "# Character extraction class"
      ]
    },
    {
      "cell_type": "markdown",
      "metadata": {
        "colab_type": "text",
        "id": "4-ukzZiM9jx5"
      },
      "source": [
        "Defines Character extraction classs and method:"
      ]
    },
    {
      "cell_type": "code",
      "execution_count": 3,
      "metadata": {
        "colab": {},
        "colab_type": "code",
        "id": "Fvmx7TIvHikl",
        "vscode": {
          "languageId": "python"
        }
      },
      "outputs": [],
      "source": [
        "import time\n",
        "import numpy as np\n",
        "import matplotlib.pyplot as plt\n",
        "import matplotlib.patches as mpatches\n",
        "from scipy.misc import imread, imresize, imsave\n",
        "from skimage.morphology import label\n",
        "from skimage.measure import regionprops\n",
        "from skimage.transform import resize\n",
        "\n",
        "class Extract_Letters:\n",
        "    def extractFile(self, filename, mode):    \n",
        "        image = imread(filename, 1)\n",
        "\n",
        "        # apply threshold in order to make the image binary\n",
        "        bw = (image < 120).astype(np.float)\n",
        "\n",
        "        # remove artifacts connected to image border\n",
        "        cleared = bw.copy()\n",
        "        # clear_border(cleared)\n",
        "\n",
        "        # label image regions\n",
        "        label_image = label(cleared, neighbors=8)\n",
        "        borders = np.logical_xor(bw, cleared)\n",
        "        label_image[borders] = -1\n",
        "\n",
        "        letters = list()\n",
        "        order = list()\n",
        "        total = 0\n",
        "        for region in regionprops(label_image):\n",
        "            minr, minc, maxr, maxc = region.bbox#(255, 690, 0, 308, 720, 3), normal (255, 690, 308, 720)\n",
        "            \n",
        "            # skip small images\n",
        "            if maxr - minr > len(image) / 250:  # better to use height rather than area.\n",
        "                #minr-=(maxr - minr)*0.40 #add extra area to the top, SET IN MODE if needed.\n",
        "                rect = mpatches.Rectangle((minc, minr), maxc - minc, maxr - minr,\n",
        "                                          fill=False, edgecolor='red', linewidth=2)\n",
        "                total+=1\n",
        "                order.append((int(minr), minc, maxr, maxc))#region.bbox)\n",
        "\n",
        "        # sort the detected characters left->right, top->bottom\n",
        "        lines = list()\n",
        "        first_in_line = ''\n",
        "        counter = 0\n",
        "\n",
        "        # worst case scenario there can be 1 character per line\n",
        "        for x in range(len(order)):\n",
        "            lines.append([])\n",
        "\n",
        "        for character in order:\n",
        "            if first_in_line == '':\n",
        "                first_in_line = character\n",
        "                lines[counter].append(character)\n",
        "            elif abs(character[0] - first_in_line[0]) < (first_in_line[2] - first_in_line[0]):\n",
        "                lines[counter].append(character)\n",
        "            elif abs(character[0] - first_in_line[0]) > (first_in_line[2] - first_in_line[0]):\n",
        "                first_in_line = character\n",
        "                counter += 1\n",
        "                lines[counter].append(character)\n",
        "\n",
        "        for x in range(len(lines)):\n",
        "            lines[x].sort(key=lambda tup: tup[1])\n",
        "\n",
        "        final = list()\n",
        "        prev_tr = 0\n",
        "        prev_line_br = 0\n",
        "\n",
        "        for i in range(len(lines)):\n",
        "            for j in range(len(lines[i])):\n",
        "                tl_2 = lines[i][j][1]\n",
        "                bl_2 = lines[i][j][0]\n",
        "                if tl_2 > prev_tr and bl_2 > prev_line_br:\n",
        "                    tl, tr, bl, br = lines[i][j]\n",
        "                    letter_raw = bw[tl:bl, tr:br]\n",
        "                    letter_norm = resize(letter_raw, (20, 20))\n",
        "                    final.append(letter_norm)\n",
        "                    prev_tr = lines[i][j][3]\n",
        "                if j == (len(lines[i]) - 1):\n",
        "                    prev_line_br = lines[i][j][2]\n",
        "            prev_tr = 0\n",
        "            tl_2 = 0\n",
        "            #print ('Characters recognized: ' + str(len(final)))\n",
        "\n",
        "        print(filename)\n",
        "        if(mode == \"english\"): \n",
        "          print(\"Does THIS FILE HAVE CORRECT NUM OF CHARACTERS\")\n",
        "          print(\"for a english training or testing document?\")\n",
        "          print(total % 61 == 0)\n",
        "        if(mode == \"greek\"):\n",
        "          print(\"Does THIS FILE HAVE CORRECT NUM OF CHARACTERS\")\n",
        "          print(\"for a greek training or testing document?\")\n",
        "          print(total % 24 == 0)\n",
        "\n",
        "        return final\n",
        "    \n",
        "    def __init__(self):\n",
        "        print(\"Extracting characters...\")\n"
      ]
    },
    {
      "cell_type": "markdown",
      "metadata": {
        "colab_type": "text",
        "id": "fl7NIBDIGxdI"
      },
      "source": [
        "# Extracting training data from training pages:"
      ]
    },
    {
      "cell_type": "markdown",
      "metadata": {
        "colab_type": "text",
        "id": "fodQHGfJ9ss-"
      },
      "source": [
        "Extracts the training data from the pages using the class and method:"
      ]
    },
    {
      "cell_type": "code",
      "execution_count": 4,
      "metadata": {
        "colab": {
          "base_uri": "https://localhost:8080/",
          "height": 894
        },
        "colab_type": "code",
        "id": "vzvekpfz9i6O",
        "outputId": "a8172067-cc2f-4368-821b-5a323a3886d7",
        "vscode": {
          "languageId": "python"
        }
      },
      "outputs": [
        {
          "name": "stdout",
          "output_type": "stream",
          "text": [
            "Extracting characters...\n",
            "['/content/WritingRecognition/old_data_english/training/training1.png', '/content/WritingRecognition/old_data_english/training/training3.png', '/content/WritingRecognition/old_data_english/training/training5.png', '/content/WritingRecognition/old_data_english/training/training6.png', '/content/WritingRecognition/NEW_DATA_english/training/train1-1.png', '/content/WritingRecognition/NEW_DATA_english/training/train2-1.png', '/content/WritingRecognition/NEW_DATA_english/training/train3-1.png', '/content/WritingRecognition/NEW_DATA_english/training/train4-1.png', '/content/WritingRecognition/NEW_DATA_english/training/train5-1.png', '/content/WritingRecognition/NEW_DATA_english/training/train6-1.png']\n"
          ]
        },
        {
          "name": "stderr",
          "output_type": "stream",
          "text": [
            "/usr/local/lib/python3.6/dist-packages/ipykernel_launcher.py:12: DeprecationWarning: `imread` is deprecated!\n",
            "`imread` is deprecated in SciPy 1.0.0, and will be removed in 1.2.0.\n",
            "Use ``imageio.imread`` instead.\n",
            "  if sys.path[0] == '':\n",
            "/usr/local/lib/python3.6/dist-packages/ipykernel_launcher.py:22: UserWarning: The argument 'neighbors' is deprecated and will be removed in scikit-image 0.18, use 'connectivity' instead. For neighbors=8, use connectivity=2\n"
          ]
        },
        {
          "name": "stdout",
          "output_type": "stream",
          "text": [
            "/content/WritingRecognition/old_data_english/training/training1.png\n",
            "Does THIS FILE HAVE CORRECT NUM OF CHARACTERS\n",
            "for a english training or testing document?\n",
            "True\n"
          ]
        },
        {
          "name": "stderr",
          "output_type": "stream",
          "text": [
            "/usr/local/lib/python3.6/dist-packages/ipykernel_launcher.py:36: DeprecationWarning: `imsave` is deprecated!\n",
            "`imsave` is deprecated in SciPy 1.0.0, and will be removed in 1.2.0.\n",
            "Use ``imageio.imwrite`` instead.\n"
          ]
        },
        {
          "name": "stdout",
          "output_type": "stream",
          "text": [
            "/content/WritingRecognition/old_data_english/training/training3.png\n",
            "Does THIS FILE HAVE CORRECT NUM OF CHARACTERS\n",
            "for a english training or testing document?\n",
            "True\n",
            "/content/WritingRecognition/old_data_english/training/training5.png\n",
            "Does THIS FILE HAVE CORRECT NUM OF CHARACTERS\n",
            "for a english training or testing document?\n",
            "True\n",
            "/content/WritingRecognition/old_data_english/training/training6.png\n",
            "Does THIS FILE HAVE CORRECT NUM OF CHARACTERS\n",
            "for a english training or testing document?\n",
            "True\n",
            "/content/WritingRecognition/NEW_DATA_english/training/train1-1.png\n",
            "Does THIS FILE HAVE CORRECT NUM OF CHARACTERS\n",
            "for a english training or testing document?\n",
            "True\n",
            "/content/WritingRecognition/NEW_DATA_english/training/train2-1.png\n",
            "Does THIS FILE HAVE CORRECT NUM OF CHARACTERS\n",
            "for a english training or testing document?\n",
            "True\n",
            "/content/WritingRecognition/NEW_DATA_english/training/train3-1.png\n",
            "Does THIS FILE HAVE CORRECT NUM OF CHARACTERS\n",
            "for a english training or testing document?\n",
            "True\n",
            "/content/WritingRecognition/NEW_DATA_english/training/train4-1.png\n",
            "Does THIS FILE HAVE CORRECT NUM OF CHARACTERS\n",
            "for a english training or testing document?\n",
            "True\n",
            "/content/WritingRecognition/NEW_DATA_english/training/train5-1.png\n",
            "Does THIS FILE HAVE CORRECT NUM OF CHARACTERS\n",
            "for a english training or testing document?\n",
            "True\n",
            "/content/WritingRecognition/NEW_DATA_english/training/train6-1.png\n",
            "Does THIS FILE HAVE CORRECT NUM OF CHARACTERS\n",
            "for a english training or testing document?\n",
            "True\n",
            "10.73822832107544 seconds\n"
          ]
        }
      ],
      "source": [
        "#%xmode Verbose\n",
        "#extracts the training data from the pages into apprropreate folders for each character\n",
        "start_time = time.time()\n",
        "extract = Extract_Letters()\n",
        "\n",
        "training_files = []\n",
        "#Extended training sets\n",
        "new_training_files = ['/content/WritingRecognition/NEW_DATA_english/training/train1-1.png','/content/WritingRecognition/NEW_DATA_english/training/train2-1.png', '/content/WritingRecognition/NEW_DATA_english/training/train3-1.png','/content/WritingRecognition/NEW_DATA_english/training/train4-1.png' ,'/content/WritingRecognition/NEW_DATA_english/training/train5-1.png', '/content/WritingRecognition/NEW_DATA_english/training/train6-1.png']\n",
        "\n",
        "#training_files.append('/content/drive/My Drive/Colab Notebooks/WritingRecognition/ocr/training/training2.png')#these 2 arent correctly detected by bounding boxes.\n",
        "#training_files.append('/content/drive/My Drive/Colab Notebooks/WritingRecognition/ocr/training/training4.png')# so they are not included\n",
        "\n",
        "training_files.append('/content/WritingRecognition/old_data_english/training/training1.png') \n",
        "training_files.append('/content/WritingRecognition/old_data_english/training/training3.png')\n",
        "training_files.append('/content/WritingRecognition/old_data_english/training/training5.png')\n",
        "training_files.append('/content/WritingRecognition/old_data_english/training/training6.png')\n",
        "\n",
        "training_files.extend(new_training_files)\n",
        "\n",
        "print(training_files)\n",
        "   \n",
        "folder_string = 'abcdefghijklmnopqrstuvwxyzabcdefghijklmnopqrstuvwxyz123456789'#folder to put the extracted letter in, dependant on the order.\n",
        "name_counter = 1\n",
        "for files in training_files:#for each file in training data folder\n",
        "    letters = extract.extractFile(files,\"english\")#for each file run letter extraction\n",
        "\n",
        "    string_counter = 0\n",
        "    for i in letters:#for each letter in the file\n",
        "        if string_counter > 60:#loop back at the end\n",
        "            string_counter = 0\n",
        "        #saves image to training type folder as a snippit\n",
        "        #print('/content/drive/My Drive/Colab Notebooks/WritingRecognition/training_type/' + str(folder_string[string_counter]) + '/' + str(name_counter) + '_snippet.png')\n",
        "        #print(i)\n",
        "        imsave('/content/WritingRecognition/training_snippets_english/' + str(folder_string[string_counter]) + '/' + str(name_counter) + '_snippet.png', i)\n",
        "\n",
        "        string_counter += 1\n",
        "        name_counter += 1\n",
        "\n",
        "print (time.time() - start_time, \"seconds\" )"
      ]
    },
    {
      "cell_type": "markdown",
      "metadata": {
        "colab_type": "text",
        "id": "LrxduQeHG4P8"
      },
      "source": [
        "# Create training dataset"
      ]
    },
    {
      "cell_type": "markdown",
      "metadata": {
        "colab_type": "text",
        "id": "0Ni_2lgM93Hc"
      },
      "source": [
        "SVM collection of data + labels & creation of a model:"
      ]
    },
    {
      "cell_type": "markdown",
      "metadata": {
        "colab_type": "text",
        "id": "zi39VDglHuzt"
      },
      "source": [
        "Takes the training snippets and takes the hog features of each creating a data array and a labels array"
      ]
    },
    {
      "cell_type": "code",
      "execution_count": 5,
      "metadata": {
        "colab": {},
        "colab_type": "code",
        "id": "7X-cGPMNkluX",
        "vscode": {
          "languageId": "python"
        }
      },
      "outputs": [],
      "source": [
        "import imageio\n",
        "from skimage.feature import peak_local_max, hog\n",
        "from sklearn import svm, datasets"
      ]
    },
    {
      "cell_type": "code",
      "execution_count": 60,
      "metadata": {
        "colab": {
          "base_uri": "https://localhost:8080/",
          "height": 689
        },
        "colab_type": "code",
        "id": "jdgY5LiYA-AW",
        "outputId": "0f69aae7-1a86-4c52-dbba-9120d7301698",
        "vscode": {
          "languageId": "python"
        }
      },
      "outputs": [
        {
          "name": "stdout",
          "output_type": "stream",
          "text": [
            "['h', '9', '1', '2', 'v', 'q', 'k', '4', '6', 'r', 'j', 's', 'g', 'f', 'a', 'l', 'y', 'z', '7', 'n', 'b', 'w', '8', 'x', 'i', 'd', '3', 'p', 'e', 'u', 'o', 't', 'm', '5', 'c']\n"
          ]
        },
        {
          "name": "stderr",
          "output_type": "stream",
          "text": [
            "/usr/local/lib/python3.6/dist-packages/ipykernel_launcher.py:15: DeprecationWarning: `imread` is deprecated!\n",
            "`imread` is deprecated in SciPy 1.0.0, and will be removed in 1.2.0.\n",
            "Use ``imageio.imread`` instead.\n",
            "  from ipykernel import kernelapp as app\n"
          ]
        },
        {
          "name": "stdout",
          "output_type": "stream",
          "text": [
            "Finished adding h samples to dataset\n",
            "Finished adding 9 samples to dataset\n",
            "Finished adding 1 samples to dataset\n",
            "Finished adding 2 samples to dataset\n",
            "Finished adding v samples to dataset\n",
            "Finished adding q samples to dataset\n",
            "Finished adding k samples to dataset\n",
            "Finished adding 4 samples to dataset\n",
            "Finished adding 6 samples to dataset\n",
            "Finished adding r samples to dataset\n",
            "Finished adding j samples to dataset\n",
            "Finished adding s samples to dataset\n",
            "Finished adding g samples to dataset\n",
            "Finished adding f samples to dataset\n",
            "Finished adding a samples to dataset\n",
            "Finished adding l samples to dataset\n",
            "Finished adding y samples to dataset\n",
            "Finished adding z samples to dataset\n",
            "Finished adding 7 samples to dataset\n",
            "Finished adding n samples to dataset\n",
            "Finished adding b samples to dataset\n",
            "Finished adding w samples to dataset\n",
            "Finished adding 8 samples to dataset\n",
            "Finished adding x samples to dataset\n",
            "Finished adding i samples to dataset\n",
            "Finished adding d samples to dataset\n",
            "Finished adding 3 samples to dataset\n",
            "Finished adding p samples to dataset\n",
            "Finished adding e samples to dataset\n",
            "Finished adding u samples to dataset\n",
            "Finished adding o samples to dataset\n",
            "Finished adding t samples to dataset\n",
            "Finished adding m samples to dataset\n",
            "Finished adding 5 samples to dataset\n",
            "Finished adding c samples to dataset\n"
          ]
        }
      ],
      "source": [
        "#paths for the training samples ------------ have 1 per character\n",
        "import os\n",
        "base_dir = \"/content/WritingRecognition/training_snippets_english/\"#parent dir\n",
        "dir_names = next(os.walk(base_dir))[1]#list of sub dir\n",
        "print (dir_names)\n",
        "\n",
        "#returns a list of the file names in the directory\n",
        "def file_names(path):\n",
        "  return sorted([filename for filename in os.listdir(path) if  filename.endswith('.png') ])\n",
        "#-----------------------------------------------------------------------\n",
        "#fill the training dataset\n",
        "#filenames array, label you want the character to have\n",
        "def file_name_hog_features(filenames, label):#creates dataset with hogfeatures of the images + labels \n",
        "  for filename in filenames:\n",
        "    image = imread(filename)\n",
        "    hog_features = hog(image, orientations=12, pixels_per_cell=(2, 2), cells_per_block=(1, 1))#hog features\n",
        "    data.append(hog_features)\n",
        "    labels.append(label)\n",
        "  print('Finished adding %s samples to dataset'%(label))\n",
        "\n",
        "data = []\n",
        "labels = []\n",
        "\n",
        "#for each directory add the hog features of the imgs and label them appropreatly\n",
        "for dir_name in dir_names:\n",
        "  #print(base_dir + dir_name)\n",
        "  FILENAMES = file_names(base_dir + dir_name)#get file name list for the directory\n",
        "  #add the full path to all the filenames\n",
        "  FILENAMES = [base_dir + dir_name + \"/\" + filename for filename in FILENAMES]\n",
        "  #print(FILENAMES)\n",
        "  file_name_hog_features(FILENAMES, dir_name)\n"
      ]
    },
    {
      "cell_type": "markdown",
      "metadata": {
        "colab_type": "text",
        "id": "CoAGxXldIHsq"
      },
      "source": [
        "# Create testing data "
      ]
    },
    {
      "cell_type": "markdown",
      "metadata": {
        "colab_type": "text",
        "id": "QgI5prcoIR3O"
      },
      "source": [
        "create snippets and take the hog features of them, creating a testing data array and testing data labels array"
      ]
    },
    {
      "cell_type": "code",
      "execution_count": 7,
      "metadata": {
        "colab": {
          "base_uri": "https://localhost:8080/",
          "height": 386
        },
        "colab_type": "code",
        "id": "gamfiFGq7aG5",
        "outputId": "9e3379af-2a7c-41ef-e1d1-13f60d9b5a92",
        "vscode": {
          "languageId": "python"
        }
      },
      "outputs": [
        {
          "name": "stdout",
          "output_type": "stream",
          "text": [
            "Extracting characters...\n"
          ]
        },
        {
          "name": "stderr",
          "output_type": "stream",
          "text": [
            "/usr/local/lib/python3.6/dist-packages/ipykernel_launcher.py:12: DeprecationWarning: `imread` is deprecated!\n",
            "`imread` is deprecated in SciPy 1.0.0, and will be removed in 1.2.0.\n",
            "Use ``imageio.imread`` instead.\n",
            "  if sys.path[0] == '':\n",
            "/usr/local/lib/python3.6/dist-packages/ipykernel_launcher.py:22: UserWarning: The argument 'neighbors' is deprecated and will be removed in scikit-image 0.18, use 'connectivity' instead. For neighbors=8, use connectivity=2\n"
          ]
        },
        {
          "name": "stdout",
          "output_type": "stream",
          "text": [
            "/content/WritingRecognition/NEW_DATA_english/testing/test1-1.png\n",
            "Does THIS FILE HAVE CORRECT NUM OF CHARACTERS\n",
            "for a english training or testing document?\n",
            "True\n"
          ]
        },
        {
          "name": "stderr",
          "output_type": "stream",
          "text": [
            "/usr/local/lib/python3.6/dist-packages/ipykernel_launcher.py:23: DeprecationWarning: `imsave` is deprecated!\n",
            "`imsave` is deprecated in SciPy 1.0.0, and will be removed in 1.2.0.\n",
            "Use ``imageio.imwrite`` instead.\n"
          ]
        },
        {
          "name": "stdout",
          "output_type": "stream",
          "text": [
            "/content/WritingRecognition/NEW_DATA_english/testing/test2-1.png\n",
            "Does THIS FILE HAVE CORRECT NUM OF CHARACTERS\n",
            "for a english training or testing document?\n",
            "True\n",
            "/content/WritingRecognition/NEW_DATA_english/testing/test3-1.png\n",
            "Does THIS FILE HAVE CORRECT NUM OF CHARACTERS\n",
            "for a english training or testing document?\n",
            "True\n",
            "2.6696040630340576 seconds\n"
          ]
        }
      ],
      "source": [
        "# Extract training data from training images.\n",
        "import time\n",
        "start_time = time.time()\n",
        "extract = Extract_Letters()\n",
        "\n",
        "training_files = []\n",
        "\n",
        "training_files.append(\"/content/WritingRecognition/NEW_DATA_english/testing/test1-1.png\")#my created testing data pages\n",
        "training_files.append(\"/content/WritingRecognition/NEW_DATA_english/testing/test2-1.png\")\n",
        "training_files.append(\"/content/WritingRecognition/NEW_DATA_english/testing/test3-1.png\")\n",
        "\n",
        "folder_string = 'abcdefghijklmnopqrstuvwxyzabcdefghijklmnopqrstuvwxyz123456789'\n",
        "name_counter = 1\n",
        "for files in training_files:#for each file in training data folder\n",
        "    letters = extract.extractFile(files, \"english\")#for each file run letter extraction\n",
        "\n",
        "    string_counter = 0\n",
        "    for i in letters:#for each letter in the file\n",
        "        if string_counter > 60:\n",
        "            string_counter = 0\n",
        "        #saves image to training type folder as a snippit\n",
        "\n",
        "        imsave('/content/WritingRecognition/test_snippets_english/' + str(folder_string[string_counter]) + '/' + str(name_counter) + '_snippet.png', i)\n",
        "\n",
        "        string_counter += 1\n",
        "        name_counter += 1\n",
        "\n",
        "print (time.time() - start_time, \"seconds\" )#test characters extracted"
      ]
    },
    {
      "cell_type": "code",
      "execution_count": 61,
      "metadata": {
        "colab": {
          "base_uri": "https://localhost:8080/",
          "height": 672
        },
        "colab_type": "code",
        "id": "rDc7_a6kOmBv",
        "outputId": "a054af77-4ab5-4b51-b696-03cfdb95e36f",
        "vscode": {
          "languageId": "python"
        }
      },
      "outputs": [
        {
          "name": "stdout",
          "output_type": "stream",
          "text": [
            "['h', '9', '1', '2', 'v', 'q', 'k', '4', '6', 'r', 'j', 's', 'g', 'f', 'a', 'l', 'y', 'z', '7', 'n', 'b', 'w', '8', 'x', 'i', 'd', '3', 'p', 'e', 'u', 'o', 't', 'm', '5', 'c']\n",
            "Finished adding h samples to dataset\n"
          ]
        },
        {
          "name": "stderr",
          "output_type": "stream",
          "text": [
            "/usr/local/lib/python3.6/dist-packages/ipykernel_launcher.py:17: DeprecationWarning: `imread` is deprecated!\n",
            "`imread` is deprecated in SciPy 1.0.0, and will be removed in 1.2.0.\n",
            "Use ``imageio.imread`` instead.\n"
          ]
        },
        {
          "name": "stdout",
          "output_type": "stream",
          "text": [
            "Finished adding 9 samples to dataset\n",
            "Finished adding 1 samples to dataset\n",
            "Finished adding 2 samples to dataset\n",
            "Finished adding v samples to dataset\n",
            "Finished adding q samples to dataset\n",
            "Finished adding k samples to dataset\n",
            "Finished adding 4 samples to dataset\n",
            "Finished adding 6 samples to dataset\n",
            "Finished adding r samples to dataset\n",
            "Finished adding j samples to dataset\n",
            "Finished adding s samples to dataset\n",
            "Finished adding g samples to dataset\n",
            "Finished adding f samples to dataset\n",
            "Finished adding a samples to dataset\n",
            "Finished adding l samples to dataset\n",
            "Finished adding y samples to dataset\n",
            "Finished adding z samples to dataset\n",
            "Finished adding 7 samples to dataset\n",
            "Finished adding n samples to dataset\n",
            "Finished adding b samples to dataset\n",
            "Finished adding w samples to dataset\n",
            "Finished adding 8 samples to dataset\n",
            "Finished adding x samples to dataset\n",
            "Finished adding i samples to dataset\n",
            "Finished adding d samples to dataset\n",
            "Finished adding 3 samples to dataset\n",
            "Finished adding p samples to dataset\n",
            "Finished adding e samples to dataset\n",
            "Finished adding u samples to dataset\n",
            "Finished adding o samples to dataset\n",
            "Finished adding t samples to dataset\n",
            "Finished adding m samples to dataset\n",
            "Finished adding 5 samples to dataset\n",
            "Finished adding c samples to dataset\n"
          ]
        }
      ],
      "source": [
        "#now create dataset with them.\n",
        "from skimage.feature import peak_local_max, hog\n",
        "# SVM\n",
        "#paths for the training samples ------------ have 1 per character\n",
        "base_dir = \"/content/WritingRecognition/test_snippets_english/\"\n",
        "dir_names = next(os.walk(base_dir))[1]\n",
        "print (dir_names)\n",
        "\n",
        "#returns a list of the file names in the directory\n",
        "def file_names(path):\n",
        "  return sorted([filename for filename in os.listdir(path) if  filename.endswith('.png') ])\n",
        "#-----------------------------------------------------------------------\n",
        "#fill the training dataset\n",
        "#filenames array, label you want the character to have\n",
        "def file_name_hog_features(filenames, label):\n",
        "  for filename in filenames:\n",
        "    image = imread(filename)\n",
        "    #image = resize(image, (20,20)) #pix per cell :(\n",
        "    hog_features = hog(image, orientations=12, pixels_per_cell=(2, 2), cells_per_block=(1, 1))\n",
        "    test_data.append(hog_features)\n",
        "    test_labels.append(label)\n",
        "  print('Finished adding %s samples to dataset'%(label))\n",
        "\n",
        "test_data = []\n",
        "test_labels = []\n",
        "\n",
        "#for each directory add the hog features of the imgs and label them appropreatly\n",
        "for dir_name in dir_names:\n",
        "  #print(base_dir + dir_name)\n",
        "  FILENAMES = file_names(base_dir + dir_name)#get file name list for the directory\n",
        "  #add the full path to all the filenames\n",
        "  FILENAMES = [base_dir + dir_name + \"/\" + filename for filename in FILENAMES]\n",
        "  #print(FILENAMES)\n",
        "  file_name_hog_features(FILENAMES, dir_name)"
      ]
    },
    {
      "cell_type": "markdown",
      "metadata": {
        "colab_type": "text",
        "id": "YGwvR8e3IBO_"
      },
      "source": [
        "# Training the methods(SVM + KNN)"
      ]
    },
    {
      "cell_type": "code",
      "execution_count": 62,
      "metadata": {
        "colab": {
          "base_uri": "https://localhost:8080/",
          "height": 50
        },
        "colab_type": "code",
        "id": "BSg4OuOXHDLY",
        "outputId": "aa782fa8-5536-4da1-ecfc-ce6a8b13c636",
        "vscode": {
          "languageId": "python"
        }
      },
      "outputs": [
        {
          "name": "stdout",
          "output_type": "stream",
          "text": [
            "Training the SVM\n",
            "[LibLinear][LibLinear][LibLinear][LibLinear][LibLinear][LibLinear]Accuracy: 0.95 (+/- 0.05)\n"
          ]
        }
      ],
      "source": [
        "from sklearn.svm import LinearSVC\n",
        "from sklearn.model_selection import cross_val_score\n",
        "print('Training the SVM')\n",
        "svm_clf = LinearSVC(dual=False,verbose=1)#create the SVC (linear)\n",
        "svm_clf.fit(data, labels)#train the svm with the data provided.\n",
        "\n",
        "scores = cross_val_score(svm_clf, data, labels, cv=5)\n",
        "print(\"Accuracy: %0.2f (+/- %0.2f)\" % (scores.mean(), scores.std() * 2))#cross validation score"
      ]
    },
    {
      "cell_type": "code",
      "execution_count": 63,
      "metadata": {
        "colab": {
          "base_uri": "https://localhost:8080/",
          "height": 50
        },
        "colab_type": "code",
        "id": "PAookbCO0Q6q",
        "outputId": "c1820197-0109-4299-dc11-4d985a388012",
        "vscode": {
          "languageId": "python"
        }
      },
      "outputs": [
        {
          "name": "stdout",
          "output_type": "stream",
          "text": [
            "Training the KNN\n",
            "Accuracy: 0.89 (+/- 0.07)\n"
          ]
        }
      ],
      "source": [
        "#KNN\n",
        "from sklearn.neighbors import KNeighborsClassifier\n",
        "print('Training the KNN')\n",
        "knn_clf = KNeighborsClassifier(n_jobs=-1, weights='distance', n_neighbors=2)\n",
        "knn_clf.fit(data, labels)\n",
        "\n",
        "scores = cross_val_score(knn_clf, data, labels, cv=5)\n",
        "print(\"Accuracy: %0.2f (+/- %0.2f)\" % (scores.mean(), scores.std() * 2))#cross validation score"
      ]
    },
    {
      "cell_type": "markdown",
      "metadata": {
        "colab_type": "text",
        "id": "qR1IDz8GIVeU"
      },
      "source": [
        "# Testing & accuracy"
      ]
    },
    {
      "cell_type": "code",
      "execution_count": 64,
      "metadata": {
        "colab": {},
        "colab_type": "code",
        "id": "9DnHlNez_t2D",
        "vscode": {
          "languageId": "python"
        }
      },
      "outputs": [],
      "source": [
        "from sklearn import metrics\n",
        "\n",
        "test_predict_svm =[]#predicted labels for the test data\n",
        "test_predict_knn =[]\n",
        "\n",
        "#test each prediction method to gen predicted labels for the test data\n",
        "for ele in test_data:\n",
        "  result_type_svm = svm_clf.predict(ele.reshape(1,-1))\n",
        "  test_predict_svm.append(result_type_svm)#add svm predictions\n",
        "\n",
        "  result_type_KNN = knn_clf.predict(ele.reshape(1,-1))\n",
        "  test_predict_knn.append(result_type_KNN)#add knn predictions"
      ]
    },
    {
      "cell_type": "code",
      "execution_count": 65,
      "metadata": {
        "colab": {
          "base_uri": "https://localhost:8080/",
          "height": 50
        },
        "colab_type": "code",
        "id": "Qk0TqLA9N7mE",
        "outputId": "3d266824-5480-4295-ba9d-c876e2d86d91",
        "vscode": {
          "languageId": "python"
        }
      },
      "outputs": [
        {
          "name": "stdout",
          "output_type": "stream",
          "text": [
            "SVM accuracy Score with test data: \n",
            "Accuracy: 0.97 (+/- 0.00)\n"
          ]
        }
      ],
      "source": [
        "print(\"SVM accuracy Score with test data: \")\n",
        "scores = metrics.accuracy_score(test_labels, test_predict_svm, normalize=True)\n",
        "print(\"Accuracy: %0.2f (+/- %0.2f)\" % (scores.mean(), scores.std() * 2))"
      ]
    },
    {
      "cell_type": "code",
      "execution_count": 66,
      "metadata": {
        "colab": {
          "base_uri": "https://localhost:8080/",
          "height": 924
        },
        "colab_type": "code",
        "id": "193TWdB5_y2v",
        "outputId": "49da9fc9-8aef-43f6-84fd-5faeac701644",
        "vscode": {
          "languageId": "python"
        }
      },
      "outputs": [
        {
          "data": {
            "text/plain": [
              "<sklearn.metrics._plot.confusion_matrix.ConfusionMatrixDisplay at 0x7f2441240438>"
            ]
          },
          "execution_count": 66,
          "metadata": {
            "tags": []
          },
          "output_type": "execute_result"
        },
        {
          "data": {
            "image/png": "[encoded data removed]",
            "text/plain": [
              "<Figure size 1152x1152 with 2 Axes>"
            ]
          },
          "metadata": {
            "needs_background": "light",
            "tags": []
          },
          "output_type": "display_data"
        }
      ],
      "source": [
        "from sklearn.metrics import plot_confusion_matrix\n",
        "fig, ax = plt.subplots(ncols=1, nrows=1, figsize=(16, 16))\n",
        "plot_confusion_matrix(svm_clf, test_data, test_labels, ax=ax)"
      ]
    },
    {
      "cell_type": "code",
      "execution_count": 67,
      "metadata": {
        "colab": {
          "base_uri": "https://localhost:8080/",
          "height": 50
        },
        "colab_type": "code",
        "id": "R41oGHRON50I",
        "outputId": "511da921-fafe-45a2-a1d1-cd56bd41562f",
        "vscode": {
          "languageId": "python"
        }
      },
      "outputs": [
        {
          "name": "stdout",
          "output_type": "stream",
          "text": [
            "KNN accuracy Score with test data: \n",
            "Accuracy: 0.95 (+/- 0.00)\n"
          ]
        }
      ],
      "source": [
        "print(\"KNN accuracy Score with test data: \")\n",
        "scores = metrics.accuracy_score(test_labels, test_predict_knn, normalize=True)\n",
        "print(\"Accuracy: %0.2f (+/- %0.2f)\" % (scores.mean(), scores.std() * 2))"
      ]
    },
    {
      "cell_type": "code",
      "execution_count": 68,
      "metadata": {
        "colab": {
          "base_uri": "https://localhost:8080/",
          "height": 924
        },
        "colab_type": "code",
        "id": "gVkOevd2_wkA",
        "outputId": "920068a5-e44d-476b-af48-d35740caa7a6",
        "vscode": {
          "languageId": "python"
        }
      },
      "outputs": [
        {
          "data": {
            "text/plain": [
              "<sklearn.metrics._plot.confusion_matrix.ConfusionMatrixDisplay at 0x7f24902ba0f0>"
            ]
          },
          "execution_count": 68,
          "metadata": {
            "tags": []
          },
          "output_type": "execute_result"
        },
        {
          "data": {
            "image/png": "[encoded data removed]",
            "text/plain": [
              "<Figure size 1152x1152 with 2 Axes>"
            ]
          },
          "metadata": {
            "needs_background": "light",
            "tags": []
          },
          "output_type": "display_data"
        }
      ],
      "source": [
        "fig, ax = plt.subplots(ncols=1, nrows=1, figsize=(16, 16))\n",
        "plot_confusion_matrix(knn_clf, test_data, test_labels, ax=ax)"
      ]
    },
    {
      "cell_type": "markdown",
      "metadata": {
        "colab_type": "text",
        "id": "kNS7Y6AYHK1e"
      },
      "source": [
        "# Test letter recognition on a page"
      ]
    },
    {
      "cell_type": "markdown",
      "metadata": {
        "colab_type": "text",
        "id": "K4f_Dvi_-FAq"
      },
      "source": [
        "Extract document testing data from pages in same way & have SVM model predict each letter extracted:"
      ]
    },
    {
      "cell_type": "code",
      "execution_count": 81,
      "metadata": {
        "colab": {
          "base_uri": "https://localhost:8080/",
          "height": 238
        },
        "colab_type": "code",
        "id": "m9av8cfzBWuO",
        "outputId": "242d4424-5bed-4ec3-cf7a-090fcffabb1c",
        "vscode": {
          "languageId": "python"
        }
      },
      "outputs": [
        {
          "name": "stdout",
          "output_type": "stream",
          "text": [
            "Extracting characters...\n"
          ]
        },
        {
          "name": "stderr",
          "output_type": "stream",
          "text": [
            "/usr/local/lib/python3.6/dist-packages/ipykernel_launcher.py:12: DeprecationWarning: `imread` is deprecated!\n",
            "`imread` is deprecated in SciPy 1.0.0, and will be removed in 1.2.0.\n",
            "Use ``imageio.imread`` instead.\n",
            "  if sys.path[0] == '':\n",
            "/usr/local/lib/python3.6/dist-packages/ipykernel_launcher.py:22: UserWarning: The argument 'neighbors' is deprecated and will be removed in scikit-image 0.18, use 'connectivity' instead. For neighbors=8, use connectivity=2\n"
          ]
        },
        {
          "name": "stdout",
          "output_type": "stream",
          "text": [
            "/content/WritingRecognition/old_data_english/testing/shazam.png\n",
            "141.75899267196655 seconds\n",
            "svm page interpretation: \n",
            "nvididsgrdphicschipsarentusedjustforgamesdnymoresincethecompdnymadeitschipsproyrammabietheyaretakingonfunctionsthdtinteimicroprocessorsdoandmorethdnevertheydrebeinyusedforbiyddtanumbercrunchinydndsoivingprobiemsthatpreviousiyhadtobedonebynongraphicssupercomputersjenhsunhudngkpicturedjchiefexecutiveofnvidiasdidinakeynotespeechatthecompanysgputechconferencethattopenterpriseandmobiieappcompaniesdreusinygpuskyrdphicsprocessingunitsjtohdndiebiydatadnaiyticsadvdncesedrchdndtasksiikefdcerecognitiontheseappiicationsarespreaddcrossthecommerciaidndconsumerspacescustomerswhoareusinynvidiagpusinserversmadebycomputermdkersinciudeshdzdmsdiesforcecomandcortexicatheydreusingnvidiatesidgpusforcomputingtdsksbeyondtrdditiondiyraphicsprocessinytheprobiemsathandinciudedudiosearchsuchdsshdzamsservicethatteiisyouwhdtsongyoureiisteninytoontherddiogpusendbieustohandieourtremendousprocessingneedsatdsubstdntidicostsdvinysdeiiveringtwicetheperformdnceperdoiiarcompdredtoacpubasedsystemsdidjasontituschieftechnoiogyofficerofshdzdmentertainmentwedreaddingmiiiionsofvideodndforeignianyuagedudiotrdckstoourexistingservicesdndgpuacceierdtorsyiveusawaytoachievescaiabiegrowthshazamcanidentifytheacousticfingerprintofsonysfroma27miiiiontrdckddtabaseandthenserveanswersto3oomiiiionuserspeopiearedoiny1omiiiionsonysearchesaday\n",
            "knn page interpretation: \n",
            "nvid1asgraphicschipsdrentusedjustforgdmesanymoresinlethelcmpanymdde1tslh1psproyrdmmdb1etheydretdkingcnfunlticnsthat1nte1m1lrcprccessorsdcandmcrethanevertheyarebe1nyusedforbiydatdnumberlrunlh1nyandscivingprobiemsthdtprev1ous1yhddtcbedcnebyncngrdphicssupercomputersjenhsunhuangipicturedjlh1efexelutivecfnvididsaidindkeynotespeechdtthelompdnysgputelhlcnferencethdttcpenterpr1sedndmcb1iedppcompdniesareus1nygpjslyraphicsprcless1ngunitsjtchandieb1yddtdandiyt1lsddvancesearchandtdsksiikefalereccgn1tionthesedpp11ldt1cnsdrespreddalrossthelcmmercidiandconsumerspdcescustomerswhcdreus1nynv1didgpusinserversmddebylcmputermakers1nl1udeshazamsa1esfcrcecomdndcortex1cdtheyareusingnvid1dtes1agpjsfcrcomput1ngtasksbeycndtrad1tiona1yrdphicsproless1nytheprcbiemsdthdnd1nc1udeaud1osedrlhsulhasshazdmsserv1lethdttei1sycuwhatscngyoure11sten1nytoontheradicgpusenabieustchdnd1eourtremendcusprcless1ngneedsdtasubstant1a1costsav1nysdeiiveringtwicetheperfcrmanleperdoiidrlcmparedtcdcpjbdsedsystemsa1djdscnt1tuschieftechncicgyofficercfshazamentertdinmentwearedddingmiiiicnscfvidecandforeignidnyudgeaudiotralkstocurexist1ngserv1lesandgpudlceieratorsyiveusdwdytcdch1evescdidb1egrowthshdzdmcdn1dent1fythedcoust1cfingerpr1ntcfsonysfromd27m1111ontralkdatdbdsedndthenservednswerstc3oomiiiicnuserspeop1edredoiny1omiiiionscnysedrlhesdddy\n"
          ]
        }
      ],
      "source": [
        "#have each letter classifed and its classification added to a list then printed out, then have this list split appart for each word (in the case of perfect classfication).\n",
        "# Extract letters from page\n",
        "start_time = time.time()\n",
        "extract = Extract_Letters()\n",
        "\n",
        "letters_in_doc_svm = []\n",
        "letters_in_doc_knn = []\n",
        "\n",
        "letters = extract.extractFile(\"/content/WritingRecognition/old_data_english/testing/shazam.png\", \"defualt\")#test document\n",
        "\n",
        "for i in letters:#for each letter in the file    \n",
        "  hog_features = hog(i, orientations=12, pixels_per_cell=(2, 2), cells_per_block=(1, 1))\n",
        "  result_type_svm = svm_clf.predict(hog_features.reshape(1,-1))\n",
        "  result_type_knn = knn_clf.predict(hog_features.reshape(1,-1))\n",
        "  letters_in_doc_svm.append(result_type_svm)\n",
        "  letters_in_doc_knn.append(result_type_knn)\n",
        "  \n",
        "doc_svm = \"\"\n",
        "doc_knn = \"\"\n",
        "print (time.time() - start_time, \"seconds\" )\n",
        "for ele in letters_in_doc_svm:#num should be the same\n",
        "  doc_svm+=(ele[0])#gets just the predicted character and adds it to the string\n",
        "for ele in letters_in_doc_knn:\n",
        "  doc_knn+=(ele[0])\n",
        "\n",
        "print(\"svm page interpretation: \")\n",
        "print(doc_svm)\n",
        "print(\"knn page interpretation: \")\n",
        "print(doc_knn)"
      ]
    },
    {
      "cell_type": "code",
      "execution_count": 83,
      "metadata": {
        "colab": {
          "base_uri": "https://localhost:8080/",
          "height": 50
        },
        "colab_type": "code",
        "id": "3Zjkra8nGRK1",
        "outputId": "4fea5222-d99f-4ae8-d174-23021cb94598",
        "vscode": {
          "languageId": "python"
        }
      },
      "outputs": [
        {
          "name": "stdout",
          "output_type": "stream",
          "text": [
            "Accuracy: 0.23 (+/- 0.00)\n",
            "Accuracy: 0.21 (+/- 0.00)\n"
          ]
        }
      ],
      "source": [
        "#extreamly rough estimation (relient on correct order and character, easily bad if a character isnt extracted or an extra is) - to use this it is fairly required to check that the correct number of bounding boxes are being detected on the test document before testing.\n",
        "real_string = list(\"nvidiasgraphicschipsarentusedjustforgamesanymoresincethecompanymadeitschipsprogrammabletheyaretakingonfunctionsthatintelmicroprocessorsdoandmorethanevertheyarebeingusedforbigdatanumbercrunchingandsolvingproblemsthatpreviouslyhadtobedonebynongraphicssupercomputersjenhsunhuangpicturedchiefexecutiveofnvidiasaidinakeynotespeechatthecompanysgputechconferencethattopenterpriseandmobileappcompaniesareusinggpusgraphicsprocessingunitstohandlebigdataanalyticsadvancesearchandtaskslikefacerecognitiontheseapplicationsarespreadacrossthecommercialandconsumerspacescustomerswhoareusingnvidiagpusinserversmadebycomputermakersincludeshazamsalesforcecomandcortexicatheyareusingnvidiateslagpusforcomputingtasksbeyondtraditionalgraphicsprocessingtheproblemsathandincludeaudiosearchsuchasshazamsservicethattellsyouwhatsongyourelisteningtoontheradiogpusenableustohandleourtremendousprocessingneedsatasubstantialcostsavingsdeliveringtwicetheperformanceperdollarcomparedtoacpubasedsystemsaidjasontituschieftechnologyofficerofshazamentertainmentweareaddingmillionsofvideoandforeignlanguageaudiotrackstoourexistingservicesandgpuacceleratorsgiveusawaytoachievescalablegrowthshazamcanidentifytheacousticfingerprintofsongsfroma27milliontrackdatabaseandthenserveanswersto300millionuserspeoplearedoing10millionsongsearchesaday\")\n",
        "doc_svm= list(doc_svm)\n",
        "doc_knn= list(doc_knn)\n",
        "\n",
        "diff_len_svm = (len(real_string) - len(doc_svm))#diff in len\n",
        "\n",
        "diff_len_KNN = (len(real_string) - len(doc_knn))\n",
        "\n",
        "if(diff_len_svm>0):#if too few\n",
        "  for i in range (-diff_len_svm):\n",
        "    doc_svm+=\"0\"#fill with zeros that are not part of this classfication model\n",
        "if(diff_len_svm<0): #if too many\n",
        "  doc_svm = doc_svm[:len(doc_svm)+diff_len_svm]#remove any extra\n",
        "\n",
        "#do the same for knn\n",
        "if(diff_len_KNN>0):\n",
        "  for i in range (-diff_len_KNN):\n",
        "    doc_knn+=\"0\"\n",
        "if(diff_len_KNN<0): \n",
        "  doc_knn = doc_knn[:len(doc_knn)+diff_len_KNN]\n",
        "  #remove any extra\n",
        "\n",
        "scores = metrics.accuracy_score(real_string, doc_svm, normalize=True)\n",
        "print(\"Accuracy: %0.2f (+/- %0.2f)\" % (scores.mean(), scores.std() * 2))\n",
        "\n",
        "scores = metrics.accuracy_score(real_string, doc_knn, normalize=True)\n",
        "print(\"Accuracy: %0.2f (+/- %0.2f)\" % (scores.mean(), scores.std() * 2))"
      ]
    },
    {
      "cell_type": "markdown",
      "metadata": {
        "colab_type": "text",
        "id": "JPt8VT4yHyzD"
      },
      "source": [
        "# Second language (Greek) (lowercase)"
      ]
    },
    {
      "cell_type": "markdown",
      "metadata": {
        "colab_type": "text",
        "id": "KOjnb6r3IMoZ"
      },
      "source": [
        "Extract the letters to train: run the extract letters class before this"
      ]
    },
    {
      "cell_type": "code",
      "execution_count": 117,
      "metadata": {
        "colab": {
          "base_uri": "https://localhost:8080/",
          "height": 423
        },
        "colab_type": "code",
        "id": "Z1i9ux2SH6Zz",
        "outputId": "2e3a0da5-d8eb-40cf-a9fb-b1523899fe0a",
        "vscode": {
          "languageId": "python"
        }
      },
      "outputs": [
        {
          "name": "stdout",
          "output_type": "stream",
          "text": [
            "Extracting characters...\n",
            "['/content/WritingRecognition/Greek_data_train/lowercase/greek letters 1-1.png', '/content/WritingRecognition/Greek_data_train/lowercase/greek letters 2-1.png', '/content/WritingRecognition/Greek_data_train/lowercase/greek letters 3-1.png']\n"
          ]
        },
        {
          "name": "stderr",
          "output_type": "stream",
          "text": [
            "/usr/local/lib/python3.6/dist-packages/ipykernel_launcher.py:12: DeprecationWarning: `imread` is deprecated!\n",
            "`imread` is deprecated in SciPy 1.0.0, and will be removed in 1.2.0.\n",
            "Use ``imageio.imread`` instead.\n",
            "  if sys.path[0] == '':\n",
            "/usr/local/lib/python3.6/dist-packages/ipykernel_launcher.py:22: UserWarning: The argument 'neighbors' is deprecated and will be removed in scikit-image 0.18, use 'connectivity' instead. For neighbors=8, use connectivity=2\n"
          ]
        },
        {
          "name": "stdout",
          "output_type": "stream",
          "text": [
            "/content/WritingRecognition/Greek_data_train/lowercase/greek letters 1-1.png\n",
            "Does THIS FILE HAVE CORRECT NUM OF CHARACTERS\n",
            "for a greek training or testing document?\n",
            "True\n"
          ]
        },
        {
          "name": "stderr",
          "output_type": "stream",
          "text": [
            "/usr/local/lib/python3.6/dist-packages/ipykernel_launcher.py:27: DeprecationWarning: `imsave` is deprecated!\n",
            "`imsave` is deprecated in SciPy 1.0.0, and will be removed in 1.2.0.\n",
            "Use ``imageio.imwrite`` instead.\n"
          ]
        },
        {
          "name": "stdout",
          "output_type": "stream",
          "text": [
            "/content/WritingRecognition/Greek_data_train/lowercase/greek letters 2-1.png\n",
            "Does THIS FILE HAVE CORRECT NUM OF CHARACTERS\n",
            "for a greek training or testing document?\n",
            "True\n",
            "/content/WritingRecognition/Greek_data_train/lowercase/greek letters 3-1.png\n",
            "Does THIS FILE HAVE CORRECT NUM OF CHARACTERS\n",
            "for a greek training or testing document?\n",
            "True\n",
            "1.2160003185272217 seconds\n"
          ]
        }
      ],
      "source": [
        "start_time = time.time()\n",
        "extract = Extract_Letters()\n",
        "\n",
        "#My created lowercase greek training files\n",
        "training_files = ['/content/WritingRecognition/Greek_data_train/lowercase/greek letters 1-1.png','/content/WritingRecognition/Greek_data_train/lowercase/greek letters 2-1.png','/content/WritingRecognition/Greek_data_train/lowercase/greek letters 3-1.png']\n",
        "\n",
        "print(training_files)\n",
        "   \n",
        "folder_string = 'αβγδεζηθικλμνξοπρστυφχψω'#new folders\n",
        "name_counter = 1\n",
        "for files in training_files:#for each file in training data folder\n",
        "    letters = extract.extractFile(files, \"greek\")#for each file run letter extraction\n",
        "    string_counter = 0\n",
        "    for i in letters:#for each letter in the file\n",
        "        if string_counter > 23:#new number of characters\n",
        "            string_counter = 0\n",
        "        #saves image to training type folder as a snippit\n",
        "        #print('/content/drive/My Drive/Colab Notebooks/WritingRecognition/training_type/' + str(folder_string[string_counter]) + '/' + str(name_counter) + '_snippet.png')\n",
        "        #print(i)\n",
        "        # #-----------------------------------show the image\n",
        "        # from PIL import Image\n",
        "        # import numpy as np\n",
        "        # from matplotlib import pyplot as plt\n",
        "        # plt.imshow(i, interpolation='nearest')\n",
        "        # plt.show()\n",
        "        # #-----------------------------------\n",
        "        imsave('/content/WritingRecognition/greek_train_snippets/' + str(folder_string[string_counter]) + '/' + str(name_counter) + '_snippet.png', i)\n",
        "\n",
        "        string_counter += 1\n",
        "        name_counter += 1\n",
        "\n",
        "print (time.time() - start_time, \"seconds\" )"
      ]
    },
    {
      "cell_type": "code",
      "execution_count": 118,
      "metadata": {
        "colab": {},
        "colab_type": "code",
        "id": "Cv7HgL7QJFF1",
        "vscode": {
          "languageId": "python"
        }
      },
      "outputs": [],
      "source": [
        "import imageio\n",
        "from skimage.feature import peak_local_max, hog\n",
        "from sklearn import svm, datasets"
      ]
    },
    {
      "cell_type": "code",
      "execution_count": 119,
      "metadata": {
        "colab": {
          "base_uri": "https://localhost:8080/",
          "height": 504
        },
        "colab_type": "code",
        "id": "mLT1usxPI770",
        "outputId": "b0f6636e-871d-4e15-d6b6-c067a48e1637",
        "vscode": {
          "languageId": "python"
        }
      },
      "outputs": [
        {
          "name": "stdout",
          "output_type": "stream",
          "text": [
            "['δ', 'ζ', 'σ', 'ε', 'λ', 'χ', 'θ', 'κ', 'ξ', 'ν', 'γ', 'ι', 'α', 'τ', 'ω', 'β', 'ο', 'ψ', 'π', 'φ', 'ρ', 'μ', 'υ', 'η']\n",
            "Finished adding δ samples to dataset\n",
            "Finished adding ζ samples to dataset\n",
            "Finished adding σ samples to dataset\n"
          ]
        },
        {
          "name": "stderr",
          "output_type": "stream",
          "text": [
            "/usr/local/lib/python3.6/dist-packages/ipykernel_launcher.py:15: DeprecationWarning: `imread` is deprecated!\n",
            "`imread` is deprecated in SciPy 1.0.0, and will be removed in 1.2.0.\n",
            "Use ``imageio.imread`` instead.\n",
            "  from ipykernel import kernelapp as app\n"
          ]
        },
        {
          "name": "stdout",
          "output_type": "stream",
          "text": [
            "Finished adding ε samples to dataset\n",
            "Finished adding λ samples to dataset\n",
            "Finished adding χ samples to dataset\n",
            "Finished adding θ samples to dataset\n",
            "Finished adding κ samples to dataset\n",
            "Finished adding ξ samples to dataset\n",
            "Finished adding ν samples to dataset\n",
            "Finished adding γ samples to dataset\n",
            "Finished adding ι samples to dataset\n",
            "Finished adding α samples to dataset\n",
            "Finished adding τ samples to dataset\n",
            "Finished adding ω samples to dataset\n",
            "Finished adding β samples to dataset\n",
            "Finished adding ο samples to dataset\n",
            "Finished adding ψ samples to dataset\n",
            "Finished adding π samples to dataset\n",
            "Finished adding φ samples to dataset\n",
            "Finished adding ρ samples to dataset\n",
            "Finished adding μ samples to dataset\n",
            "Finished adding υ samples to dataset\n",
            "Finished adding η samples to dataset\n"
          ]
        }
      ],
      "source": [
        "#paths for the training samples ------------ have 1 per character\n",
        "import os\n",
        "base_dir = \"/content/WritingRecognition/greek_train_snippets/\"\n",
        "dir_names = next(os.walk(base_dir))[1]\n",
        "print (dir_names)\n",
        "\n",
        "#returns a list of the file names in the directory\n",
        "def file_names(path):\n",
        "  return sorted([filename for filename in os.listdir(path) if  filename.endswith('.png') ])\n",
        "#-----------------------------------------------------------------------\n",
        "#fill the training dataset\n",
        "#filenames array, label you want the character to have\n",
        "def file_name_hog_features(filenames, label):#creates dataset with hogfeatures of the images + labels \n",
        "  for filename in filenames:\n",
        "    image = imread(filename)\n",
        "    #image = resize(image, (20,20)) #pix per cell :(\n",
        "    hog_features = hog(image, orientations=12, pixels_per_cell=(2, 2), cells_per_block=(1, 1))\n",
        "    data.append(hog_features)\n",
        "    labels.append(label)\n",
        "  print('Finished adding %s samples to dataset'%(label))\n",
        "\n",
        "data = []\n",
        "labels = []\n",
        "\n",
        "#for each directory add the hog features of the imgs and label them appropreatly\n",
        "for dir_name in dir_names:\n",
        "  #print(base_dir + dir_name)\n",
        "  FILENAMES = file_names(base_dir + dir_name)#get file name list for the directory\n",
        "  #add the full path to all the filenames\n",
        "  FILENAMES = [base_dir + dir_name + \"/\" + filename for filename in FILENAMES]\n",
        "  #print(FILENAMES)\n",
        "  file_name_hog_features(FILENAMES, dir_name)"
      ]
    },
    {
      "cell_type": "markdown",
      "metadata": {
        "colab_type": "text",
        "id": "04U7Pz5uJOSf"
      },
      "source": [
        "Then create testing snippets and data with labels"
      ]
    },
    {
      "cell_type": "code",
      "execution_count": 120,
      "metadata": {
        "colab": {
          "base_uri": "https://localhost:8080/",
          "height": 521
        },
        "colab_type": "code",
        "id": "vbI7hQlCJSX_",
        "outputId": "9f17e701-cf59-424e-cdeb-9c4f6a1ed4e8",
        "vscode": {
          "languageId": "python"
        }
      },
      "outputs": [
        {
          "name": "stdout",
          "output_type": "stream",
          "text": [
            "Extracting characters...\n",
            "/content/WritingRecognition/Greek_data_test/greeklowercase 1.png\n",
            "Does THIS FILE HAVE CORRECT NUM OF CHARACTERS\n",
            "for a greek training or testing document?\n",
            "True\n"
          ]
        },
        {
          "name": "stderr",
          "output_type": "stream",
          "text": [
            "/usr/local/lib/python3.6/dist-packages/ipykernel_launcher.py:12: DeprecationWarning: `imread` is deprecated!\n",
            "`imread` is deprecated in SciPy 1.0.0, and will be removed in 1.2.0.\n",
            "Use ``imageio.imread`` instead.\n",
            "  if sys.path[0] == '':\n",
            "/usr/local/lib/python3.6/dist-packages/ipykernel_launcher.py:22: UserWarning: The argument 'neighbors' is deprecated and will be removed in scikit-image 0.18, use 'connectivity' instead. For neighbors=8, use connectivity=2\n",
            "/usr/local/lib/python3.6/dist-packages/ipykernel_launcher.py:27: DeprecationWarning: `imsave` is deprecated!\n",
            "`imsave` is deprecated in SciPy 1.0.0, and will be removed in 1.2.0.\n",
            "Use ``imageio.imwrite`` instead.\n"
          ]
        },
        {
          "name": "stdout",
          "output_type": "stream",
          "text": [
            "/content/WritingRecognition/Greek_data_test/greek letters test 1-1.png\n",
            "Does THIS FILE HAVE CORRECT NUM OF CHARACTERS\n",
            "for a greek training or testing document?\n",
            "True\n",
            "/content/WritingRecognition/Greek_data_test/greek very low res rounded.png\n",
            "Does THIS FILE HAVE CORRECT NUM OF CHARACTERS\n",
            "for a greek training or testing document?\n",
            "True\n",
            "/content/WritingRecognition/Greek_data_test/rounded low res.png\n",
            "Does THIS FILE HAVE CORRECT NUM OF CHARACTERS\n",
            "for a greek training or testing document?\n",
            "True\n",
            "/content/WritingRecognition/Greek_data_test/slightly bad (low res).png\n",
            "Does THIS FILE HAVE CORRECT NUM OF CHARACTERS\n",
            "for a greek training or testing document?\n",
            "True\n",
            "0.6800487041473389 seconds\n"
          ]
        }
      ],
      "source": [
        "# Extract training data from training images.\n",
        "import time\n",
        "start_time = time.time()\n",
        "extract = Extract_Letters()\n",
        "\n",
        "training_files = []\n",
        "#training files from online sources in diffrent resolutions, with my own created data as well\n",
        "training_files.append(\"/content/WritingRecognition/Greek_data_test/greeklowercase 1.png\")\n",
        "training_files.append(\"/content/WritingRecognition/Greek_data_test/greek letters test 1-1.png\")\n",
        "\n",
        "training_files.append(\"/content/WritingRecognition/Greek_data_test/greek very low res rounded.png\")\n",
        "training_files.append(\"/content/WritingRecognition/Greek_data_test/rounded low res.png\")\n",
        "training_files.append(\"/content/WritingRecognition/Greek_data_test/slightly bad (low res).png\")\n",
        "\n",
        "# training_files.append(\"/content/WritingRecognition/Greek_data_test/Causes data shift by 1 - dont use.png\")#causes data shift remove from testing (could be due to the characters being very close and a box is omitted)\n",
        "\n",
        "folder_string = 'αβγδεζηθικλμνξοπρστυφχψω'#just set to the string of charcters you want recognised\n",
        "name_counter = 1\n",
        "for files in training_files:#for each file in training data folder\n",
        "    letters = extract.extractFile(files, \"greek\")#for each file run letter extraction\n",
        "\n",
        "    string_counter = 0\n",
        "    for i in letters:#for each letter in the file\n",
        "        if string_counter > 23:#set this to the number of characters you want - 1 (as it starts from 0)\n",
        "            string_counter = 0\n",
        "        #saves image to training type folder as a snippit\n",
        "        imsave('/content/WritingRecognition/greek_test_snippets/' + str(folder_string[string_counter]) + '/' + str(name_counter) + '_snippet.png', i)\n",
        "\n",
        "        string_counter += 1\n",
        "        name_counter += 1\n",
        "\n",
        "print (time.time() - start_time, \"seconds\" )#test characters extracted"
      ]
    },
    {
      "cell_type": "code",
      "execution_count": 121,
      "metadata": {
        "colab": {
          "base_uri": "https://localhost:8080/",
          "height": 487
        },
        "colab_type": "code",
        "id": "BUrZpSclJkk7",
        "outputId": "4bc2ac94-1f0b-4b29-9a95-8303c664717c",
        "vscode": {
          "languageId": "python"
        }
      },
      "outputs": [
        {
          "name": "stdout",
          "output_type": "stream",
          "text": [
            "['δ', 'ζ', 'σ', 'ε', 'λ', 'χ', 'θ', 'κ', 'ξ', 'ν', 'γ', 'ι', 'α', 'τ', 'ω', 'β', 'ο', 'ψ', 'π', 'φ', 'ρ', 'μ', 'υ', 'η']\n",
            "Finished adding δ samples to dataset\n",
            "Finished adding ζ samples to dataset\n",
            "Finished adding σ samples to dataset\n",
            "Finished adding ε samples to dataset\n",
            "Finished adding λ samples to dataset\n"
          ]
        },
        {
          "name": "stderr",
          "output_type": "stream",
          "text": [
            "/usr/local/lib/python3.6/dist-packages/ipykernel_launcher.py:17: DeprecationWarning: `imread` is deprecated!\n",
            "`imread` is deprecated in SciPy 1.0.0, and will be removed in 1.2.0.\n",
            "Use ``imageio.imread`` instead.\n"
          ]
        },
        {
          "name": "stdout",
          "output_type": "stream",
          "text": [
            "Finished adding χ samples to dataset\n",
            "Finished adding θ samples to dataset\n",
            "Finished adding κ samples to dataset\n",
            "Finished adding ξ samples to dataset\n",
            "Finished adding ν samples to dataset\n",
            "Finished adding γ samples to dataset\n",
            "Finished adding ι samples to dataset\n",
            "Finished adding α samples to dataset\n",
            "Finished adding τ samples to dataset\n",
            "Finished adding ω samples to dataset\n",
            "Finished adding β samples to dataset\n",
            "Finished adding ο samples to dataset\n",
            "Finished adding ψ samples to dataset\n",
            "Finished adding π samples to dataset\n",
            "Finished adding φ samples to dataset\n",
            "Finished adding ρ samples to dataset\n",
            "Finished adding μ samples to dataset\n",
            "Finished adding υ samples to dataset\n",
            "Finished adding η samples to dataset\n"
          ]
        }
      ],
      "source": [
        "#now create dataset with them.\n",
        "from skimage.feature import peak_local_max, hog\n",
        "# SVM\n",
        "#paths for the training samples ------------ have 1 per character\n",
        "base_dir = \"/content/WritingRecognition/greek_test_snippets/\"\n",
        "dir_names = next(os.walk(base_dir))[1]\n",
        "print (dir_names)\n",
        "\n",
        "#returns a list of the file names in the directory\n",
        "def file_names(path):\n",
        "  return sorted([filename for filename in os.listdir(path) if  filename.endswith('.png') ])\n",
        "#-----------------------------------------------------------------------\n",
        "#fill the training dataset\n",
        "#filenames array, label you want the character to have\n",
        "def file_name_hog_features(filenames, label):\n",
        "  for filename in filenames:\n",
        "    image = imread(filename)\n",
        "    #image = resize(image, (20,20)) #pix per cell :(\n",
        "    hog_features = hog(image, orientations=12, pixels_per_cell=(2, 2), cells_per_block=(1, 1))\n",
        "    test_data.append(hog_features)\n",
        "    test_labels.append(label)\n",
        "  print('Finished adding %s samples to dataset'%(label))\n",
        "\n",
        "test_data = []\n",
        "test_labels = []\n",
        "\n",
        "#for each directory add the hog features of the imgs and label them appropreatly\n",
        "for dir_name in dir_names:\n",
        "  #print(base_dir + dir_name)\n",
        "  FILENAMES = file_names(base_dir + dir_name)#get file name list for the directory\n",
        "  #add the full path to all the filenames\n",
        "  FILENAMES = [base_dir + dir_name + \"/\" + filename for filename in FILENAMES]\n",
        "  #print(FILENAMES)\n",
        "  file_name_hog_features(FILENAMES, dir_name)"
      ]
    },
    {
      "cell_type": "markdown",
      "metadata": {
        "colab_type": "text",
        "id": "azSHHfBFJu7e"
      },
      "source": [
        "Train svm"
      ]
    },
    {
      "cell_type": "code",
      "execution_count": 122,
      "metadata": {
        "colab": {
          "base_uri": "https://localhost:8080/",
          "height": 50
        },
        "colab_type": "code",
        "id": "fYHxXECRJydl",
        "outputId": "868007ee-7973-47c5-bdc4-90636846eee5",
        "vscode": {
          "languageId": "python"
        }
      },
      "outputs": [
        {
          "name": "stdout",
          "output_type": "stream",
          "text": [
            "Training the SVM\n",
            "[LibLinear][LibLinear][LibLinear][LibLinear][LibLinear][LibLinear]Accuracy: 0.99 (+/- 0.02)\n"
          ]
        }
      ],
      "source": [
        "from sklearn.svm import LinearSVC\n",
        "from sklearn.model_selection import cross_val_score\n",
        "print('Training the SVM')\n",
        "svm_clf = LinearSVC(dual=False,verbose=1)#create the SVC (linear)\n",
        "svm_clf.fit(data, labels)#train the svm with the data provided.\n",
        "\n",
        "scores = cross_val_score(svm_clf, data, labels, cv=5)\n",
        "print(\"Accuracy: %0.2f (+/- %0.2f)\" % (scores.mean(), scores.std() * 2))"
      ]
    },
    {
      "cell_type": "markdown",
      "metadata": {
        "colab_type": "text",
        "id": "tAHCeIkGJ41n"
      },
      "source": [
        "Train knn"
      ]
    },
    {
      "cell_type": "code",
      "execution_count": 123,
      "metadata": {
        "colab": {
          "base_uri": "https://localhost:8080/",
          "height": 50
        },
        "colab_type": "code",
        "id": "l3DCdB_0J7mC",
        "outputId": "01ac5742-fd7e-4c63-8084-e7679568ecda",
        "vscode": {
          "languageId": "python"
        }
      },
      "outputs": [
        {
          "name": "stdout",
          "output_type": "stream",
          "text": [
            "Training the KNN\n",
            "Accuracy: 0.97 (+/- 0.07)\n"
          ]
        }
      ],
      "source": [
        "#KNN\n",
        "from sklearn.neighbors import KNeighborsClassifier\n",
        "print('Training the KNN')\n",
        "knn_clf = KNeighborsClassifier(n_jobs=-1, weights='distance', n_neighbors=2)\n",
        "knn_clf.fit(data, labels)\n",
        "\n",
        "scores = cross_val_score(knn_clf, data, labels, cv=5)\n",
        "print(\"Accuracy: %0.2f (+/- %0.2f)\" % (scores.mean(), scores.std() * 2))"
      ]
    },
    {
      "cell_type": "code",
      "execution_count": 124,
      "metadata": {
        "colab": {},
        "colab_type": "code",
        "id": "Bv2WPKSsL3--",
        "vscode": {
          "languageId": "python"
        }
      },
      "outputs": [],
      "source": [
        "test_predict_svm =[]#predicted labels for the test data\n",
        "test_predict_knn =[]\n",
        "\n",
        "#test each prediction method to gen predicted labels for the test data\n",
        "for ele in test_data:\n",
        "  result_type_svm = svm_clf.predict(ele.reshape(1,-1))\n",
        "  test_predict_svm.append(result_type_svm)#add svm predictions\n",
        "\n",
        "  result_type_KNN = knn_clf.predict(ele.reshape(1,-1))\n",
        "  test_predict_knn.append(result_type_KNN)#add knn predictions"
      ]
    },
    {
      "cell_type": "markdown",
      "metadata": {
        "colab_type": "text",
        "id": "8Klp4UxyKCuA"
      },
      "source": [
        "Testing accuracy"
      ]
    },
    {
      "cell_type": "code",
      "execution_count": 125,
      "metadata": {
        "colab": {
          "base_uri": "https://localhost:8080/",
          "height": 50
        },
        "colab_type": "code",
        "id": "SGBr-kfTKBxi",
        "outputId": "f545918b-9191-44f4-c73f-34f0702ad400",
        "vscode": {
          "languageId": "python"
        }
      },
      "outputs": [
        {
          "name": "stdout",
          "output_type": "stream",
          "text": [
            "SVM accuracy Score with test data: \n",
            "Accuracy: 0.99 (+/- 0.00)\n"
          ]
        }
      ],
      "source": [
        "from sklearn import metrics\n",
        "print(\"SVM accuracy Score with test data: \")\n",
        "scores = metrics.accuracy_score(test_labels, test_predict_svm, normalize=True)\n",
        "print(\"Accuracy: %0.2f (+/- %0.2f)\" % (scores.mean(), scores.std() * 2))"
      ]
    },
    {
      "cell_type": "code",
      "execution_count": 126,
      "metadata": {
        "colab": {
          "base_uri": "https://localhost:8080/",
          "height": 928
        },
        "colab_type": "code",
        "id": "xRD006B5KCGh",
        "outputId": "e224d497-679e-498b-e85c-0e7eba1545bf",
        "vscode": {
          "languageId": "python"
        }
      },
      "outputs": [
        {
          "data": {
            "text/plain": [
              "<sklearn.metrics._plot.confusion_matrix.ConfusionMatrixDisplay at 0x7f2439968ba8>"
            ]
          },
          "execution_count": 126,
          "metadata": {
            "tags": []
          },
          "output_type": "execute_result"
        },
        {
          "data": {
            "image/png": "[encoded data removed]",
            "text/plain": [
              "<Figure size 1152x1152 with 2 Axes>"
            ]
          },
          "metadata": {
            "needs_background": "light",
            "tags": []
          },
          "output_type": "display_data"
        }
      ],
      "source": [
        "from sklearn.metrics import plot_confusion_matrix\n",
        "fig, ax = plt.subplots(ncols=1, nrows=1, figsize=(16, 16))\n",
        "plot_confusion_matrix(svm_clf, test_data, test_labels, ax=ax)"
      ]
    },
    {
      "cell_type": "code",
      "execution_count": 127,
      "metadata": {
        "colab": {
          "base_uri": "https://localhost:8080/",
          "height": 50
        },
        "colab_type": "code",
        "id": "x2nCaA6KKMPN",
        "outputId": "703598eb-8132-4e9d-eb4e-b1b39483e2fe",
        "vscode": {
          "languageId": "python"
        }
      },
      "outputs": [
        {
          "name": "stdout",
          "output_type": "stream",
          "text": [
            "KNN accuracy Score with test data: \n",
            "Accuracy: 0.97 (+/- 0.00)\n"
          ]
        }
      ],
      "source": [
        "print(\"KNN accuracy Score with test data: \")\n",
        "scores = metrics.accuracy_score(test_labels, test_predict_knn, normalize=True)\n",
        "print(\"Accuracy: %0.2f (+/- %0.2f)\" % (scores.mean(), scores.std() * 2))"
      ]
    },
    {
      "cell_type": "code",
      "execution_count": 128,
      "metadata": {
        "colab": {
          "base_uri": "https://localhost:8080/",
          "height": 928
        },
        "colab_type": "code",
        "id": "Xt0lZmHqKMVO",
        "outputId": "635c52e2-237e-4f2a-e9e3-920ffdd09122",
        "vscode": {
          "languageId": "python"
        }
      },
      "outputs": [
        {
          "data": {
            "text/plain": [
              "<sklearn.metrics._plot.confusion_matrix.ConfusionMatrixDisplay at 0x7f243ae145f8>"
            ]
          },
          "execution_count": 128,
          "metadata": {
            "tags": []
          },
          "output_type": "execute_result"
        },
        {
          "data": {
            "image/png": "[encoded data removed]",
            "text/plain": [
              "<Figure size 1152x1152 with 2 Axes>"
            ]
          },
          "metadata": {
            "needs_background": "light",
            "tags": []
          },
          "output_type": "display_data"
        }
      ],
      "source": [
        "fig, ax = plt.subplots(ncols=1, nrows=1, figsize=(16, 16))\n",
        "plot_confusion_matrix(knn_clf, test_data, test_labels, ax=ax)"
      ]
    },
    {
      "cell_type": "code",
      "execution_count": 129,
      "metadata": {
        "colab": {
          "base_uri": "https://localhost:8080/",
          "height": 218
        },
        "colab_type": "code",
        "id": "WhJbunfDPx37",
        "outputId": "90d9d868-cb9b-4c8f-f71b-6a62a803f5f6",
        "vscode": {
          "languageId": "python"
        }
      },
      "outputs": [
        {
          "name": "stdout",
          "output_type": "stream",
          "text": [
            "Extracting characters...\n"
          ]
        },
        {
          "name": "stderr",
          "output_type": "stream",
          "text": [
            "/usr/local/lib/python3.6/dist-packages/ipykernel_launcher.py:12: DeprecationWarning: `imread` is deprecated!\n",
            "`imread` is deprecated in SciPy 1.0.0, and will be removed in 1.2.0.\n",
            "Use ``imageio.imread`` instead.\n",
            "  if sys.path[0] == '':\n",
            "/usr/local/lib/python3.6/dist-packages/ipykernel_launcher.py:22: UserWarning: The argument 'neighbors' is deprecated and will be removed in scikit-image 0.18, use 'connectivity' instead. For neighbors=8, use connectivity=2\n"
          ]
        },
        {
          "name": "stdout",
          "output_type": "stream",
          "text": [
            "/content/WritingRecognition/Greek_data_test/greek letters test 1-1.png\n",
            "15.837860107421875 seconds\n",
            "svm page interpretation: \n",
            "αβγδεζηθικλμνξοπρστυφχψωαβγδεζηθικλμνξοπρστυφχψωαβγδεζηθικλμνξοπρστυφχψωαβγδεζηθικλμνξοπρστυφχψωαβγδεζηθικλμνξοπρστυφχψωαβγδεζηθικλμνξοπρστυφχψω\n",
            "knn page interpretation: \n",
            "αβγδεζηθικλμνξοπρστυφχψωαβγδεζηθικλμνξοπρστυφχψωαβγδεζηθιιλμνξοπρστυφχψωαβγδεζηθικλμνξοπρστυφχψωαβγδεζηθικλμνξοπρστυφχψωαβγδεζηθικλμνξοπρστυφχψω\n"
          ]
        }
      ],
      "source": [
        "#have each letter classifed and its classification added to a list then printed out, then have this list split appart for each word.\n",
        "# Extract letters from page\n",
        "start_time = time.time()\n",
        "extract = Extract_Letters()\n",
        "\n",
        "letters_in_doc_svm = []\n",
        "letters_in_doc_knn = []\n",
        "\n",
        "letters = extract.extractFile(\"/content/WritingRecognition/Greek_data_test/greek letters test 1-1.png\", \"defualt\")#add default mode\n",
        "\n",
        "for i in letters:#for each letter in the file    \n",
        "  hog_features = hog(i, orientations=12, pixels_per_cell=(2, 2), cells_per_block=(1, 1))\n",
        "  result_type_svm = svm_clf.predict(hog_features.reshape(1,-1))\n",
        "  result_type_knn = knn_clf.predict(hog_features.reshape(1,-1))\n",
        "  letters_in_doc_svm.append(result_type_svm)\n",
        "  letters_in_doc_knn.append(result_type_knn)\n",
        "  \n",
        "doc_svm = \"\"\n",
        "doc_knn = \"\"\n",
        "print (time.time() - start_time, \"seconds\" )\n",
        "for ele in letters_in_doc_svm:#num should be the same\n",
        "  doc_svm+=(ele[0])#gets just the predicted character and adds to the string\n",
        "for ele in letters_in_doc_knn:\n",
        "  doc_knn+=(ele[0])\n",
        "\n",
        "print(\"svm page interpretation: \")\n",
        "print(doc_svm)\n",
        "print(\"knn page interpretation: \")\n",
        "print(doc_knn)"
      ]
    },
    {
      "cell_type": "markdown",
      "metadata": {
        "colab_type": "text",
        "id": "XoNBe3qrHaWY"
      },
      "source": [
        "# Helper methods"
      ]
    },
    {
      "cell_type": "markdown",
      "metadata": {
        "colab_type": "text",
        "id": "Wne9K1ZhCrOg"
      },
      "source": [
        "Shows the detected boxes on a given page for data varification"
      ]
    },
    {
      "cell_type": "code",
      "execution_count": null,
      "metadata": {
        "colab": {
          "base_uri": "https://localhost:8080/",
          "height": 1000
        },
        "colab_type": "code",
        "id": "IUkhjvW4thZN",
        "outputId": "21a6ba6a-c835-45fc-9618-7b96b1865728",
        "vscode": {
          "languageId": "python"
        }
      },
      "outputs": [
        {
          "name": "stderr",
          "output_type": "stream",
          "text": [
            "/usr/local/lib/python3.6/dist-packages/ipykernel_launcher.py:15: DeprecationWarning: `imread` is deprecated!\n",
            "`imread` is deprecated in SciPy 1.0.0, and will be removed in 1.2.0.\n",
            "Use ``imageio.imread`` instead.\n",
            "  from ipykernel import kernelapp as app\n",
            "/usr/local/lib/python3.6/dist-packages/ipykernel_launcher.py:25: UserWarning: The argument 'neighbors' is deprecated and will be removed in scikit-image 0.18, use 'connectivity' instead. For neighbors=8, use connectivity=2\n"
          ]
        },
        {
          "name": "stdout",
          "output_type": "stream",
          "text": [
            "378\n"
          ]
        },
        {
          "data": {
            "image/png": "[encoded data removed]",
            "text/plain": [
              "<Figure size 1152x1152 with 1 Axes>"
            ]
          },
          "metadata": {
            "needs_background": "light",
            "tags": []
          },
          "output_type": "display_data"
        },
        {
          "name": "stdout",
          "output_type": "stream",
          "text": [
            "366\n",
            "0\n",
            "True\n"
          ]
        }
      ],
      "source": [
        "import numpy as np\n",
        "import matplotlib.pyplot as plt\n",
        "import matplotlib.patches as mpatches\n",
        "from scipy.misc import imread,imresize\n",
        "from skimage.segmentation import clear_border\n",
        "from skimage.morphology import label\n",
        "from skimage.measure import regionprops\n",
        "\n",
        "image = imread(\"/content/WritingRecognition/NEW_DATA_english/testing/test3-1.png\",1)\n",
        "\n",
        "#apply threshold in order to make the image binary\n",
        "bw = image < 120\n",
        "\n",
        "# remove artifacts connected to image border\n",
        "cleared = bw.copy()\n",
        "clear_border(cleared)\n",
        "\n",
        "# label image regions\n",
        "label_image = label(cleared,neighbors=8)\n",
        "borders = np.logical_xor(bw, cleared)\n",
        "label_image[borders] = -1\n",
        "\n",
        "print (label_image.max())\n",
        "\n",
        "fig, ax = plt.subplots(ncols=1, nrows=1, figsize=(16, 16))\n",
        "ax.imshow(bw, cmap='jet')\n",
        "\n",
        "total = 0\n",
        "for region in regionprops(label_image):\n",
        "    # skip small images\n",
        "    minr, minc, maxr, maxc = region.bbox\n",
        "    #if region.area > 50:\n",
        "    if maxr - minr > len(bw) / 250:#new CONDITION\n",
        "        # draw rectangle around segmented coins\n",
        "        \n",
        "        #print(type(maxr))\n",
        "        #add 1/4th the height to the height to include dots on letters\n",
        "        #minr-=(maxr - minr)*0.40\n",
        "        rect = mpatches.Rectangle((minc, minr), (maxc - minc), (maxr - minr), fill=False, edgecolor='red', linewidth=2)\n",
        "        ax.add_patch(rect)\n",
        "        total+=1\n",
        "\n",
        "plt.show()\n",
        "print(total)\n",
        "print(total % 61)\n",
        "print(total % 61 == 0)"
      ]
    },
    {
      "cell_type": "markdown",
      "metadata": {
        "colab_type": "text",
        "id": "_wktpsEoNCx8"
      },
      "source": [
        "Removes snippets from the training_type folder sub dir's"
      ]
    },
    {
      "cell_type": "code",
      "execution_count": null,
      "metadata": {
        "colab": {
          "base_uri": "https://localhost:8080/",
          "height": 1000
        },
        "colab_type": "code",
        "id": "n7FXrgLMnnHQ",
        "outputId": "196df7e3-fa00-45b3-98d7-356a6422db08",
        "vscode": {
          "languageId": "python"
        }
      },
      "outputs": [],
      "source": [
        "import os\n",
        "base_dir = \"/content/WritingRecognition/greek_test_snippets/\"#set to the folder with character sub folders.\n",
        "#folder paths:\n",
        "#\"/content/WritingRecognition/training_snippets_english/\"\n",
        "#\"/content/WritingRecognition/test_snippets_english/\"\n",
        "\n",
        "#\"/content/WritingRecognition/greek_train_snippets/\"\n",
        "#\"/content/WritingRecognition/greek_test_snippets/\"\n",
        "dir_names = next(os.walk(base_dir))[1]\n",
        "print(dir_names)\n",
        "for dir_name in dir_names:\n",
        "  print(\"Removing files in: \"+dir_name)\n",
        "  filelist = [ f for f in os.listdir(base_dir+dir_name) if f.endswith(\".png\") ]\n",
        "  for f in filelist:\n",
        "    print(\"Removed: \"+f)\n",
        "    os.remove(os.path.join(base_dir,dir_name, f))"
      ]
    },
    {
      "cell_type": "markdown",
      "metadata": {
        "colab_type": "text",
        "id": "ADHIp2AICx6G"
      },
      "source": [
        "showing an image"
      ]
    },
    {
      "cell_type": "code",
      "execution_count": null,
      "metadata": {
        "colab": {
          "base_uri": "https://localhost:8080/",
          "height": 404
        },
        "colab_type": "code",
        "id": "j-SNoeze3h3p",
        "outputId": "f7852607-a66c-48be-8459-ee04f6bae442",
        "vscode": {
          "languageId": "python"
        }
      },
      "outputs": [],
      "source": [
        "rgb = imread('/content/drive/My Drive/Colab Notebooks/WritingRecognition/training_type/1/600.png')\n",
        "plt.imshow(rgb,cmap=cm.Greys_r,aspect='equal')\n",
        "plt.show()"
      ]
    },
    {
      "cell_type": "code",
      "execution_count": null,
      "metadata": {
        "colab": {},
        "colab_type": "code",
        "id": "c3UmbIR3P_sp",
        "vscode": {
          "languageId": "python"
        }
      },
      "outputs": [],
      "source": [
        "#data split\n",
        "from sklearn.model_selection import train_test_split\n",
        "X_train, X_test, y_train, y_test = train_test_split(data, labels, random_state=0, test_size=0.20)"
      ]
    },
    {
      "cell_type": "markdown",
      "metadata": {
        "colab_type": "text",
        "id": "qF-hFiB1lBkY"
      },
      "source": [
        "# Neural network (English)"
      ]
    },
    {
      "cell_type": "code",
      "execution_count": 87,
      "metadata": {
        "colab": {
          "base_uri": "https://localhost:8080/",
          "height": 1000
        },
        "colab_type": "code",
        "id": "kMIs0N8qOZZE",
        "outputId": "02c91f69-b7f9-4865-d151-19ea76b0534d",
        "vscode": {
          "languageId": "python"
        }
      },
      "outputs": [
        {
          "name": "stdout",
          "output_type": "stream",
          "text": [
            "Subdirectories are:\n",
            "['h', '9', '1', '2', 'v', 'q', 'k', '4', '6', 'r', 'j', 's', 'g', 'f', 'a', 'l', 'y', 'z', '7', 'n', 'b', 'w', '8', 'x', 'i', 'd', '3', 'p', 'e', 'u', 'o', 't', 'm', '5', 'c']\n",
            "Finished adding h samples to dataset\n",
            "Finished adding 9 samples to dataset\n",
            "Finished adding 1 samples to dataset\n",
            "Finished adding 2 samples to dataset\n",
            "Finished adding v samples to dataset\n",
            "Finished adding q samples to dataset\n",
            "Finished adding k samples to dataset\n",
            "Finished adding 4 samples to dataset\n",
            "Finished adding 6 samples to dataset\n",
            "Finished adding r samples to dataset\n",
            "Finished adding j samples to dataset\n",
            "Finished adding s samples to dataset\n",
            "Finished adding g samples to dataset\n",
            "Finished adding f samples to dataset\n",
            "Finished adding a samples to dataset\n",
            "Finished adding l samples to dataset\n",
            "Finished adding y samples to dataset\n",
            "Finished adding z samples to dataset\n",
            "Finished adding 7 samples to dataset\n",
            "Finished adding n samples to dataset\n",
            "Finished adding b samples to dataset\n",
            "Finished adding w samples to dataset\n",
            "Finished adding 8 samples to dataset\n",
            "Finished adding x samples to dataset\n",
            "Finished adding i samples to dataset\n",
            "Finished adding d samples to dataset\n",
            "Finished adding 3 samples to dataset\n",
            "Finished adding p samples to dataset\n",
            "Finished adding e samples to dataset\n",
            "Finished adding u samples to dataset\n",
            "Finished adding o samples to dataset\n",
            "Finished adding t samples to dataset\n",
            "Finished adding m samples to dataset\n",
            "Finished adding 5 samples to dataset\n",
            "Finished adding c samples to dataset\n",
            "X_train shape: (5124, 20, 20)\n",
            "Subdirectories are:\n",
            "['h', '9', '1', '2', 'v', 'q', 'k', '4', '6', 'r', 'j', 's', 'g', 'f', 'a', 'l', 'y', 'z', '7', 'n', 'b', 'w', '8', 'x', 'i', 'd', '3', 'p', 'e', 'u', 'o', 't', 'm', '5', 'c']\n",
            "Finished adding h samples to dataset\n",
            "Finished adding 9 samples to dataset\n",
            "Finished adding 1 samples to dataset\n",
            "Finished adding 2 samples to dataset\n",
            "Finished adding v samples to dataset\n",
            "Finished adding q samples to dataset\n",
            "Finished adding k samples to dataset\n",
            "Finished adding 4 samples to dataset\n",
            "Finished adding 6 samples to dataset\n",
            "Finished adding r samples to dataset\n",
            "Finished adding j samples to dataset\n",
            "Finished adding s samples to dataset\n",
            "Finished adding g samples to dataset\n",
            "Finished adding f samples to dataset\n",
            "Finished adding a samples to dataset\n",
            "Finished adding l samples to dataset\n",
            "Finished adding y samples to dataset\n",
            "Finished adding z samples to dataset\n",
            "Finished adding 7 samples to dataset\n",
            "Finished adding n samples to dataset\n",
            "Finished adding b samples to dataset\n",
            "Finished adding w samples to dataset\n",
            "Finished adding 8 samples to dataset\n",
            "Finished adding x samples to dataset\n",
            "Finished adding i samples to dataset\n",
            "Finished adding d samples to dataset\n",
            "Finished adding 3 samples to dataset\n",
            "Finished adding p samples to dataset\n",
            "Finished adding e samples to dataset\n",
            "Finished adding u samples to dataset\n",
            "Finished adding o samples to dataset\n",
            "Finished adding t samples to dataset\n",
            "Finished adding m samples to dataset\n",
            "Finished adding 5 samples to dataset\n",
            "Finished adding c samples to dataset\n",
            "X_test shape: (1281, 20, 20)\n"
          ]
        }
      ],
      "source": [
        "%tensorflow_version 1.x\n",
        "import tensorflow as tf\n",
        "\n",
        "import cv2\n",
        "import glob\n",
        "import numpy as np\n",
        "import os\n",
        "\n",
        "english_training_snippet_dir = \"/content/WritingRecognition/training_snippets_english/\"\n",
        "english_testing_snippet_dir = \"/content/WritingRecognition/test_snippets_english/\"\n",
        "\n",
        "X_train = []\n",
        "y_train = []\n",
        "\n",
        "X_test = []\n",
        "y_test = []\n",
        "\n",
        "#new general method to do this:\n",
        "#given the parent dir, will create append to an empty dataset array and subsiquent labels array (with each sub dir being a label)\n",
        "def create_dataset_and_labels_from_parent_dir(base_dir, test_data, test_labels):\n",
        "  dir_names = next(os.walk(base_dir))[1]\n",
        "  print(\"Subdirectories are:\")\n",
        "  print(dir_names)\n",
        "\n",
        "  def file_names(path):#returns a list of the file names in the directory\n",
        "    return sorted([filename for filename in os.listdir(path) if filename.endswith('.png')])\n",
        "\n",
        "  def append_img_data_and_labels(filenames, label):#given a list of file names load the img into array and appned the label of them to the labels array\n",
        "    for filename in filenames:#for each filename\n",
        "      image = cv2.imread(filename)#load the img\n",
        "      #or do hog features etc.\n",
        "      image = cv2.cvtColor(image, cv2.COLOR_BGR2GRAY)#convert to single channel- from 3 channel to match mnist\n",
        "      test_data.append(image)\n",
        "      test_labels.append(label)\n",
        "    print('Finished adding %s samples to dataset'%(label))\n",
        "\n",
        "  for dir_name in dir_names:#for each directory in the sub dir list\n",
        "    FILENAMES = file_names(base_dir + dir_name)#get file name list for that directory\n",
        "    FILENAMES = [base_dir + dir_name + \"/\" + filename for filename in FILENAMES]#add the full path to all the filenames\n",
        "    append_img_data_and_labels(FILENAMES, dir_name)#use the append method to add to dataset + labels\n",
        "\n",
        "#-----------------------------------------------------------------------------------------------------------------------------\n",
        "\n",
        "create_dataset_and_labels_from_parent_dir(english_training_snippet_dir, X_train, y_train)\n",
        "print('X_train shape:', np.array(X_train).shape)\n",
        "\n",
        "create_dataset_and_labels_from_parent_dir(english_testing_snippet_dir, X_test, y_test)\n",
        "print('X_test shape:', np.array(X_test).shape)\n",
        "\n",
        "#convert to numpy array\n",
        "X_train = np.array(X_train, dtype=np.float32)\n",
        "X_test = np.array(X_test, dtype=np.float32)"
      ]
    },
    {
      "cell_type": "code",
      "execution_count": 88,
      "metadata": {
        "colab": {},
        "colab_type": "code",
        "id": "5W9uyR9UeHyl",
        "vscode": {
          "languageId": "python"
        }
      },
      "outputs": [],
      "source": [
        "#creates a label tuple list and defines a method to find the int label for a string label\n",
        "label_tuples = []\n",
        "\n",
        "value = 0\n",
        "for dir in next(os.walk(\"/content/WritingRecognition/training_snippets_english/\"))[1]:\n",
        "  label_tuples.append((dir, value))\n",
        "  value+=1\n",
        "\n",
        "#finds the int tuple pair of the string label\n",
        "def find_label_value(string_label, label_tuples):\n",
        "  for ele in label_tuples:\n",
        "    if(ele[0]== string_label):\n",
        "      return ele[1]\n",
        "\n",
        "def find_label_string(int_label, label_tuples):\n",
        "  for ele in label_tuples:\n",
        "    if(ele[1]== int_label):\n",
        "      return ele[0]\n",
        "\n",
        "# print(find_label_value(\"g\",label_tuples))\n",
        "#print(find_label_string(0,label_tuples))\n",
        "y_train = [find_label_value(label,label_tuples) for label in y_train]\n",
        "\n",
        "y_test = [find_label_value(label,label_tuples) for label in y_test]"
      ]
    },
    {
      "cell_type": "markdown",
      "metadata": {
        "colab_type": "text",
        "id": "cSVJgzX3IKMc"
      },
      "source": [
        "Define network:"
      ]
    },
    {
      "cell_type": "code",
      "execution_count": 89,
      "metadata": {
        "colab": {},
        "colab_type": "code",
        "id": "IKlCkXQFk_o-",
        "vscode": {
          "languageId": "python"
        }
      },
      "outputs": [],
      "source": [
        "%tensorflow_version 1.x\n",
        "import tensorflow as tf\n",
        "tf.__version__\n",
        "\n",
        "n_epochs = 80\n",
        "batch_size = 100\n",
        "\n",
        "n_inputs = 20*20 \n",
        "n_hidden1 = 300\n",
        "n_hidden2 = 100\n",
        "n_outputs = len(label_tuples)#the number of classes\n",
        "\n",
        "X_train = X_train.astype(np.float32).reshape(-1, 20*20) / 255.0\n",
        "X_test = X_test.astype(np.float32).reshape(-1, 20*20) / 255.0\n",
        "\n",
        "y_train = np.array(y_train , dtype=np.int32)#into numpy arrays\n",
        "y_test = np.array(y_test,  dtype=np.int32)\n",
        "\n",
        "#------------------------------- shuffle data and labels before split\n",
        "\n",
        "indices = np.arange(X_train.shape[0])\n",
        "np.random.shuffle(indices)\n",
        "\n",
        "X_train = X_train[indices]\n",
        "y_train = y_train[indices]\n",
        "\n",
        "#-------------------------------\n",
        "\n",
        "X_valid, X_train = X_train[:500], X_train[500:]#take some validation data\n",
        "y_valid, y_train = y_train[:500], y_train[500:]\n",
        "\n",
        "# to make this notebook's output stable across runs\n",
        "def reset_graph(seed=42):\n",
        "    tf.reset_default_graph()\n",
        "    tf.set_random_seed(seed)\n",
        "    np.random.seed(seed)\n",
        "\n",
        "reset_graph()\n",
        "\n",
        "X = tf.placeholder(tf.float32, shape=(None, n_inputs), name=\"X\")\n",
        "y = tf.placeholder(tf.int32, shape=(None), name=\"y\") \n",
        "\n",
        "with tf.name_scope(\"dnn\"):\n",
        "    hidden1 = tf.layers.dense(X, n_hidden1, name=\"hidden1\",\n",
        "                              activation=tf.nn.relu)\n",
        "    hidden2 = tf.layers.dense(hidden1, n_hidden2, name=\"hidden2\",\n",
        "                              activation=tf.nn.relu)\n",
        "    logits = tf.layers.dense(hidden2, n_outputs, name=\"outputs\")\n",
        "    y_proba = tf.nn.softmax(logits)\n",
        "\n",
        "with tf.name_scope(\"loss\"):\n",
        "    xentropy = tf.nn.sparse_softmax_cross_entropy_with_logits(labels=y, logits=logits)\n",
        "    loss = tf.reduce_mean(xentropy, name=\"loss\")\n",
        "\n",
        "learning_rate = 0.01\n",
        "\n",
        "with tf.name_scope(\"train\"):\n",
        "    optimizer = tf.train.GradientDescentOptimizer(learning_rate)\n",
        "    training_op = optimizer.minimize(loss)\n",
        "\n",
        "with tf.name_scope(\"eval\"):\n",
        "    correct = tf.nn.in_top_k(logits, y, 1)\n",
        "    accuracy = tf.reduce_mean(tf.cast(correct, tf.float32))\n",
        "\n",
        "init = tf.global_variables_initializer()\n",
        "saver = tf.train.Saver()\n"
      ]
    },
    {
      "cell_type": "markdown",
      "metadata": {
        "colab_type": "text",
        "id": "w7RETMdnIMVe"
      },
      "source": [
        "Train:"
      ]
    },
    {
      "cell_type": "code",
      "execution_count": 90,
      "metadata": {
        "colab": {
          "base_uri": "https://localhost:8080/",
          "height": 1000
        },
        "colab_type": "code",
        "id": "aYo4VqhimbV4",
        "outputId": "5c65ff09-bcc7-4f1b-ff54-6da86accee91",
        "vscode": {
          "languageId": "python"
        }
      },
      "outputs": [
        {
          "name": "stdout",
          "output_type": "stream",
          "text": [
            "0 Batch accuracy: 0.22 Validation accuracy: 0.182\n",
            "1 Batch accuracy: 0.44 Validation accuracy: 0.412\n",
            "2 Batch accuracy: 0.55 Validation accuracy: 0.538\n",
            "3 Batch accuracy: 0.69 Validation accuracy: 0.648\n",
            "4 Batch accuracy: 0.77 Validation accuracy: 0.724\n",
            "5 Batch accuracy: 0.75 Validation accuracy: 0.766\n",
            "6 Batch accuracy: 0.74 Validation accuracy: 0.794\n",
            "7 Batch accuracy: 0.86 Validation accuracy: 0.818\n",
            "8 Batch accuracy: 0.92 Validation accuracy: 0.844\n",
            "9 Batch accuracy: 0.84 Validation accuracy: 0.852\n",
            "10 Batch accuracy: 0.9 Validation accuracy: 0.87\n",
            "11 Batch accuracy: 0.89 Validation accuracy: 0.882\n",
            "12 Batch accuracy: 0.95 Validation accuracy: 0.88\n",
            "13 Batch accuracy: 0.94 Validation accuracy: 0.894\n",
            "14 Batch accuracy: 0.95 Validation accuracy: 0.898\n",
            "15 Batch accuracy: 0.92 Validation accuracy: 0.894\n",
            "16 Batch accuracy: 0.88 Validation accuracy: 0.906\n",
            "17 Batch accuracy: 0.89 Validation accuracy: 0.906\n",
            "18 Batch accuracy: 0.94 Validation accuracy: 0.914\n",
            "19 Batch accuracy: 0.92 Validation accuracy: 0.912\n",
            "20 Batch accuracy: 0.93 Validation accuracy: 0.908\n",
            "21 Batch accuracy: 0.92 Validation accuracy: 0.922\n",
            "22 Batch accuracy: 0.96 Validation accuracy: 0.92\n",
            "23 Batch accuracy: 0.91 Validation accuracy: 0.922\n",
            "24 Batch accuracy: 0.91 Validation accuracy: 0.928\n",
            "25 Batch accuracy: 0.95 Validation accuracy: 0.93\n",
            "26 Batch accuracy: 0.95 Validation accuracy: 0.93\n",
            "27 Batch accuracy: 0.96 Validation accuracy: 0.924\n",
            "28 Batch accuracy: 0.87 Validation accuracy: 0.942\n",
            "29 Batch accuracy: 0.91 Validation accuracy: 0.934\n",
            "30 Batch accuracy: 0.91 Validation accuracy: 0.938\n",
            "31 Batch accuracy: 0.93 Validation accuracy: 0.932\n",
            "32 Batch accuracy: 0.94 Validation accuracy: 0.936\n",
            "33 Batch accuracy: 0.93 Validation accuracy: 0.938\n",
            "34 Batch accuracy: 0.91 Validation accuracy: 0.936\n",
            "35 Batch accuracy: 0.96 Validation accuracy: 0.94\n",
            "36 Batch accuracy: 0.92 Validation accuracy: 0.946\n",
            "37 Batch accuracy: 0.97 Validation accuracy: 0.94\n",
            "38 Batch accuracy: 0.98 Validation accuracy: 0.94\n",
            "39 Batch accuracy: 0.94 Validation accuracy: 0.94\n",
            "40 Batch accuracy: 0.95 Validation accuracy: 0.946\n",
            "41 Batch accuracy: 0.95 Validation accuracy: 0.948\n",
            "42 Batch accuracy: 0.95 Validation accuracy: 0.942\n",
            "43 Batch accuracy: 0.98 Validation accuracy: 0.942\n",
            "44 Batch accuracy: 0.98 Validation accuracy: 0.948\n",
            "45 Batch accuracy: 1.0 Validation accuracy: 0.944\n",
            "46 Batch accuracy: 0.94 Validation accuracy: 0.95\n",
            "47 Batch accuracy: 0.97 Validation accuracy: 0.952\n",
            "48 Batch accuracy: 0.94 Validation accuracy: 0.944\n",
            "49 Batch accuracy: 0.93 Validation accuracy: 0.942\n",
            "50 Batch accuracy: 0.96 Validation accuracy: 0.944\n",
            "51 Batch accuracy: 0.94 Validation accuracy: 0.946\n",
            "52 Batch accuracy: 0.97 Validation accuracy: 0.948\n",
            "53 Batch accuracy: 0.99 Validation accuracy: 0.948\n",
            "54 Batch accuracy: 0.98 Validation accuracy: 0.944\n",
            "55 Batch accuracy: 0.93 Validation accuracy: 0.95\n",
            "56 Batch accuracy: 0.93 Validation accuracy: 0.95\n",
            "57 Batch accuracy: 0.98 Validation accuracy: 0.948\n",
            "58 Batch accuracy: 0.97 Validation accuracy: 0.95\n",
            "59 Batch accuracy: 1.0 Validation accuracy: 0.95\n",
            "60 Batch accuracy: 0.95 Validation accuracy: 0.954\n",
            "61 Batch accuracy: 0.97 Validation accuracy: 0.95\n",
            "62 Batch accuracy: 0.97 Validation accuracy: 0.954\n",
            "63 Batch accuracy: 1.0 Validation accuracy: 0.946\n",
            "64 Batch accuracy: 0.95 Validation accuracy: 0.95\n",
            "65 Batch accuracy: 0.91 Validation accuracy: 0.952\n",
            "66 Batch accuracy: 0.96 Validation accuracy: 0.946\n",
            "67 Batch accuracy: 0.96 Validation accuracy: 0.96\n",
            "68 Batch accuracy: 0.95 Validation accuracy: 0.952\n",
            "69 Batch accuracy: 0.98 Validation accuracy: 0.958\n",
            "70 Batch accuracy: 0.99 Validation accuracy: 0.96\n",
            "71 Batch accuracy: 0.96 Validation accuracy: 0.956\n",
            "72 Batch accuracy: 0.92 Validation accuracy: 0.948\n",
            "73 Batch accuracy: 0.97 Validation accuracy: 0.95\n",
            "74 Batch accuracy: 0.98 Validation accuracy: 0.95\n",
            "75 Batch accuracy: 0.97 Validation accuracy: 0.952\n",
            "76 Batch accuracy: 0.98 Validation accuracy: 0.954\n",
            "77 Batch accuracy: 0.95 Validation accuracy: 0.952\n",
            "78 Batch accuracy: 0.96 Validation accuracy: 0.954\n",
            "79 Batch accuracy: 0.92 Validation accuracy: 0.956\n"
          ]
        }
      ],
      "source": [
        "def shuffle_batch(X, y, batch_size):\n",
        "    rnd_idx = np.random.permutation(len(X))\n",
        "    n_batches = len(X) // batch_size\n",
        "    for batch_idx in np.array_split(rnd_idx, n_batches):\n",
        "        X_batch, y_batch = X[batch_idx], y[batch_idx]\n",
        "        yield X_batch, y_batch\n",
        "        \n",
        "with tf.Session() as sess:\n",
        "    init.run()\n",
        "    for epoch in range(n_epochs):\n",
        "        for X_batch, y_batch in shuffle_batch(X_train, y_train, batch_size):\n",
        "            sess.run(training_op, feed_dict={X: X_batch, y: y_batch})\n",
        "        acc_batch = accuracy.eval(feed_dict={X: X_batch, y: y_batch})\n",
        "        acc_valid = accuracy.eval(feed_dict={X: X_valid, y: y_valid})\n",
        "        print(epoch, \"Batch accuracy:\", acc_batch, \"Validation accuracy:\", acc_valid)\n",
        "\n",
        "    save_path = saver.save(sess, \"./english_model.ckpt\")"
      ]
    },
    {
      "cell_type": "code",
      "execution_count": 91,
      "metadata": {
        "colab": {
          "base_uri": "https://localhost:8080/",
          "height": 101
        },
        "colab_type": "code",
        "id": "k14ZzQh5mfVo",
        "outputId": "57bf2f59-3ec6-454d-c4b8-b5a722ed46b5",
        "vscode": {
          "languageId": "python"
        }
      },
      "outputs": [
        {
          "name": "stdout",
          "output_type": "stream",
          "text": [
            "INFO:tensorflow:Restoring parameters from ./english_model.ckpt\n",
            "Predicted classes: [ 5 18  2 28  9 28 30 29 25 34  5 28  0  5 11 18 26 11  5  0]\n",
            "Actual classes:    [ 5 18 15 28  9 28 30 29 25 34  5 28  0  5 11 18 26 11  5  0]\n",
            "Neural net accuracy Score with test data (english): \n",
            "Accuracy: 0.97 (+/- 0.00)\n"
          ]
        }
      ],
      "source": [
        "with tf.Session() as sess:\n",
        "    saver.restore(sess, \"./english_model.ckpt\") # or better, use save_path\n",
        "    #------------shuffle before split - to get a better look at the results\n",
        "    indices = np.arange(X_test.shape[0])\n",
        "    np.random.shuffle(indices)\n",
        "\n",
        "    X_test = X_test[indices]\n",
        "    y_test = y_test[indices]\n",
        "    #---------------------------------\n",
        "    X_new_scaled = X_test\n",
        "    Z = logits.eval(feed_dict={X: X_new_scaled})\n",
        "    y_pred = np.argmax(Z, axis=1)\n",
        "    \n",
        "print(\"Predicted classes:\", y_pred[:20])\n",
        "print(\"Actual classes:   \", y_test[:20])\n",
        "\n",
        "from sklearn import metrics\n",
        "print(\"Neural net accuracy Score with test data (english): \")\n",
        "scores = metrics.accuracy_score(y_test, y_pred, normalize=True)\n",
        "print(\"Accuracy: %0.2f (+/- %0.2f)\" % (scores.mean(), scores.std() * 2))"
      ]
    },
    {
      "cell_type": "code",
      "execution_count": 92,
      "metadata": {
        "colab": {
          "base_uri": "https://localhost:8080/",
          "height": 1000
        },
        "colab_type": "code",
        "id": "T1t3Idqap4Kq",
        "outputId": "5647aa7c-d5c1-4818-badc-ffb7d5a1b0ad",
        "vscode": {
          "languageId": "python"
        }
      },
      "outputs": [
        {
          "name": "stdout",
          "output_type": "stream",
          "text": [
            "INFO:tensorflow:Restoring parameters from ./english_model.ckpt\n",
            "[[42  0  0  0  0  0  0  0  0  0  0  0  0  0  0  0  0  0  0  0  0  0  0  0  0  0  0  0  0  0  0  0  0  0  0]\n",
            " [ 0 21  0  0  0  0  0  0  0  0  0  0  0  0  0  0  0  0  0  0  0  0  0  0  0  0  0  0  0  0  0  0  0  0  0]\n",
            " [ 0  0 18  0  0  0  0  0  0  0  0  0  0  0  0  3  0  0  0  0  0  0  0  0  0  0  0  0  0  0  0  0  0  0  0]\n",
            " [ 0  0  0 21  0  0  0  0  0  0  0  0  0  0  0  0  0  0  0  0  0  0  0  0  0  0  0  0  0  0  0  0  0  0  0]\n",
            " [ 0  0  0  0 42  0  0  0  0  0  0  0  0  0  0  0  0  0  0  0  0  0  0  0  0  0  0  0  0  0  0  0  0  0  0]\n",
            " [ 0  0  0  0  0 42  0  0  0  0  0  0  0  0  0  0  0  0  0  0  0  0  0  0  0  0  0  0  0  0  0  0  0  0  0]\n",
            " [ 0  0  0  0  0  0 42  0  0  0  0  0  0  0  0  0  0  0  0  0  0  0  0  0  0  0  0  0  0  0  0  0  0  0  0]\n",
            " [ 0  0  0  0  0  0  0 21  0  0  0  0  0  0  0  0  0  0  0  0  0  0  0  0  0  0  0  0  0  0  0  0  0  0  0]\n",
            " [ 0  0  0  0  0  0  0  0 21  0  0  0  0  0  0  0  0  0  0  0  0  0  0  0  0  0  0  0  0  0  0  0  0  0  0]\n",
            " [ 0  0  0  0  0  0  0  0  0 42  0  0  0  0  0  0  0  0  0  0  0  0  0  0  0  0  0  0  0  0  0  0  0  0  0]\n",
            " [ 0  0  0  0  0  0  0  0  0  0 40  0  0  0  0  0  0  0  0  0  0  0  0  0  1  1  0  0  0  0  0  0  0  0  0]\n",
            " [ 0  0  0  0  0  0  0  0  0  0  0 42  0  0  0  0  0  0  0  0  0  0  0  0  0  0  0  0  0  0  0  0  0  0  0]\n",
            " [ 0  0  0  0  0  0  0  0  0  0  0  0 42  0  0  0  0  0  0  0  0  0  0  0  0  0  0  0  0  0  0  0  0  0  0]\n",
            " [ 0  0  0  0  0  0  0  0  0  0  0  0  0 42  0  0  0  0  0  0  0  0  0  0  0  0  0  0  0  0  0  0  0  0  0]\n",
            " [ 0  0  0  0  0  0  0  0  0  0  0  0  0  0 42  0  0  0  0  0  0  0  0  0  0  0  0  0  0  0  0  0  0  0  0]\n",
            " [ 0  0  2  0  0  0  0  0  0  0  0  0  0  0  0 32  0  0  0  0  0  0  0  0  7  0  0  0  0  0  0  1  0  0  0]\n",
            " [ 0  0  0  0  0  0  0  0  0  0  0  0  0  0  0  0 42  0  0  0  0  0  0  0  0  0  0  0  0  0  0  0  0  0  0]\n",
            " [ 0  0  0  0  0  0  0  0  0  0  0  0  0  0  0  0  0 42  0  0  0  0  0  0  0  0  0  0  0  0  0  0  0  0  0]\n",
            " [ 0  0  0  0  0  0  0  0  0  0  0  0  0  0  0  0  0  0 21  0  0  0  0  0  0  0  0  0  0  0  0  0  0  0  0]\n",
            " [ 0  0  0  0  0  0  0  0  0  0  0  0  0  0  0  0  0  0  0 42  0  0  0  0  0  0  0  0  0  0  0  0  0  0  0]\n",
            " [ 0  0  0  0  0  0  0  0  0  0  0  0  0  0  0  0  0  0  0  0 42  0  0  0  0  0  0  0  0  0  0  0  0  0  0]\n",
            " [ 0  0  0  0  0  0  0  0  0  0  0  0  0  0  0  0  0  0  0  0  0 42  0  0  0  0  0  0  0  0  0  0  0  0  0]\n",
            " [ 0  0  0  0  0  0  0  0  0  0  0  0  0  0  0  0  0  0  0  0  0  0 21  0  0  0  0  0  0  0  0  0  0  0  0]\n",
            " [ 0  0  0  0  0  0  0  0  0  0  0  0  0  0  0  0  0  0  0  0  0  0  0 42  0  0  0  0  0  0  0  0  0  0  0]\n",
            " [ 0  0  4  0  0  0  0  0  0  0  0  0  0  0  0 11  0  0  0  0  0  0  0  0 24  0  0  0  0  0  0  3  0  0  0]\n",
            " [ 0  0  0  0  0  0  0  0  0  0  0  0  0  0  0  0  0  0  0  0  0  0  0  0  0 42  0  0  0  0  0  0  0  0  0]\n",
            " [ 0  0  0  0  0  0  0  0  0  0  0  0  0  0  0  0  0  0  0  0  0  0  0  0  0  0 21  0  0  0  0  0  0  0  0]\n",
            " [ 0  0  0  0  0  0  0  0  0  0  0  0  0  0  0  0  0  0  0  0  0  0  0  0  0  0  0 42  0  0  0  0  0  0  0]\n",
            " [ 0  0  0  0  0  0  0  0  0  0  0  0  0  1  0  0  0  0  0  0  0  0  0  0  0  0  0  0 40  0  0  0  0  0  1]\n",
            " [ 0  0  0  0  0  0  0  0  0  0  0  0  0  0  0  0  0  0  0  0  0  0  0  0  0  0  0  0  0 42  0  0  0  0  0]\n",
            " [ 0  0  0  0  0  0  0  0  0  0  0  0  0  0  0  0  0  0  0  0  0  0  0  0  0  0  0  0  0  0 42  0  0  0  0]\n",
            " [ 0  0  0  0  0  0  0  0  0  0  0  0  0  0  0  0  0  0  0  0  0  0  0  0  0  0  0  0  0  0  0 42  0  0  0]\n",
            " [ 0  0  0  0  0  0  0  0  0  0  0  0  0  0  0  0  0  0  0  0  0  0  0  0  0  0  0  0  0  0  0  0 42  0  0]\n",
            " [ 0  0  0  0  0  0  0  0  0  0  0  2  0  0  0  0  0  0  0  0  0  0  0  0  0  0  0  0  0  0  0  0  0 19  0]\n",
            " [ 0  0  0  0  0  0  0  0  0  0  0  0  0  0  0  0  0  0  0  0  0  0  0  0  0  0  0  0  0  0  0  0  0  0 42]]\n",
            "['h', '9', '1', '2', 'v', 'q', 'k', '4', '6', 'r', 'j', 's', 'g', 'f', 'a', 'l', 'y', 'z', '7', 'n', 'b', 'w', '8', 'x', 'i', 'd', '3', 'p', 'e', 'u', 'o', 't', 'm', '5', 'c']\n"
          ]
        },
        {
          "data": {
            "text/plain": [
              "Text(0.5, 123.0, 'Predicted label')"
            ]
          },
          "execution_count": 92,
          "metadata": {
            "tags": []
          },
          "output_type": "execute_result"
        },
        {
          "data": {
            "image/png": "[encoded data removed]",
            "text/plain": [
              "<Figure size 1152x1152 with 2 Axes>"
            ]
          },
          "metadata": {
            "needs_background": "light",
            "tags": []
          },
          "output_type": "display_data"
        }
      ],
      "source": [
        "import sys\n",
        "import numpy\n",
        "#for the numpy array output version\n",
        "numpy.set_printoptions(threshold=sys.maxsize)#to display all rows\n",
        "numpy.set_printoptions(linewidth =sys.maxsize)#makes it so it the rows dont wrap around\n",
        "\n",
        "with tf.Session() as sess:\n",
        "    saver.restore(sess, \"./english_model.ckpt\")\n",
        "    confusion = tf.confusion_matrix(labels=y_test, predictions=y_pred, num_classes=len(label_tuples))#for its own data (split from the training dataset)\n",
        "    numpy_con_mat = confusion.eval(session=sess)\n",
        "    print(numpy_con_mat)\n",
        "    \n",
        "#numpy_con_mat = numpy_con_mat[:36,:36]\n",
        "con_mat_norm = np.around(numpy_con_mat.astype('float') / numpy_con_mat.sum(axis=1)[:, np.newaxis], decimals=2)#get relative frequency for prediction labels\n",
        "\n",
        "#new tick lables\n",
        "labels_ordered = [ele[0] for ele in label_tuples] #will be in order deteremined by the os walk order.\n",
        "print(labels_ordered)\n",
        "labels_correct = labels_ordered#['a', 'b', 'c', 'd', 'e', 'f', 'g', 'h', 'i', 'j', 'k', 'l', 'm', 'n', 'o', 'p', 'q', 'r', 's', 't', 'u', 'v', 'w', 'x', 'y', 'z', '1', '2', '3', '4', '5', '6', '7', '8', '9']\n",
        "import pandas as pd\n",
        "con_mat_df = pd.DataFrame(con_mat_norm, index = labels_correct, columns = labels_correct)\n",
        "\n",
        "from matplotlib import pyplot as plt\n",
        "import seaborn as sns\n",
        "\n",
        "figure = plt.figure(figsize=(16, 16))\n",
        "\n",
        "sns.heatmap(con_mat_df, annot=True, cmap=plt.cm.Blues)\n",
        "plt.tight_layout()\n",
        "plt.ylabel('True label')\n",
        "plt.xlabel('Predicted label')\n"
      ]
    },
    {
      "cell_type": "markdown",
      "metadata": {
        "colab_type": "text",
        "id": "7Ou770JjHWon"
      },
      "source": [
        "New document letter recognition with neural net:"
      ]
    },
    {
      "cell_type": "code",
      "execution_count": null,
      "metadata": {
        "colab": {
          "base_uri": "https://localhost:8080/",
          "height": 168
        },
        "colab_type": "code",
        "id": "HSjlKuCqupDJ",
        "outputId": "2728b540-a31e-4be1-8496-868a016fa8db",
        "vscode": {
          "languageId": "python"
        }
      },
      "outputs": [],
      "source": [
        "#have each letter classifed and its classification added to a list then printed out, then have this list split appart for each word.\n",
        "# Extract letters from page\n",
        "import cv2\n",
        "import time\n",
        "start_time = time.time()\n",
        "extract = Extract_Letters()\n",
        "\n",
        "letters_in_doc_svm = []\n",
        "\n",
        "letters = extract.extractFile(\"/content/WritingRecognition/old_data_english/testing/shazam.png\", \"defualt\")#add default mode\n",
        "\n",
        "for letter in letters:#for each letter in the file\n",
        "  letters_in_doc_svm.append(letter)#image)\n",
        "  \n",
        "letters_in_doc_svm= np.array(letters_in_doc_svm , dtype=np.float32)#converts to numpy array\n",
        "print(letters_in_doc_svm.shape)#(1303, 20, 20)\n",
        "\n",
        "#-----------------------------------show an image\n",
        "# from PIL import Image\n",
        "# import numpy as np\n",
        "# from matplotlib import pyplot as plt\n",
        "# plt.imshow(letters_in_doc_svm[0], interpolation='nearest')\n",
        "# plt.show()\n",
        "#-----------------------------------\n",
        "\n",
        "letters_in_doc_svm = letters_in_doc_svm.astype(np.float32).reshape(-1, 20*20) #/ 255.0 #no idea why this fixes it! (the data should be exactly the same)\n",
        "print(letters_in_doc_svm.shape)#(1303, 400)"
      ]
    },
    {
      "cell_type": "code",
      "execution_count": null,
      "metadata": {
        "colab": {
          "base_uri": "https://localhost:8080/",
          "height": 70
        },
        "colab_type": "code",
        "id": "ngUrfUdEtX-9",
        "outputId": "b6762c0c-05d7-402a-9081-51713eaa1338",
        "vscode": {
          "languageId": "python"
        }
      },
      "outputs": [],
      "source": [
        "#to classfy an array of images\n",
        "with tf.Session() as sess:\n",
        "    saver.restore(sess, \"./english_model.ckpt\") # or better, use save_path\n",
        "    X_new_scaled =  letters_in_doc_svm#feed img array\n",
        "    Z = logits.eval(feed_dict={X: X_new_scaled})\n",
        "    y_pred = np.argmax(Z, axis=1)\n",
        "\n",
        "print(\"Predicted classes:\", y_pred)"
      ]
    },
    {
      "cell_type": "code",
      "execution_count": 95,
      "metadata": {
        "colab": {
          "base_uri": "https://localhost:8080/",
          "height": 70
        },
        "colab_type": "code",
        "id": "P4g3haovv0CJ",
        "outputId": "434ff59c-12a6-4ec9-ad5f-58e048abcbe5",
        "vscode": {
          "languageId": "python"
        }
      },
      "outputs": [
        {
          "name": "stdout",
          "output_type": "stream",
          "text": [
            "Neural net page interpretation for english: \n",
            "nvldidsgrdphlcschlpsdrentusedjustforgdmesdnymoreslncethecompdnymddeitschipsprogrdmmdbietheydretdklngonfunctlonsthdtinteimicroprocessorsdoandmorethdnevertheydrebeingusedforblgddtdnumbercrunchingdndsolvlngproblemsthdtpreviousiyhddtobedonebynongrdphlcssupercomputersjenhsunhudngkplcturedjchiefexecutlveofnvldldsdldlndkeynotespeechdtthecompdnysgputechconferencethdttopenterprisedndmobiledppcompdnlesdreusinggpuscgrdphlcsprocessingunltsjtohdndlebigddtddndlyticsddvdncesedrchdndtdsksllkefdcerecognitlonthesedppiicdtionsdrespredddcrossthecommercldldndconsumerspdcescustomerswhodreusingnvidldgpuslnserversmddebycomputermdkersinciudeshdzdmsdiesforcecomdndcortexicdtheydreuslngnvldidtesidgpusforcomputingtdsksbeyondtrdditlondigrdphlcsprocessingtheproblemsdthdndinciudedudiosedrchsuchdsshdzdmsservicethdttelisyouwhdtsongyoureiisteningtoontherddlogpusendbleustohdndieourtremendousprocessingneedsdtdsubstdntidicostsdvingsdellverlngtwlcetheperformdnceperdolldrcompdredtodcpubdsedsystemsdidjdsontituschleftechnologyofflcerofshdzdmentertdlnmentwedredddlngmllllonsofvldeodndforelgnldngudgedudlotrdckstoourexlstingservicesdndgpudccelerdtorsglveusdwdytodchievescdldbiegrowthshdzdmcdnidentifythedcousticflngerprintofsongsfromd27miiiiontrdckddtdbdsedndthenservednswersto3oomllllonuserspeopiedredolng1omllllonsongsedrchesdddy\n"
          ]
        }
      ],
      "source": [
        "doc_NN = \"\"\n",
        "#print (time.time() - start_time, \"seconds\" )\n",
        "for ele in y_pred:#num should be the same\n",
        "  doc_NN+=(find_label_string(ele, label_tuples))#gets just the predicted character and adds to the string\n",
        "\n",
        "print(\"Neural net page interpretation for english: \")\n",
        "print(doc_NN)"
      ]
    },
    {
      "cell_type": "markdown",
      "metadata": {
        "colab_type": "text",
        "id": "jJW7ka4XJNX_"
      },
      "source": [
        "# Neural network (greek)"
      ]
    },
    {
      "cell_type": "code",
      "execution_count": 96,
      "metadata": {
        "colab": {
          "base_uri": "https://localhost:8080/",
          "height": 924
        },
        "colab_type": "code",
        "id": "beMtrofzJtil",
        "outputId": "57b6e5ca-86e6-4f3a-a1ea-e186753aaa22",
        "vscode": {
          "languageId": "python"
        }
      },
      "outputs": [
        {
          "name": "stdout",
          "output_type": "stream",
          "text": [
            "Subdirectories are:\n",
            "['δ', 'ζ', 'σ', 'ε', 'λ', 'χ', 'θ', 'κ', 'ξ', 'ν', 'γ', 'ι', 'α', 'τ', 'ω', 'β', 'ο', 'ψ', 'π', 'φ', 'ρ', 'μ', 'υ', 'η']\n",
            "Finished adding δ samples to dataset\n",
            "Finished adding ζ samples to dataset\n",
            "Finished adding σ samples to dataset\n",
            "Finished adding ε samples to dataset\n",
            "Finished adding λ samples to dataset\n",
            "Finished adding χ samples to dataset\n",
            "Finished adding θ samples to dataset\n",
            "Finished adding κ samples to dataset\n",
            "Finished adding ξ samples to dataset\n",
            "Finished adding ν samples to dataset\n",
            "Finished adding γ samples to dataset\n",
            "Finished adding ι samples to dataset\n",
            "Finished adding α samples to dataset\n",
            "Finished adding τ samples to dataset\n",
            "Finished adding ω samples to dataset\n",
            "Finished adding β samples to dataset\n",
            "Finished adding ο samples to dataset\n",
            "Finished adding ψ samples to dataset\n",
            "Finished adding π samples to dataset\n",
            "Finished adding φ samples to dataset\n",
            "Finished adding ρ samples to dataset\n",
            "Finished adding μ samples to dataset\n",
            "Finished adding υ samples to dataset\n",
            "Finished adding η samples to dataset\n",
            "X_train shape: (408, 20, 20)\n",
            "Subdirectories are:\n",
            "['δ', 'ζ', 'σ', 'ε', 'λ', 'χ', 'θ', 'κ', 'ξ', 'ν', 'γ', 'ι', 'α', 'τ', 'ω', 'β', 'ο', 'ψ', 'π', 'φ', 'ρ', 'μ', 'υ', 'η']\n",
            "Finished adding δ samples to dataset\n",
            "Finished adding ζ samples to dataset\n",
            "Finished adding σ samples to dataset\n",
            "Finished adding ε samples to dataset\n",
            "Finished adding λ samples to dataset\n",
            "Finished adding χ samples to dataset\n",
            "Finished adding θ samples to dataset\n",
            "Finished adding κ samples to dataset\n",
            "Finished adding ξ samples to dataset\n",
            "Finished adding ν samples to dataset\n",
            "Finished adding γ samples to dataset\n",
            "Finished adding ι samples to dataset\n",
            "Finished adding α samples to dataset\n",
            "Finished adding τ samples to dataset\n",
            "Finished adding ω samples to dataset\n",
            "Finished adding β samples to dataset\n",
            "Finished adding ο samples to dataset\n",
            "Finished adding ψ samples to dataset\n",
            "Finished adding π samples to dataset\n",
            "Finished adding φ samples to dataset\n",
            "Finished adding ρ samples to dataset\n",
            "Finished adding μ samples to dataset\n",
            "Finished adding υ samples to dataset\n",
            "Finished adding η samples to dataset\n",
            "X_test shape: (240, 20, 20)\n"
          ]
        }
      ],
      "source": [
        "%tensorflow_version 1.x\n",
        "import tensorflow as tf\n",
        "\n",
        "import cv2\n",
        "import glob\n",
        "import numpy as np\n",
        "import os\n",
        "\n",
        "english_training_snippet_dir = \"/content/WritingRecognition/greek_train_snippets/\"\n",
        "english_testing_snippet_dir = \"/content/WritingRecognition/greek_test_snippets/\"\n",
        "\n",
        "X_train = []\n",
        "y_train = []\n",
        "\n",
        "X_test = []\n",
        "y_test = []\n",
        "\n",
        "#given the parent dir, will create append to an empty dataset array and subsiquent labels array (with each sub dir being a label)\n",
        "def create_dataset_and_labels_from_parent_dir(base_dir, test_data, test_labels):\n",
        "  dir_names = next(os.walk(base_dir))[1]\n",
        "  print(\"Subdirectories are:\")\n",
        "  print(dir_names)\n",
        "\n",
        "  def file_names(path):#returns a list of the file names in the directory\n",
        "    return sorted([filename for filename in os.listdir(path) if filename.endswith('.png')])\n",
        "\n",
        "  def append_img_data_and_labels(filenames, label):#given a list of file names load the img into array and appned the label of them to the labels array\n",
        "    for filename in filenames:#for each filename\n",
        "      image = cv2.imread(filename)#load the img\n",
        "      #or do hog features etc.\n",
        "      image = cv2.cvtColor(image, cv2.COLOR_BGR2GRAY)#convert to single channel- from 3 channel to match mnist\n",
        "      test_data.append(image)\n",
        "      test_labels.append(label)\n",
        "    print('Finished adding %s samples to dataset'%(label))\n",
        "\n",
        "  for dir_name in dir_names:#for each directory in the sub dir list\n",
        "    FILENAMES = file_names(base_dir + dir_name)#get file name list for that directory\n",
        "    FILENAMES = [base_dir + dir_name + \"/\" + filename for filename in FILENAMES]#add the full path to all the filenames\n",
        "    append_img_data_and_labels(FILENAMES, dir_name)#use the append method to add to dataset + labels\n",
        "\n",
        "#-----------------------------------------------------------------------------------------------------------------------------\n",
        "\n",
        "create_dataset_and_labels_from_parent_dir(english_training_snippet_dir, X_train, y_train)\n",
        "print('X_train shape:', np.array(X_train).shape)\n",
        "\n",
        "create_dataset_and_labels_from_parent_dir(english_testing_snippet_dir, X_test, y_test)\n",
        "print('X_test shape:', np.array(X_test).shape)\n",
        "\n",
        "#convert to numpy array\n",
        "X_train = np.array(X_train, dtype=np.float32)\n",
        "X_test = np.array(X_test, dtype=np.float32)"
      ]
    },
    {
      "cell_type": "code",
      "execution_count": 97,
      "metadata": {
        "colab": {},
        "colab_type": "code",
        "id": "8Ayr7JVOJtin",
        "vscode": {
          "languageId": "python"
        }
      },
      "outputs": [],
      "source": [
        "#creates a label tuple list and defines a method to find the int label for a string label\n",
        "label_tuples = []\n",
        "\n",
        "value = 0\n",
        "for dir in next(os.walk(\"/content/WritingRecognition/greek_train_snippets\"))[1]:\n",
        "  label_tuples.append((dir, value))\n",
        "  value+=1\n",
        "\n",
        "#finds the int tuple pair of the string label\n",
        "def find_label_value(string_label, label_tuples):\n",
        "  for ele in label_tuples:\n",
        "    if(ele[0]== string_label):\n",
        "      return ele[1]\n",
        "\n",
        "def find_label_string(int_label, label_tuples):\n",
        "  for ele in label_tuples:\n",
        "    if(ele[1]== int_label):\n",
        "      return ele[0]\n",
        "\n",
        "y_train = [find_label_value(label,label_tuples) for label in y_train]\n",
        "\n",
        "y_test = [find_label_value(label,label_tuples) for label in y_test]"
      ]
    },
    {
      "cell_type": "markdown",
      "metadata": {
        "colab_type": "text",
        "id": "SGXd3xVyJtio"
      },
      "source": [
        "Define network:"
      ]
    },
    {
      "cell_type": "code",
      "execution_count": 98,
      "metadata": {
        "colab": {},
        "colab_type": "code",
        "id": "a67Ag403Jtio",
        "vscode": {
          "languageId": "python"
        }
      },
      "outputs": [],
      "source": [
        "%tensorflow_version 1.x\n",
        "import tensorflow as tf\n",
        "tf.__version__\n",
        "\n",
        "n_inputs = 20*20 \n",
        "n_hidden1 = 300\n",
        "n_hidden2 = 100\n",
        "n_outputs = len(label_tuples)#the number of classes\n",
        "\n",
        "X_train = X_train.astype(np.float32).reshape(-1, 20*20) / 255.0\n",
        "X_test = X_test.astype(np.float32).reshape(-1, 20*20) / 255.0\n",
        "\n",
        "y_train = np.array(y_train , dtype=np.int32)#into numpy arrays\n",
        "y_test = np.array(y_test,  dtype=np.int32)\n",
        "\n",
        "#------------------------------- shuffle data and labels before split\n",
        "\n",
        "indices = np.arange(X_train.shape[0])\n",
        "np.random.shuffle(indices)\n",
        "\n",
        "X_train = X_train[indices]\n",
        "y_train = y_train[indices]\n",
        "\n",
        "#-------------------------------\n",
        "\n",
        "X_valid, X_train = X_train[:15], X_train[15:]#take some validation data\n",
        "y_valid, y_train = y_train[:15], y_train[15:]\n",
        "\n",
        "# to make this notebook's output stable across runs\n",
        "def reset_graph(seed=42):\n",
        "    tf.reset_default_graph()\n",
        "    tf.set_random_seed(seed)\n",
        "    np.random.seed(seed)\n",
        "\n",
        "reset_graph()\n",
        "\n",
        "X = tf.placeholder(tf.float32, shape=(None, n_inputs), name=\"X\")\n",
        "y = tf.placeholder(tf.int32, shape=(None), name=\"y\") \n",
        "\n",
        "with tf.name_scope(\"dnn\"):\n",
        "    hidden1 = tf.layers.dense(X, n_hidden1, name=\"hidden1\",\n",
        "                              activation=tf.nn.relu)\n",
        "    hidden2 = tf.layers.dense(hidden1, n_hidden2, name=\"hidden2\",\n",
        "                              activation=tf.nn.relu)\n",
        "    logits = tf.layers.dense(hidden2, n_outputs, name=\"outputs\")\n",
        "    y_proba = tf.nn.softmax(logits)\n",
        "\n",
        "with tf.name_scope(\"loss\"):\n",
        "    xentropy = tf.nn.sparse_softmax_cross_entropy_with_logits(labels=y, logits=logits)\n",
        "    loss = tf.reduce_mean(xentropy, name=\"loss\")\n",
        "\n",
        "learning_rate = 0.01\n",
        "\n",
        "with tf.name_scope(\"train\"):\n",
        "    optimizer = tf.train.GradientDescentOptimizer(learning_rate)\n",
        "    training_op = optimizer.minimize(loss)\n",
        "\n",
        "with tf.name_scope(\"eval\"):\n",
        "    correct = tf.nn.in_top_k(logits, y, 1)\n",
        "    accuracy = tf.reduce_mean(tf.cast(correct, tf.float32))\n",
        "\n",
        "init = tf.global_variables_initializer()\n",
        "saver = tf.train.Saver()\n",
        "\n",
        "n_epochs = 80\n",
        "batch_size = 100"
      ]
    },
    {
      "cell_type": "markdown",
      "metadata": {
        "colab_type": "text",
        "id": "83OA2gfQJtiq"
      },
      "source": [
        "Train:"
      ]
    },
    {
      "cell_type": "code",
      "execution_count": 99,
      "metadata": {
        "colab": {
          "base_uri": "https://localhost:8080/",
          "height": 1000
        },
        "colab_type": "code",
        "id": "JHOaMpVAJtiq",
        "outputId": "c874ba30-2df6-4b0e-a935-a5aa38c80460",
        "vscode": {
          "languageId": "python"
        }
      },
      "outputs": [
        {
          "name": "stdout",
          "output_type": "stream",
          "text": [
            "0 Batch accuracy: 0.022900764 Validation accuracy: 0.0\n",
            "1 Batch accuracy: 0.03816794 Validation accuracy: 0.0\n",
            "2 Batch accuracy: 0.06870229 Validation accuracy: 0.0\n",
            "3 Batch accuracy: 0.06870229 Validation accuracy: 0.0\n",
            "4 Batch accuracy: 0.129771 Validation accuracy: 0.0\n",
            "5 Batch accuracy: 0.14503817 Validation accuracy: 0.0\n",
            "6 Batch accuracy: 0.17557251 Validation accuracy: 0.06666667\n",
            "7 Batch accuracy: 0.17557251 Validation accuracy: 0.06666667\n",
            "8 Batch accuracy: 0.22137405 Validation accuracy: 0.13333334\n",
            "9 Batch accuracy: 0.27480915 Validation accuracy: 0.13333334\n",
            "10 Batch accuracy: 0.29007635 Validation accuracy: 0.13333334\n",
            "11 Batch accuracy: 0.2977099 Validation accuracy: 0.2\n",
            "12 Batch accuracy: 0.2977099 Validation accuracy: 0.2\n",
            "13 Batch accuracy: 0.34351146 Validation accuracy: 0.2\n",
            "14 Batch accuracy: 0.36641222 Validation accuracy: 0.2\n",
            "15 Batch accuracy: 0.38931298 Validation accuracy: 0.2\n",
            "16 Batch accuracy: 0.41984734 Validation accuracy: 0.2\n",
            "17 Batch accuracy: 0.48854962 Validation accuracy: 0.2\n",
            "18 Batch accuracy: 0.47328246 Validation accuracy: 0.2\n",
            "19 Batch accuracy: 0.57251906 Validation accuracy: 0.2\n",
            "20 Batch accuracy: 0.6335878 Validation accuracy: 0.26666668\n",
            "21 Batch accuracy: 0.57251906 Validation accuracy: 0.26666668\n",
            "22 Batch accuracy: 0.67175573 Validation accuracy: 0.33333334\n",
            "23 Batch accuracy: 0.73282444 Validation accuracy: 0.4\n",
            "24 Batch accuracy: 0.65648854 Validation accuracy: 0.46666667\n",
            "25 Batch accuracy: 0.6870229 Validation accuracy: 0.53333336\n",
            "26 Batch accuracy: 0.71755725 Validation accuracy: 0.6\n",
            "27 Batch accuracy: 0.7099237 Validation accuracy: 0.6\n",
            "28 Batch accuracy: 0.7480916 Validation accuracy: 0.6\n",
            "29 Batch accuracy: 0.71755725 Validation accuracy: 0.6666667\n",
            "30 Batch accuracy: 0.8015267 Validation accuracy: 0.73333335\n",
            "31 Batch accuracy: 0.77862597 Validation accuracy: 0.73333335\n",
            "32 Batch accuracy: 0.7633588 Validation accuracy: 0.73333335\n",
            "33 Batch accuracy: 0.77099234 Validation accuracy: 0.73333335\n",
            "34 Batch accuracy: 0.8167939 Validation accuracy: 0.8\n",
            "35 Batch accuracy: 0.79389316 Validation accuracy: 0.8\n",
            "36 Batch accuracy: 0.8549618 Validation accuracy: 0.8\n",
            "37 Batch accuracy: 0.8396947 Validation accuracy: 0.8\n",
            "38 Batch accuracy: 0.8549618 Validation accuracy: 0.8\n",
            "39 Batch accuracy: 0.8167939 Validation accuracy: 0.8\n",
            "40 Batch accuracy: 0.8244275 Validation accuracy: 0.8\n",
            "41 Batch accuracy: 0.89312977 Validation accuracy: 0.8\n",
            "42 Batch accuracy: 0.78625953 Validation accuracy: 0.8\n",
            "43 Batch accuracy: 0.8854962 Validation accuracy: 0.8\n",
            "44 Batch accuracy: 0.870229 Validation accuracy: 0.8\n",
            "45 Batch accuracy: 0.8244275 Validation accuracy: 0.8\n",
            "46 Batch accuracy: 0.8244275 Validation accuracy: 0.8\n",
            "47 Batch accuracy: 0.8167939 Validation accuracy: 0.8\n",
            "48 Batch accuracy: 0.84732825 Validation accuracy: 0.8\n",
            "49 Batch accuracy: 0.86259544 Validation accuracy: 0.8\n",
            "50 Batch accuracy: 0.870229 Validation accuracy: 0.8\n",
            "51 Batch accuracy: 0.8396947 Validation accuracy: 0.8\n",
            "52 Batch accuracy: 0.8778626 Validation accuracy: 0.8\n",
            "53 Batch accuracy: 0.8167939 Validation accuracy: 0.8\n",
            "54 Batch accuracy: 0.8854962 Validation accuracy: 0.8\n",
            "55 Batch accuracy: 0.8549618 Validation accuracy: 0.8\n",
            "56 Batch accuracy: 0.90839696 Validation accuracy: 0.8\n",
            "57 Batch accuracy: 0.9312977 Validation accuracy: 0.8\n",
            "58 Batch accuracy: 0.9160305 Validation accuracy: 0.8\n",
            "59 Batch accuracy: 0.90839696 Validation accuracy: 0.8\n",
            "60 Batch accuracy: 0.90076333 Validation accuracy: 0.8\n",
            "61 Batch accuracy: 0.90839696 Validation accuracy: 0.8\n",
            "62 Batch accuracy: 0.9236641 Validation accuracy: 0.8\n",
            "63 Batch accuracy: 0.90839696 Validation accuracy: 0.8\n",
            "64 Batch accuracy: 0.8854962 Validation accuracy: 0.8\n",
            "65 Batch accuracy: 0.9389313 Validation accuracy: 0.8\n",
            "66 Batch accuracy: 0.8854962 Validation accuracy: 0.8\n",
            "67 Batch accuracy: 0.89312977 Validation accuracy: 0.8\n",
            "68 Batch accuracy: 0.9236641 Validation accuracy: 0.8\n",
            "69 Batch accuracy: 0.89312977 Validation accuracy: 0.8\n",
            "70 Batch accuracy: 0.9160305 Validation accuracy: 0.8\n",
            "71 Batch accuracy: 0.9465649 Validation accuracy: 0.8\n",
            "72 Batch accuracy: 0.9160305 Validation accuracy: 0.8\n",
            "73 Batch accuracy: 0.9389313 Validation accuracy: 0.8\n",
            "74 Batch accuracy: 0.90839696 Validation accuracy: 0.8\n",
            "75 Batch accuracy: 0.9160305 Validation accuracy: 0.8\n",
            "76 Batch accuracy: 0.97709924 Validation accuracy: 0.8\n",
            "77 Batch accuracy: 0.9389313 Validation accuracy: 0.8\n",
            "78 Batch accuracy: 0.9465649 Validation accuracy: 0.8\n",
            "79 Batch accuracy: 0.9389313 Validation accuracy: 0.8\n"
          ]
        }
      ],
      "source": [
        "def shuffle_batch(X, y, batch_size):\n",
        "    rnd_idx = np.random.permutation(len(X))\n",
        "    n_batches = len(X) // batch_size\n",
        "    for batch_idx in np.array_split(rnd_idx, n_batches):\n",
        "        X_batch, y_batch = X[batch_idx], y[batch_idx]\n",
        "        yield X_batch, y_batch\n",
        "        \n",
        "with tf.Session() as sess:\n",
        "    init.run()\n",
        "    for epoch in range(n_epochs):\n",
        "        for X_batch, y_batch in shuffle_batch(X_train, y_train, batch_size):\n",
        "            sess.run(training_op, feed_dict={X: X_batch, y: y_batch})\n",
        "        acc_batch = accuracy.eval(feed_dict={X: X_batch, y: y_batch})\n",
        "        acc_valid = accuracy.eval(feed_dict={X: X_valid, y: y_valid})\n",
        "        print(epoch, \"Batch accuracy:\", acc_batch, \"Validation accuracy:\", acc_valid)\n",
        "\n",
        "    save_path = saver.save(sess, \"./greek_model.ckpt\")"
      ]
    },
    {
      "cell_type": "code",
      "execution_count": 100,
      "metadata": {
        "colab": {
          "base_uri": "https://localhost:8080/",
          "height": 101
        },
        "colab_type": "code",
        "id": "MznMwI5eJtis",
        "outputId": "500d2dae-a4c7-4f96-c844-cfea0277fec5",
        "vscode": {
          "languageId": "python"
        }
      },
      "outputs": [
        {
          "name": "stdout",
          "output_type": "stream",
          "text": [
            "INFO:tensorflow:Restoring parameters from ./greek_model.ckpt\n",
            "Predicted classes: [ 4  1  4  8 20  7  5  6 11 11 21  7  7  8 22 14 22  0  1 15]\n",
            "Actual classes:    [ 4  1  4  8 20  7  5  6 11 11 21  7  7  8 22 14 22  0  1 15]\n",
            "Neural net accuracy Score with test data (greek): \n",
            "Accuracy: 0.96 (+/- 0.00)\n"
          ]
        }
      ],
      "source": [
        "with tf.Session() as sess:\n",
        "    saver.restore(sess, \"./greek_model.ckpt\") # or better, use save_path\n",
        "    #------------shuffle before split - to get a better look at the results\n",
        "    indices = np.arange(X_test.shape[0])\n",
        "    np.random.shuffle(indices)\n",
        "\n",
        "    X_test = X_test[indices]\n",
        "    y_test = y_test[indices]\n",
        "    #---------------------------------\n",
        "    X_new_scaled = X_test\n",
        "    Z = logits.eval(feed_dict={X: X_new_scaled})\n",
        "    y_pred = np.argmax(Z, axis=1)\n",
        "    \n",
        "print(\"Predicted classes:\", y_pred[:20])\n",
        "print(\"Actual classes:   \", y_test[:20])\n",
        "\n",
        "from sklearn import metrics\n",
        "print(\"Neural net accuracy Score with test data (greek): \")\n",
        "scores = metrics.accuracy_score(y_test, y_pred, normalize=True)\n",
        "print(\"Accuracy: %0.2f (+/- %0.2f)\" % (scores.mean(), scores.std() * 2))"
      ]
    },
    {
      "cell_type": "code",
      "execution_count": 101,
      "metadata": {
        "colab": {
          "base_uri": "https://localhost:8080/",
          "height": 1000
        },
        "colab_type": "code",
        "id": "Kd6rK-xHtIOx",
        "outputId": "1497623c-d0cf-41cf-f3ec-c00d7d1cbad5",
        "vscode": {
          "languageId": "python"
        }
      },
      "outputs": [
        {
          "name": "stdout",
          "output_type": "stream",
          "text": [
            "INFO:tensorflow:Restoring parameters from ./greek_model.ckpt\n",
            "[[10  0  0  0  0  0  0  0  0  0  0  0  0  0  0  0  0  0  0  0  0  0  0  0]\n",
            " [ 0 10  0  0  0  0  0  0  0  0  0  0  0  0  0  0  0  0  0  0  0  0  0  0]\n",
            " [ 0  0  9  0  0  0  0  0  0  0  0  0  0  0  0  0  1  0  0  0  0  0  0  0]\n",
            " [ 0  0  0 10  0  0  0  0  0  0  0  0  0  0  0  0  0  0  0  0  0  0  0  0]\n",
            " [ 0  0  0  0 10  0  0  0  0  0  0  0  0  0  0  0  0  0  0  0  0  0  0  0]\n",
            " [ 0  0  0  0  0 10  0  0  0  0  0  0  0  0  0  0  0  0  0  0  0  0  0  0]\n",
            " [ 0  0  0  0  0  0 10  0  0  0  0  0  0  0  0  0  0  0  0  0  0  0  0  0]\n",
            " [ 0  0  0  0  0  0  0 10  0  0  0  0  0  0  0  0  0  0  0  0  0  0  0  0]\n",
            " [ 0  0  0  0  0  0  0  0 10  0  0  0  0  0  0  0  0  0  0  0  0  0  0  0]\n",
            " [ 0  0  0  0  0  0  0  0  0  9  1  0  0  0  0  0  0  0  0  0  0  0  0  0]\n",
            " [ 0  0  0  0  0  0  0  0  0  0 10  0  0  0  0  0  0  0  0  0  0  0  0  0]\n",
            " [ 0  0  0  0  0  0  0  0  0  1  0  8  0  1  0  0  0  0  0  0  0  0  0  0]\n",
            " [ 0  0  1  0  0  0  0  0  0  0  0  0  8  0  0  0  1  0  0  0  0  0  0  0]\n",
            " [ 0  0  0  0  0  0  0  0  0  0  0  0  0 10  0  0  0  0  0  0  0  0  0  0]\n",
            " [ 0  0  0  0  0  0  0  0  0  0  0  0  0  0 10  0  0  0  0  0  0  0  0  0]\n",
            " [ 0  0  0  0  0  0  0  0  0  0  0  0  0  0  0 10  0  0  0  0  0  0  0  0]\n",
            " [ 0  0  0  0  0  0  1  0  0  0  0  0  0  0  0  0  9  0  0  0  0  0  0  0]\n",
            " [ 0  0  0  0  0  0  0  0  0  0  0  0  0  0  0  0  0  9  0  1  0  0  0  0]\n",
            " [ 0  0  0  0  0  0  0  0  0  0  0  0  0  0  0  0  0  0 10  0  0  0  0  0]\n",
            " [ 0  0  0  0  0  0  0  0  0  0  0  0  0  0  0  0  0  2  0  8  0  0  0  0]\n",
            " [ 0  0  0  0  0  0  0  0  0  0  0  0  0  0  0  0  0  0  0  0 10  0  0  0]\n",
            " [ 0  0  0  0  0  0  0  0  0  0  0  0  0  0  0  0  0  0  0  0  0 10  0  0]\n",
            " [ 0  0  0  0  0  0  0  0  0  0  0  0  0  0  0  0  0  0  0  0  0  0 10  0]\n",
            " [ 0  0  0  0  0  0  0  0  0  0  0  0  0  0  0  0  0  0  0  0  0  0  0 10]]\n"
          ]
        },
        {
          "data": {
            "text/plain": [
              "Text(0.5, 123.0, 'Predicted label')"
            ]
          },
          "execution_count": 101,
          "metadata": {
            "tags": []
          },
          "output_type": "execute_result"
        },
        {
          "data": {
            "image/png": "[encoded data removed]",
            "text/plain": [
              "<Figure size 1152x1152 with 2 Axes>"
            ]
          },
          "metadata": {
            "needs_background": "light",
            "tags": []
          },
          "output_type": "display_data"
        }
      ],
      "source": [
        "import sys\n",
        "import numpy\n",
        "#for the numpy array output version\n",
        "numpy.set_printoptions(threshold=sys.maxsize)#to display all rows\n",
        "numpy.set_printoptions(linewidth =sys.maxsize)#makes it so it the rows dont wrap around\n",
        "\n",
        "with tf.Session() as sess:\n",
        "    saver.restore(sess, \"./greek_model.ckpt\")\n",
        "    confusion = tf.confusion_matrix(labels=y_test, predictions=y_pred, num_classes=len(label_tuples))#for its own data (split from the training dataset)\n",
        "    numpy_con_mat = confusion.eval(session=sess)\n",
        "    print(numpy_con_mat)\n",
        "    \n",
        "#numpy_con_mat = numpy_con_mat[:36,:36]\n",
        "con_mat_norm = np.around(numpy_con_mat.astype('float') / numpy_con_mat.sum(axis=1)[:, np.newaxis], decimals=2)#get relative frequency for prediction labels\n",
        "\n",
        "#new tick lables\n",
        "labels_correct = [ele[0] for ele in label_tuples]\n",
        "import pandas as pd\n",
        "con_mat_df = pd.DataFrame(con_mat_norm, index = labels_correct, columns = labels_correct)\n",
        "\n",
        "from matplotlib import pyplot as plt\n",
        "import seaborn as sns\n",
        "\n",
        "figure = plt.figure(figsize=(16, 16))\n",
        "\n",
        "sns.heatmap(con_mat_df, annot=True, cmap=plt.cm.Blues)\n",
        "plt.tight_layout()\n",
        "plt.ylabel('True label')\n",
        "plt.xlabel('Predicted label')\n"
      ]
    },
    {
      "cell_type": "markdown",
      "metadata": {
        "colab_type": "text",
        "id": "nKfNmK0fpNY0"
      },
      "source": [
        "New document letter recognition with neural net:"
      ]
    },
    {
      "cell_type": "code",
      "execution_count": null,
      "metadata": {
        "colab": {
          "base_uri": "https://localhost:8080/",
          "height": 168
        },
        "colab_type": "code",
        "id": "YEVoEpZ5pNY1",
        "outputId": "eb22342c-0576-417b-8e14-dcd2f2f03195",
        "vscode": {
          "languageId": "python"
        }
      },
      "outputs": [],
      "source": [
        "#have each letter classifed and its classification added to a list then printed out, then have this list split appart for each word.\n",
        "# Extract letters from page\n",
        "import cv2\n",
        "import time\n",
        "start_time = time.time()\n",
        "extract = Extract_Letters()\n",
        "\n",
        "letters_in_doc_svm = []\n",
        "\n",
        "letters = extract.extractFile(\"/content/WritingRecognition/Greek_data_test/greek letters test 1-1.png\", \"defualt\")#add default mode\n",
        "\n",
        "for letter in letters:#for each letter in the file\n",
        "  letters_in_doc_svm.append(letter)#image)\n",
        "  \n",
        "letters_in_doc_svm= np.array(letters_in_doc_svm , dtype=np.float32)#converts to numpy array\n",
        "print(letters_in_doc_svm.shape)#(1303, 20, 20)\n",
        "\n",
        "#-----------------------------------show an image\n",
        "# from PIL import Image\n",
        "# import numpy as np\n",
        "# from matplotlib import pyplot as plt\n",
        "# plt.imshow(letters_in_doc_svm[0], interpolation='nearest')\n",
        "# plt.show()\n",
        "#-----------------------------------\n",
        "\n",
        "letters_in_doc_svm = letters_in_doc_svm.astype(np.float32).reshape(-1, 20*20) #/ 255.0 #no idea why this fixes it! (the data should be exactly the same)\n",
        "print(letters_in_doc_svm.shape)#(1303, 400)"
      ]
    },
    {
      "cell_type": "code",
      "execution_count": 103,
      "metadata": {
        "colab": {
          "base_uri": "https://localhost:8080/",
          "height": 70
        },
        "colab_type": "code",
        "id": "_4depIhDpNY4",
        "outputId": "30e44a75-53cc-49ae-f359-93e1ac74fe23",
        "vscode": {
          "languageId": "python"
        }
      },
      "outputs": [
        {
          "name": "stdout",
          "output_type": "stream",
          "text": [
            "INFO:tensorflow:Restoring parameters from ./greek_model.ckpt\n",
            "Predicted classes: [12 15 10  0  3  1 23  6 11  7  4 21  9  8 16 18 20  2 13 22 19  5 17 14 12 15 10  0  3  1 23  6 11  7  4 21  9  8 16 18 20  2 13 22 19  5 17 14 12 15 10  0  3  1 23  6 11  7  4 21  9  8 16 18 20  2 13 22 19  5 17 14 12 15 10  0  3  1 23  6 11  7  4 21  9  8 16 18 20  2 13 22 19  5 17 14 12 15 10  0  3  1 23  6 11  7  4 21  9  8 16 18 20  2 13 22 19  5 19 14 12 15 10  0  3  1 23  6 11  7  4 21  9  8  6 18 20  2 13 22 19  5 17 14]\n"
          ]
        }
      ],
      "source": [
        "#to classfy an array of images\n",
        "with tf.Session() as sess:\n",
        "    saver.restore(sess, \"./greek_model.ckpt\") # or better, use save_path\n",
        "    X_new_scaled =  letters_in_doc_svm#feed img array\n",
        "    Z = logits.eval(feed_dict={X: X_new_scaled})\n",
        "    y_pred = np.argmax(Z, axis=1)\n",
        "\n",
        "print(\"Predicted classes:\", y_pred)"
      ]
    },
    {
      "cell_type": "code",
      "execution_count": 104,
      "metadata": {
        "colab": {
          "base_uri": "https://localhost:8080/",
          "height": 151
        },
        "colab_type": "code",
        "id": "24KzRB_ppNY7",
        "outputId": "105f321d-75fa-4fcd-ccff-09fac6881266",
        "vscode": {
          "languageId": "python"
        }
      },
      "outputs": [
        {
          "name": "stdout",
          "output_type": "stream",
          "text": [
            "Neural net page interpretation for greek: \n",
            "\n",
            "αβγδεζηθικλμνξοπρστυφχψω\n",
            "αβγδεζηθικλμνξοπρστυφχψω\n",
            "αβγδεζηθικλμνξοπρστυφχψω\n",
            "αβγδεζηθικλμνξοπρστυφχψω\n",
            "αβγδεζηθικλμνξοπρστυφχφω\n",
            "αβγδεζηθικλμνξθπρστυφχψω\n"
          ]
        }
      ],
      "source": [
        "doc_NN = \"\"\n",
        "#print (time.time() - start_time, \"seconds\" )\n",
        "total = 0\n",
        "for ele in y_pred:#num should be the same\n",
        "  if(total % 24 == 0):#splits the known print data for nicer output\n",
        "    doc_NN+= \"\\n\"\n",
        "  doc_NN+=(find_label_string(ele, label_tuples))#gets just the predicted character and adds to the string\n",
        "  total +=1\n",
        "\n",
        "print(\"Neural net page interpretation for greek: \")\n",
        "print(doc_NN)"
      ]
    }
  ],
  "metadata": {
    "colab": {
      "collapsed_sections": [
        "kg-vepPxGZJc",
        "PIw3edpNGqwG",
        "fl7NIBDIGxdI",
        "LrxduQeHG4P8",
        "CoAGxXldIHsq",
        "YGwvR8e3IBO_",
        "qR1IDz8GIVeU",
        "kNS7Y6AYHK1e",
        "JPt8VT4yHyzD",
        "XoNBe3qrHaWY"
      ],
      "name": "Ai CW part 1",
      "provenance": [],
      "toc_visible": true
    },
    "kernelspec": {
      "display_name": "Python 3",
      "name": "python3"
    }
  },
  "nbformat": 4,
  "nbformat_minor": 0
}
