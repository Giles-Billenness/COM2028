{
  "cells": [
    {
      "cell_type": "markdown",
      "metadata": {
        "colab_type": "text",
        "id": "4hJAfNMlpn0_"
      },
      "source": [
        "# Pre setup"
      ]
    },
    {
      "cell_type": "code",
      "execution_count": 1,
      "metadata": {
        "colab": {
          "base_uri": "https://localhost:8080/",
          "height": 235
        },
        "colab_type": "code",
        "id": "gGqY9rTqfRMl",
        "outputId": "ff3e92e6-341e-4051-cc6e-659f87f0b900",
        "vscode": {
          "languageId": "python"
        }
      },
      "outputs": [
        {
          "name": "stdout",
          "output_type": "stream",
          "text": [
            "Collecting scipy==1.1.0\n",
            "\u001b[?25l  Downloading https://files.pythonhosted.org/packages/a8/0b/f163da98d3a01b3e0ef1cab8dd2123c34aee2bafbb1c5bffa354cc8a1730/scipy-1.1.0-cp36-cp36m-manylinux1_x86_64.whl (31.2MB)\n",
            "\u001b[K     |████████████████████████████████| 31.2MB 139kB/s \n",
            "\u001b[?25hRequirement already satisfied: numpy>=1.8.2 in /usr/local/lib/python3.6/dist-packages (from scipy==1.1.0) (1.18.5)\n",
            "\u001b[31mERROR: umap-learn 0.4.4 has requirement scipy>=1.3.1, but you'll have scipy 1.1.0 which is incompatible.\u001b[0m\n",
            "\u001b[31mERROR: tensorflow 2.2.0 has requirement scipy==1.4.1; python_version >= \"3\", but you'll have scipy 1.1.0 which is incompatible.\u001b[0m\n",
            "\u001b[31mERROR: plotnine 0.6.0 has requirement scipy>=1.2.0, but you'll have scipy 1.1.0 which is incompatible.\u001b[0m\n",
            "\u001b[31mERROR: albumentations 0.1.12 has requirement imgaug<0.2.7,>=0.2.5, but you'll have imgaug 0.2.9 which is incompatible.\u001b[0m\n",
            "Installing collected packages: scipy\n",
            "  Found existing installation: scipy 1.4.1\n",
            "    Uninstalling scipy-1.4.1:\n",
            "      Successfully uninstalled scipy-1.4.1\n",
            "Successfully installed scipy-1.1.0\n"
          ]
        }
      ],
      "source": [
        "#extract letters\n",
        "!pip install scipy==1.1.0\n",
        "# You need to restart the Runtime after installing the scipy"
      ]
    },
    {
      "cell_type": "code",
      "execution_count": 2,
      "metadata": {
        "colab": {
          "base_uri": "https://localhost:8080/",
          "height": 202
        },
        "colab_type": "code",
        "id": "l2R99QsEMEnA",
        "outputId": "ee258b27-1716-4340-f6a2-27526a494967",
        "vscode": {
          "languageId": "python"
        }
      },
      "outputs": [
        {
          "name": "stdout",
          "output_type": "stream",
          "text": [
            "Collecting emnist\n",
            "  Downloading https://files.pythonhosted.org/packages/d1/f4/78b24acbef9e8fe976dda700f16a3606f3b8363b015bc555f8050fbbd8ac/emnist-0.0-py3-none-any.whl\n",
            "Requirement already satisfied: numpy in /usr/local/lib/python3.6/dist-packages (from emnist) (1.18.5)\n",
            "Requirement already satisfied: requests in /usr/local/lib/python3.6/dist-packages (from emnist) (2.23.0)\n",
            "Requirement already satisfied: tqdm in /usr/local/lib/python3.6/dist-packages (from emnist) (4.41.1)\n",
            "Requirement already satisfied: urllib3!=1.25.0,!=1.25.1,<1.26,>=1.21.1 in /usr/local/lib/python3.6/dist-packages (from requests->emnist) (1.24.3)\n",
            "Requirement already satisfied: idna<3,>=2.5 in /usr/local/lib/python3.6/dist-packages (from requests->emnist) (2.9)\n",
            "Requirement already satisfied: chardet<4,>=3.0.2 in /usr/local/lib/python3.6/dist-packages (from requests->emnist) (3.0.4)\n",
            "Requirement already satisfied: certifi>=2017.4.17 in /usr/local/lib/python3.6/dist-packages (from requests->emnist) (2020.4.5.2)\n",
            "Installing collected packages: emnist\n",
            "Successfully installed emnist-0.0\n"
          ]
        }
      ],
      "source": [
        "!pip install emnist #get the dataset"
      ]
    },
    {
      "cell_type": "code",
      "execution_count": 3,
      "metadata": {
        "colab": {},
        "colab_type": "code",
        "id": "Gs1wPZ98OPMn",
        "vscode": {
          "languageId": "python"
        }
      },
      "outputs": [],
      "source": [
        "#github for testing files\n",
        "import requests\n",
        "import zipfile\n",
        "import io\n",
        "r = requests.get('https://github.com/Giles-Billenness/COM2028/raw/master/COM2028part2(handwriting).zip')#change\n",
        "z = zipfile.ZipFile(io.BytesIO(r.content))\n",
        "z.extractall()"
      ]
    },
    {
      "cell_type": "markdown",
      "metadata": {
        "colab_type": "text",
        "id": "lfAKEamaMAfo"
      },
      "source": [
        "Extract letters from doc class"
      ]
    },
    {
      "cell_type": "code",
      "execution_count": 4,
      "metadata": {
        "colab": {},
        "colab_type": "code",
        "id": "-2iThuGNUyp3",
        "vscode": {
          "languageId": "python"
        }
      },
      "outputs": [],
      "source": [
        "import time\n",
        "import numpy as np\n",
        "import matplotlib.pyplot as plt\n",
        "import matplotlib.patches as mpatches\n",
        "from scipy.misc import imread, imresize, imsave\n",
        "from skimage.morphology import label\n",
        "from skimage.measure import regionprops\n",
        "from skimage.transform import resize\n",
        "\n",
        "class Extract_Letters:\n",
        "    def extractFile(self, filename, mode):    \n",
        "        image = imread(filename, 1)\n",
        "\n",
        "        # apply threshold in order to make the image binary\n",
        "        bw = (image < 120).astype(np.float)\n",
        "\n",
        "        # remove artifacts connected to image border\n",
        "        cleared = bw.copy()\n",
        "        # clear_border(cleared)\n",
        "\n",
        "        # label image regions\n",
        "        label_image = label(cleared, neighbors=8)\n",
        "        borders = np.logical_xor(bw, cleared)\n",
        "        label_image[borders] = -1\n",
        "\n",
        "        letters = list()\n",
        "        order = list()\n",
        "        total = 0\n",
        "        for region in regionprops(label_image):\n",
        "            minr, minc, maxr, maxc = region.bbox\n",
        "            \n",
        "            # skip small images\n",
        "            if maxr - minr > len(image) / 250:  # better to use height rather than area.\n",
        "\n",
        "                #minr-=(maxr - minr)*0.20#increase area of each box to fit data\n",
        "\n",
        "                # maxr+=(maxr - minr)*0.20\n",
        "\n",
        "                # minc-=(maxc - minc)*0.20\n",
        "\n",
        "                # maxc+=(maxc - minc)*0.20\n",
        "\n",
        "                rect = mpatches.Rectangle((minc, minr), maxc - minc, maxr - minr,\n",
        "                                          fill=False, edgecolor='red', linewidth=2)\n",
        "                total+=1\n",
        "                order.append((int(minr), minc, maxr, maxc))#region.bbox)\n",
        "\n",
        "        # sort the detected characters left->right, top->bottom\n",
        "        lines = list()\n",
        "        first_in_line = ''\n",
        "        counter = 0\n",
        "\n",
        "        # worst case scenario there can be 1 character per line\n",
        "        for x in range(len(order)):\n",
        "            lines.append([])\n",
        "\n",
        "        for character in order:\n",
        "            if first_in_line == '':\n",
        "                first_in_line = character\n",
        "                lines[counter].append(character)\n",
        "            elif abs(character[0] - first_in_line[0]) < (first_in_line[2] - first_in_line[0]):\n",
        "                lines[counter].append(character)\n",
        "            elif abs(character[0] - first_in_line[0]) > (first_in_line[2] - first_in_line[0]):\n",
        "                first_in_line = character\n",
        "                counter += 1\n",
        "                lines[counter].append(character)\n",
        "\n",
        "        for x in range(len(lines)):\n",
        "            lines[x].sort(key=lambda tup: tup[1])\n",
        "\n",
        "        final = list()\n",
        "        prev_tr = 0\n",
        "        prev_line_br = 0\n",
        "\n",
        "        for i in range(len(lines)):\n",
        "            for j in range(len(lines[i])):\n",
        "                tl_2 = lines[i][j][1]\n",
        "                bl_2 = lines[i][j][0]\n",
        "                if tl_2 > prev_tr and bl_2 > prev_line_br:\n",
        "                    tl, tr, bl, br = lines[i][j]\n",
        "                    letter_raw = bw[tl:bl, tr:br]\n",
        "                    letter_norm = resize(letter_raw, (28, 28))\n",
        "                    final.append(letter_norm)\n",
        "                    prev_tr = lines[i][j][3]\n",
        "                if j == (len(lines[i]) - 1):\n",
        "                    prev_line_br = lines[i][j][2]\n",
        "            prev_tr = 0\n",
        "            tl_2 = 0\n",
        "            #print ('Characters recognized: ' + str(len(final)))\n",
        "\n",
        "        print(filename)\n",
        "        if(mode == \"english\"): \n",
        "          print(\"Does THIS FILE HAVE CORRECT NUM OF CHARACTERS\")\n",
        "          print(\"for a english training or testing document?\")\n",
        "          print(total % 61 == 0)\n",
        "        if(mode == \"greek\"):\n",
        "          print(\"Does THIS FILE HAVE CORRECT NUM OF CHARACTERS\")\n",
        "          print(\"for a greek training or testing document?\")\n",
        "          print(total % 24 == 0)\n",
        "\n",
        "        return final\n",
        "    \n",
        "    def __init__(self):\n",
        "        print(\"Extracting characters...\")\n"
      ]
    },
    {
      "cell_type": "markdown",
      "metadata": {
        "colab_type": "text",
        "id": "rxMXdtzHi7i3"
      },
      "source": [
        "Check the boxes on the testing document:"
      ]
    },
    {
      "cell_type": "code",
      "execution_count": null,
      "metadata": {
        "colab": {
          "base_uri": "https://localhost:8080/",
          "height": 1000
        },
        "colab_type": "code",
        "id": "vvLX5BF8i-UT",
        "outputId": "5fc8eb1e-e8e7-4483-eb9c-2f15ce8c6ff2",
        "vscode": {
          "languageId": "python"
        }
      },
      "outputs": [
        {
          "name": "stderr",
          "output_type": "stream",
          "text": [
            "/usr/local/lib/python3.6/dist-packages/ipykernel_launcher.py:9: DeprecationWarning: `imread` is deprecated!\n",
            "`imread` is deprecated in SciPy 1.0.0, and will be removed in 1.2.0.\n",
            "Use ``imageio.imread`` instead.\n",
            "  if __name__ == '__main__':\n",
            "/usr/local/lib/python3.6/dist-packages/ipykernel_launcher.py:19: UserWarning: The argument 'neighbors' is deprecated and will be removed in scikit-image 0.18, use 'connectivity' instead. For neighbors=8, use connectivity=2\n"
          ]
        },
        {
          "name": "stdout",
          "output_type": "stream",
          "text": [
            "138\n"
          ]
        },
        {
          "data": {
            "image/png": "[encoded data removed]",
            "text/plain": [
              "<Figure size 1152x1152 with 1 Axes>"
            ]
          },
          "metadata": {
            "needs_background": "light",
            "tags": []
          },
          "output_type": "display_data"
        }
      ],
      "source": [
        "import numpy as np\n",
        "import matplotlib.pyplot as plt\n",
        "import matplotlib.patches as mpatches\n",
        "from scipy.misc import imread,imresize\n",
        "from skimage.segmentation import clear_border\n",
        "from skimage.morphology import label\n",
        "from skimage.measure import regionprops\n",
        "\n",
        "image = imread(\"/content/Handwriting documents/hand write 4-1.png\",1)\n",
        "\n",
        "#apply threshold in order to make the image binary\n",
        "bw = image < 120\n",
        "\n",
        "# remove artifacts connected to image border\n",
        "cleared = bw.copy()\n",
        "clear_border(cleared)\n",
        "\n",
        "# label image regions\n",
        "label_image = label(cleared,neighbors=8)\n",
        "borders = np.logical_xor(bw, cleared)\n",
        "label_image[borders] = -1\n",
        "\n",
        "print (label_image.max())\n",
        "\n",
        "fig, ax = plt.subplots(ncols=1, nrows=1, figsize=(16, 16))\n",
        "ax.imshow(bw, cmap='jet')\n",
        "\n",
        "#total = 0\n",
        "for region in regionprops(label_image):\n",
        "    # skip small images\n",
        "    minr, minc, maxr, maxc = region.bbox\n",
        "    #if region.area > 50:\n",
        "    if maxr - minr > len(bw) / 250:#new CONDITION\n",
        "        # draw rectangle around segmented coins\n",
        "        \n",
        "        #print(type(maxr))\n",
        "        #add 1/4th the height to the height to include dots on letters\n",
        "        #minr-=(maxr - minr)*0.20\n",
        "\n",
        "        # maxr+=(maxr - minr)*0.20\n",
        "\n",
        "        # minc-=(maxc - minc)*0.20\n",
        "\n",
        "        # maxc+=(maxc - minc)*0.20\n",
        "\n",
        "        rect = mpatches.Rectangle((minc, minr), (maxc - minc), (maxr - minr), fill=False, edgecolor='red', linewidth=2)\n",
        "        ax.add_patch(rect)\n",
        "        #total+=1\n",
        "\n",
        "# plt.show()\n",
        "# print(total)\n",
        "# print(total % 61)\n",
        "# print(total % 61 == 0)"
      ]
    },
    {
      "cell_type": "markdown",
      "metadata": {
        "colab_type": "text",
        "id": "zKkeHzPiUaQy"
      },
      "source": [
        "# NN - Setup Dataset (Emnist):"
      ]
    },
    {
      "cell_type": "code",
      "execution_count": 5,
      "metadata": {
        "colab": {
          "base_uri": "https://localhost:8080/",
          "height": 118
        },
        "colab_type": "code",
        "id": "2ij6425kNQGx",
        "outputId": "be9ca59a-7c0a-40da-e226-bea4a3f3b455",
        "vscode": {
          "languageId": "python"
        }
      },
      "outputs": [
        {
          "name": "stderr",
          "output_type": "stream",
          "text": [
            "Downloading emnist.zip: 536MB [00:06, 82.5MB/s]\n"
          ]
        },
        {
          "name": "stdout",
          "output_type": "stream",
          "text": [
            "(240000, 28, 28)\n",
            "(240000,)\n",
            "(124800, 28, 28)\n",
            "(124800,)\n",
            "<class 'numpy.ndarray'>\n"
          ]
        }
      ],
      "source": [
        "from emnist import extract_training_samples\n",
        "import numpy as np\n",
        "\n",
        "images_digits, labels_digits = extract_training_samples('digits')#gets the digits data + labels\n",
        "images_letters, labels_letters = extract_training_samples('letters')#gets the letters data + labels\n",
        "\n",
        "images_digits = np.copy(images_digits)#copy to make them writeable\n",
        "labels_digits = np.copy(labels_digits)\n",
        "\n",
        "images_letters = np.copy(images_letters)\n",
        "labels_letters = np.copy(labels_letters)\n",
        "\n",
        "\n",
        "print(images_digits.shape)\n",
        "print(labels_digits.shape)\n",
        "\n",
        "print(images_letters.shape)\n",
        "print(labels_letters.shape)\n",
        "      \n",
        "print(type(images_digits))"
      ]
    },
    {
      "cell_type": "code",
      "execution_count": 106,
      "metadata": {
        "colab": {
          "base_uri": "https://localhost:8080/",
          "height": 265
        },
        "colab_type": "code",
        "id": "psnZAAiC1pfw",
        "outputId": "a843c257-49a8-4b0a-f4da-4181862538b6",
        "vscode": {
          "languageId": "python"
        }
      },
      "outputs": [
        {
          "data": {
            "image/png": "[encoded data removed]",
            "text/plain": [
              "<Figure size 432x288 with 1 Axes>"
            ]
          },
          "metadata": {
            "needs_background": "light",
            "tags": []
          },
          "output_type": "display_data"
        }
      ],
      "source": [
        "#-----------------------------------show an image\n",
        "from PIL import Image\n",
        "import numpy as np\n",
        "from matplotlib import pyplot as plt\n",
        "plt.imshow(images_digits[1330], interpolation='nearest')\n",
        "plt.show()\n",
        "#-----------------------------------"
      ]
    },
    {
      "cell_type": "code",
      "execution_count": 6,
      "metadata": {
        "colab": {
          "base_uri": "https://localhost:8080/",
          "height": 84
        },
        "colab_type": "code",
        "id": "w-WqQNEKQRQu",
        "outputId": "b28dcb8b-9617-4ad4-feff-4f3733976893",
        "vscode": {
          "languageId": "python"
        }
      },
      "outputs": [
        {
          "name": "stdout",
          "output_type": "stream",
          "text": [
            "min val digets: 0\n",
            "max val digets: 9\n",
            "min val letters: 0\n",
            "max val letters: 26\n"
          ]
        }
      ],
      "source": [
        "#show what the labels look like for each set\n",
        "minval_digets = 0\n",
        "for ele in labels_digits:\n",
        "  minval_digets = min(ele, minval_digets)\n",
        "print(\"min val digets:\",minval_digets)#0\n",
        "\n",
        "maxval_digets = 0\n",
        "for ele in labels_digits:\n",
        "  maxval_digets = max(ele, maxval_digets)\n",
        "print(\"max val digets:\",maxval_digets)#0-9\n",
        "\n",
        "\n",
        "minval_letters = 0\n",
        "for ele in labels_letters:\n",
        "  minval_letters = min(ele, minval_letters)\n",
        "print(\"min val letters:\",minval_letters)#0\n",
        "\n",
        "maxval_letters = 0\n",
        "for ele in labels_letters:\n",
        "  maxval_letters = max(ele, maxval_letters)\n",
        "print(\"max val letters:\",maxval_letters)#0-26"
      ]
    },
    {
      "cell_type": "code",
      "execution_count": 7,
      "metadata": {
        "colab": {
          "base_uri": "https://localhost:8080/",
          "height": 50
        },
        "colab_type": "code",
        "id": "LBOr9m-DOucO",
        "outputId": "d15eb001-9b19-48c9-f8ae-a24f3c03078a",
        "vscode": {
          "languageId": "python"
        }
      },
      "outputs": [
        {
          "name": "stdout",
          "output_type": "stream",
          "text": [
            "(364800, 28, 28)\n",
            "(364800,)\n"
          ]
        }
      ],
      "source": [
        "#unify digit and letters data\n",
        "\n",
        "#cut out some number data: (so around equal amounts of data for each class)\n",
        "images_digits = images_digits[:62400]#can comment this out to see the differance\n",
        "labels_digits = labels_digits[:62400]\n",
        "\n",
        "union_data = np.concatenate((images_digits, images_letters), axis=0, out=None)\n",
        "\n",
        "#before union lables, correct to have label vals being greater than the max letter ones]\n",
        "\n",
        "labels_digits+=maxval_letters+1\n",
        "\n",
        "union_labels = np.concatenate((labels_digits, labels_letters), axis=0, out=None)\n",
        "\n",
        "union_labels-=1\n",
        "\n",
        "print(union_data.shape)\n",
        "print(union_labels.shape)"
      ]
    },
    {
      "cell_type": "code",
      "execution_count": 8,
      "metadata": {
        "colab": {},
        "colab_type": "code",
        "id": "NCCJnehwS8Tw",
        "vscode": {
          "languageId": "python"
        }
      },
      "outputs": [],
      "source": [
        "#could shuffle before split but it looks fairly random\n",
        "\n",
        "#split data into training and testing data\n",
        "from sklearn.model_selection import train_test_split\n",
        "X_train, X_test, y_train, y_test = train_test_split(union_data, union_labels, random_state=0, test_size=0.20)"
      ]
    },
    {
      "cell_type": "markdown",
      "metadata": {
        "colab_type": "text",
        "id": "b8qJj2PSMxk2"
      },
      "source": [
        "# Neural net:"
      ]
    },
    {
      "cell_type": "code",
      "execution_count": 9,
      "metadata": {
        "colab": {
          "base_uri": "https://localhost:8080/",
          "height": 134
        },
        "colab_type": "code",
        "id": "IKlCkXQFk_o-",
        "outputId": "657016bc-34e4-4e17-c6c2-79c3f2b51045",
        "vscode": {
          "languageId": "python"
        }
      },
      "outputs": [
        {
          "name": "stdout",
          "output_type": "stream",
          "text": [
            "TensorFlow 1.x selected.\n",
            "WARNING:tensorflow:From <ipython-input-9-e602f21954da>:44: dense (from tensorflow.python.layers.core) is deprecated and will be removed in a future version.\n",
            "Instructions for updating:\n",
            "Use keras.layers.Dense instead.\n",
            "WARNING:tensorflow:From /tensorflow-1.15.2/python3.6/tensorflow_core/python/layers/core.py:187: Layer.apply (from tensorflow.python.keras.engine.base_layer) is deprecated and will be removed in a future version.\n",
            "Instructions for updating:\n",
            "Please use `layer.__call__` method instead.\n"
          ]
        }
      ],
      "source": [
        "%tensorflow_version 1.x\n",
        "import tensorflow as tf\n",
        "tf.__version__\n",
        "\n",
        "n_inputs = 28*28 \n",
        "n_hidden1 = 300\n",
        "n_hidden2 = 100\n",
        "n_outputs = 26+9+1#the number of classes\n",
        "\n",
        "\n",
        "X_train = X_train.astype(np.float32).reshape(-1, 28*28) / 255.0\n",
        "X_test = X_test.astype(np.float32).reshape(-1, 28*28) / 255.0\n",
        "\n",
        "y_train = y_train.astype(np.int32)\n",
        "y_test = y_test.astype(np.int32)\n",
        "\n",
        "\n",
        "#------------------------------- shuffle data and labels before split\n",
        "\n",
        "indices = np.arange(X_train.shape[0])\n",
        "np.random.shuffle(indices)\n",
        "\n",
        "X_train = X_train[indices]\n",
        "y_train = y_train[indices]\n",
        "\n",
        "#-------------------------------\n",
        "\n",
        "X_valid, X_train = X_train[:5000], X_train[5000:]#take some validation data\n",
        "y_valid, y_train = y_train[:5000], y_train[5000:]\n",
        "\n",
        "# to make this notebook's output stable across runs\n",
        "def reset_graph(seed=42):\n",
        "    tf.reset_default_graph()\n",
        "    tf.set_random_seed(seed)\n",
        "    np.random.seed(seed)\n",
        "\n",
        "reset_graph()\n",
        "\n",
        "X = tf.placeholder(tf.float32, shape=(None, n_inputs), name=\"X\")\n",
        "y = tf.placeholder(tf.int32, shape=(None), name=\"y\") \n",
        "\n",
        "with tf.name_scope(\"dnn\"):\n",
        "    hidden1 = tf.layers.dense(X, n_hidden1, name=\"hidden1\",\n",
        "                              activation=tf.nn.relu)\n",
        "    hidden2 = tf.layers.dense(hidden1, n_hidden2, name=\"hidden2\",\n",
        "                              activation=tf.nn.relu)\n",
        "    logits = tf.layers.dense(hidden2, n_outputs, name=\"outputs\")\n",
        "    y_proba = tf.nn.softmax(logits)\n",
        "\n",
        "with tf.name_scope(\"loss\"):\n",
        "    xentropy = tf.nn.sparse_softmax_cross_entropy_with_logits(labels=y, logits=logits)\n",
        "    loss = tf.reduce_mean(xentropy, name=\"loss\")\n",
        "\n",
        "learning_rate = 0.01\n",
        "\n",
        "with tf.name_scope(\"train\"):\n",
        "    optimizer = tf.train.GradientDescentOptimizer(learning_rate)#SGD\n",
        "    training_op = optimizer.minimize(loss)\n",
        "\n",
        "with tf.name_scope(\"eval\"):\n",
        "    correct = tf.nn.in_top_k(logits, y, 1)\n",
        "    accuracy = tf.reduce_mean(tf.cast(correct, tf.float32))\n",
        "\n",
        "init = tf.global_variables_initializer()\n",
        "saver = tf.train.Saver()\n",
        "\n",
        "n_epochs = 80\n",
        "batch_size = 100"
      ]
    },
    {
      "cell_type": "code",
      "execution_count": 10,
      "metadata": {
        "colab": {
          "base_uri": "https://localhost:8080/",
          "height": 1000
        },
        "colab_type": "code",
        "id": "aYo4VqhimbV4",
        "outputId": "29433345-76ed-4fe6-e87d-82a2cb2efeca",
        "vscode": {
          "languageId": "python"
        }
      },
      "outputs": [
        {
          "name": "stdout",
          "output_type": "stream",
          "text": [
            "Epoch: 0 Batch accuracy: 0.72 Validation accuracy: 0.7476\n",
            "Epoch: 1 Batch accuracy: 0.79 Validation accuracy: 0.7836\n",
            "Epoch: 2 Batch accuracy: 0.83 Validation accuracy: 0.8074\n",
            "Epoch: 3 Batch accuracy: 0.85 Validation accuracy: 0.8264\n",
            "Epoch: 4 Batch accuracy: 0.86 Validation accuracy: 0.8408\n",
            "Epoch: 5 Batch accuracy: 0.83 Validation accuracy: 0.8506\n",
            "Epoch: 6 Batch accuracy: 0.88 Validation accuracy: 0.86\n",
            "Epoch: 7 Batch accuracy: 0.9 Validation accuracy: 0.8624\n",
            "Epoch: 8 Batch accuracy: 0.89 Validation accuracy: 0.8702\n",
            "Epoch: 9 Batch accuracy: 0.88 Validation accuracy: 0.8694\n",
            "Epoch: 10 Batch accuracy: 0.91 Validation accuracy: 0.8726\n",
            "Epoch: 11 Batch accuracy: 0.89 Validation accuracy: 0.8776\n",
            "Epoch: 12 Batch accuracy: 0.87 Validation accuracy: 0.877\n",
            "Epoch: 13 Batch accuracy: 0.93 Validation accuracy: 0.8838\n",
            "Epoch: 14 Batch accuracy: 0.88 Validation accuracy: 0.885\n",
            "Epoch: 15 Batch accuracy: 0.87 Validation accuracy: 0.8842\n",
            "Epoch: 16 Batch accuracy: 0.89 Validation accuracy: 0.8904\n",
            "Epoch: 17 Batch accuracy: 0.9 Validation accuracy: 0.8904\n",
            "Epoch: 18 Batch accuracy: 0.93 Validation accuracy: 0.8962\n",
            "Epoch: 19 Batch accuracy: 0.86 Validation accuracy: 0.8926\n",
            "Epoch: 20 Batch accuracy: 0.92 Validation accuracy: 0.8952\n",
            "Epoch: 21 Batch accuracy: 0.93 Validation accuracy: 0.8964\n",
            "Epoch: 22 Batch accuracy: 0.87 Validation accuracy: 0.898\n",
            "Epoch: 23 Batch accuracy: 0.96 Validation accuracy: 0.898\n",
            "Epoch: 24 Batch accuracy: 0.94 Validation accuracy: 0.8992\n",
            "Epoch: 25 Batch accuracy: 0.9 Validation accuracy: 0.9006\n",
            "Epoch: 26 Batch accuracy: 0.95 Validation accuracy: 0.9\n",
            "Epoch: 27 Batch accuracy: 0.84 Validation accuracy: 0.8976\n",
            "Epoch: 28 Batch accuracy: 0.93 Validation accuracy: 0.8992\n",
            "Epoch: 29 Batch accuracy: 0.98 Validation accuracy: 0.9014\n",
            "Epoch: 30 Batch accuracy: 0.9 Validation accuracy: 0.9024\n",
            "Epoch: 31 Batch accuracy: 0.93 Validation accuracy: 0.9\n",
            "Epoch: 32 Batch accuracy: 0.92 Validation accuracy: 0.9014\n",
            "Epoch: 33 Batch accuracy: 0.91 Validation accuracy: 0.9018\n",
            "Epoch: 34 Batch accuracy: 0.89 Validation accuracy: 0.903\n",
            "Epoch: 35 Batch accuracy: 0.88 Validation accuracy: 0.9002\n",
            "Epoch: 36 Batch accuracy: 0.89 Validation accuracy: 0.9026\n",
            "Epoch: 37 Batch accuracy: 0.92 Validation accuracy: 0.9034\n",
            "Epoch: 38 Batch accuracy: 0.96 Validation accuracy: 0.9036\n",
            "Epoch: 39 Batch accuracy: 0.93 Validation accuracy: 0.9052\n",
            "Epoch: 40 Batch accuracy: 0.92 Validation accuracy: 0.9044\n",
            "Epoch: 41 Batch accuracy: 0.95 Validation accuracy: 0.905\n",
            "Epoch: 42 Batch accuracy: 0.93 Validation accuracy: 0.9034\n",
            "Epoch: 43 Batch accuracy: 0.94 Validation accuracy: 0.9022\n",
            "Epoch: 44 Batch accuracy: 0.92 Validation accuracy: 0.9052\n",
            "Epoch: 45 Batch accuracy: 0.94 Validation accuracy: 0.9056\n",
            "Epoch: 46 Batch accuracy: 0.9 Validation accuracy: 0.9066\n",
            "Epoch: 47 Batch accuracy: 0.93 Validation accuracy: 0.9084\n",
            "Epoch: 48 Batch accuracy: 0.96 Validation accuracy: 0.9044\n",
            "Epoch: 49 Batch accuracy: 0.94 Validation accuracy: 0.9072\n",
            "Epoch: 50 Batch accuracy: 0.93 Validation accuracy: 0.9056\n",
            "Epoch: 51 Batch accuracy: 0.93 Validation accuracy: 0.9072\n",
            "Epoch: 52 Batch accuracy: 0.95 Validation accuracy: 0.9058\n",
            "Epoch: 53 Batch accuracy: 0.95 Validation accuracy: 0.9084\n",
            "Epoch: 54 Batch accuracy: 0.89 Validation accuracy: 0.9082\n",
            "Epoch: 55 Batch accuracy: 0.98 Validation accuracy: 0.9082\n",
            "Epoch: 56 Batch accuracy: 0.96 Validation accuracy: 0.9048\n",
            "Epoch: 57 Batch accuracy: 0.94 Validation accuracy: 0.9074\n",
            "Epoch: 58 Batch accuracy: 0.93 Validation accuracy: 0.9084\n",
            "Epoch: 59 Batch accuracy: 0.94 Validation accuracy: 0.9054\n",
            "Epoch: 60 Batch accuracy: 0.97 Validation accuracy: 0.9058\n",
            "Epoch: 61 Batch accuracy: 0.92 Validation accuracy: 0.9078\n",
            "Epoch: 62 Batch accuracy: 0.96 Validation accuracy: 0.9078\n",
            "Epoch: 63 Batch accuracy: 0.9 Validation accuracy: 0.9056\n",
            "Epoch: 64 Batch accuracy: 0.96 Validation accuracy: 0.9046\n",
            "Epoch: 65 Batch accuracy: 0.9 Validation accuracy: 0.9076\n",
            "Epoch: 66 Batch accuracy: 0.94 Validation accuracy: 0.9078\n",
            "Epoch: 67 Batch accuracy: 0.94 Validation accuracy: 0.9076\n",
            "Epoch: 68 Batch accuracy: 0.96 Validation accuracy: 0.908\n",
            "Epoch: 69 Batch accuracy: 0.94 Validation accuracy: 0.9094\n",
            "Epoch: 70 Batch accuracy: 0.95 Validation accuracy: 0.9076\n",
            "Epoch: 71 Batch accuracy: 0.97 Validation accuracy: 0.9072\n",
            "Epoch: 72 Batch accuracy: 0.94 Validation accuracy: 0.9066\n",
            "Epoch: 73 Batch accuracy: 0.98 Validation accuracy: 0.9104\n",
            "Epoch: 74 Batch accuracy: 0.94 Validation accuracy: 0.9092\n",
            "Epoch: 75 Batch accuracy: 0.96 Validation accuracy: 0.9072\n",
            "Epoch: 76 Batch accuracy: 0.96 Validation accuracy: 0.9064\n",
            "Epoch: 77 Batch accuracy: 0.92 Validation accuracy: 0.9098\n",
            "Epoch: 78 Batch accuracy: 0.96 Validation accuracy: 0.9096\n",
            "Epoch: 79 Batch accuracy: 0.93 Validation accuracy: 0.9088\n"
          ]
        }
      ],
      "source": [
        "def shuffle_batch(X, y, batch_size):\n",
        "    rnd_idx = np.random.permutation(len(X))\n",
        "    n_batches = len(X) // batch_size\n",
        "    for batch_idx in np.array_split(rnd_idx, n_batches):\n",
        "        X_batch, y_batch = X[batch_idx], y[batch_idx]\n",
        "        yield X_batch, y_batch\n",
        "        \n",
        "with tf.Session() as sess:\n",
        "    init.run()\n",
        "    for epoch in range(n_epochs):\n",
        "        for X_batch, y_batch in shuffle_batch(X_train, y_train, batch_size):\n",
        "            sess.run(training_op, feed_dict={X: X_batch, y: y_batch})\n",
        "        acc_batch = accuracy.eval(feed_dict={X: X_batch, y: y_batch})\n",
        "        acc_valid = accuracy.eval(feed_dict={X: X_valid, y: y_valid})\n",
        "        print(\"Epoch:\", epoch, \"Batch accuracy:\", acc_batch, \"Validation accuracy:\", acc_valid)\n",
        "\n",
        "    save_path = saver.save(sess, \"./NN_model.ckpt\")"
      ]
    },
    {
      "cell_type": "markdown",
      "metadata": {
        "colab_type": "text",
        "id": "Y_JbRzPACgyF"
      },
      "source": [
        "# NN - Analysis:"
      ]
    },
    {
      "cell_type": "code",
      "execution_count": 11,
      "metadata": {
        "colab": {
          "base_uri": "https://localhost:8080/",
          "height": 101
        },
        "colab_type": "code",
        "id": "k14ZzQh5mfVo",
        "outputId": "7a923286-e2e5-44a4-8cb3-d6007f2c088f",
        "vscode": {
          "languageId": "python"
        }
      },
      "outputs": [
        {
          "name": "stdout",
          "output_type": "stream",
          "text": [
            "INFO:tensorflow:Restoring parameters from ./NN_model.ckpt\n",
            "Predicted classes: [10 21  0 24 27 28  7 20 26 22 26 15 18 22 19 33 10 27 22 31]\n",
            "Actual classes:    [10 21  0 24 27 28  7 20 14 22 26 15 18 22 19 33 10 11 22 31]\n",
            "Neural net accuracy Score with test data (emnist): \n"
          ]
        },
        {
          "data": {
            "text/plain": [
              "0.9067708333333333"
            ]
          },
          "execution_count": 11,
          "metadata": {
            "tags": []
          },
          "output_type": "execute_result"
        }
      ],
      "source": [
        "with tf.Session() as sess:\n",
        "    saver.restore(sess, \"./NN_model.ckpt\") # or better, use save_path\n",
        "    #------------shuffle before split - to get a better look at the results\n",
        "    indices = np.arange(X_test.shape[0])\n",
        "    np.random.shuffle(indices)\n",
        "\n",
        "    X_test = X_test[indices]\n",
        "    y_test = y_test[indices]\n",
        "    #---------------------------------\n",
        "    X_new_scaled = X_test\n",
        "    Z = logits.eval(feed_dict={X: X_new_scaled})\n",
        "    y_pred = np.argmax(Z, axis=1)\n",
        "    \n",
        "print(\"Predicted classes:\", y_pred[:20])\n",
        "print(\"Actual classes:   \", y_test[:20])\n",
        "\n",
        "from sklearn import metrics\n",
        "print(\"Neural net accuracy Score with test data (emnist): \")\n",
        "metrics.accuracy_score(y_test, y_pred, normalize=True)\n",
        "#uses model to predict for test data and the calcs accuracy"
      ]
    },
    {
      "cell_type": "code",
      "execution_count": 12,
      "metadata": {
        "colab": {
          "base_uri": "https://localhost:8080/",
          "height": 1000
        },
        "colab_type": "code",
        "id": "wz0_84PBSjxb",
        "outputId": "3849df37-8b28-4041-e7cf-5b2d78c0a799",
        "vscode": {
          "languageId": "python"
        }
      },
      "outputs": [
        {
          "name": "stdout",
          "output_type": "stream",
          "text": [
            "INFO:tensorflow:Restoring parameters from ./NN_model.ckpt\n",
            "[[ 784    7    2    9    4    1    8   16    1    0    0    0    3    6    3    2   21    3    0    1    4    0    6    0    0    1   11    0   26    3   11    1    0    0    0   14]\n",
            " [   5  780    1    4    1    0    1   15    0    2    1    3    1    1    0    1    4    0    0    0    0    0    1    1    1    4   11    0    3    5    0    4   63    0   34    1]\n",
            " [   2    0  901    0   22    1    0    1    1    0    0    9    0    0    2    1    1    4    5    0    0    0    0    0    0    0    7    1    0    0    1    5    9    0    0    0]\n",
            " [   2    6    0  855    0    0    1    4    0   10    0    1    1    1    5    5    2    0    0    1    1    1    2    0    3    0   47    1   15    1    6    1    0    1    1    0]\n",
            " [   2    1   26    0  901    4    4    0    1    1    1    1    0    0    1    3    2    5    0    1    1    0    0    1    0    3    1    0    5    0    1    8    1    0    3    1]\n",
            " [   2    0    0    1    2  856    3    1    1    0    0    0    0    0    0   19    0    3    2   19    0    0    0    0    2    1    0    1    5    0    6    6    0    4    6    3]\n",
            " [   5    7    1    2    6    1  574    1    0    0    0    0    0    0    0    1   53    2    6    1    0    0    1    0    2    0    3    1   11   17    5   12   50    6   32  206]\n",
            " [   6    4    0    3    0    1    0  845    1    0    7    8    2   20    0    0    2    1    0    5    2    1    2    1    0    0    1    1    0    0    9    2    3    0    1    0]\n",
            " [   0    1    1    0    0    1    0    0  464   14    0    8    0    0    0    0    0    1    1    4    0    0    0    1    0    1    0  453    2    0    0    1    2    2    0    0]\n",
            " [   0    1    0    7    1    0    2    0   20  821    0    0    0    0    0    0    0    0    6    6    4    3    1    1    2    0    0    3    2    6    1    9    1    2    4    0]\n",
            " [   0    3    1    1    0    0    0   23    0    0  843    1    0    4    0    0    0    8    0    3    3    1    1   20    3    0    0    1    1    0    4    1    0    0    2    0]\n",
            " [   0    1    3    1    2    0    0    8   66    2    1  247    0    0    0    0    1    0    0    0    0    0    0    1    0    0    0  630    4    1    3    0    3    0    2    0]\n",
            " [   1    0    0    0    0    0    0    2    0    0    0    0  928   10    0    0    1    2    0    4    2    0    3    2    1    0    1    0    0    0    2    0    0    1    0    1]\n",
            " [  10    0    0    5    0    0    0   10    0    0    1    0   21  854    0    0    1    4    0    1    4    3   14    2    1    0    1    0    2    0    2    1    0    2    1    1]\n",
            " [   2    0    1    7    1    0    1    0    0    0    0    0    1    4  259    2    2    1    0    1    1    1    0    0    0    0  675    0    1    1    0    0    0    0    0    0]\n",
            " [   6    0    0    7    2   10    1    2    0    0    0    0    0    1    0  874    5    6    0    0    0    0    0    0    1    0    2    1    1    0    2    0    0    8    7    2]\n",
            " [  27    0    1    5    2    2   42    0    0    0    0    0    0    1    0    6  558    2    1    1    0    0    3    1    4    1   11    3    9    1    6    1    2    4   21  245]\n",
            " [  12    6    0    1    2    0    0    7    1    0    9    0    2    7    0    5    4  863    0    5    0    6    1    0    9    1    0    2    4    0    3    5    0    1    4    0]\n",
            " [   0    2    0    1    0    0    5    0    0    5    0    0    0    0    0    0    0    0  756    0    0    0    0    0    0    0    0    1    1    9    0  192    0    0    6    3]\n",
            " [   1    2    5    0    4    6    0    1    5    1    3    3    0    0    0    0    0    5    0  866    0    0    0    1    9    1    0    6    1    0   10    5    1   13    2    1]\n",
            " [   5    0    1    5    0    0    0    2    0    1    0    0    3    2    0    0    1    0    0    0  842   23    9    0    2    0   11    0    0    0   22    0    4    0    0    0]\n",
            " [   0    0    0    1    0    0    0    0    0    7    0    0    0    6    0    0    0    8    1    0   41  871    1    0   21    0    3    2    1    0    2    0    0    0    1    0]\n",
            " [   1    1    0    4    0    0    0    3    0    0    0    1    1   23    0    0    1    0    0    1    8    4  911    0    0    0    1    0    0    0    3    0    1    0    0    0]\n",
            " [   4    0    0    2    0    0    0    1    1    0   16    1    1    5    0    1    1    2    0    0    0    3    0  893    7    3    0    2    3    0    2    1    0    0    0    0]\n",
            " [   0    0    0    1    0    0    5    0    1    3    2    0    0    0    0    1    0   10    0    7    3   15    0    4  808    0    1    7    0    1   78    0    1    6    0    4]\n",
            " [   0    1    2    0    9    2    1    0    5    0    0    1    0    0    0    0    3    1    0    4    0    0    0    4    1  636    0    0  245   15    0    0    0    1    2    0]\n",
            " [   8    3    7   39    1    0    2    0    0    2    0    0    0    5  202    1    9    0    3    1   14    0    0    0    0    0 4524    1    0    1    2    1    7    0    2    3]\n",
            " [   0    0    0    1    0    0    0    0  129    1    0   16    0    0    0    0    0    3    0    1    0    0    0    0    2    0    0 4569    1    1    0    1    1    1    1    2]\n",
            " [  15    0    1   10    2    1    6    1    1    7    0    9    0    1    0    1   13    2    2    1    1    3    0    2    0   63    1    1 4712    5    0    0    1    4    3    0]\n",
            " [   0    8    0    9    0    0    7    0    0   13    0    0    0    0    1    0    2    0   10    2    0    0    0    0    3    3    1    0   14 4600    0   10    0    8   11    6]\n",
            " [   5    0    0    4    1    4    2    7    0    0    0    0    0    4    0    0    2    0    0   11   22    1    4    0   70    0    0    1    1    1 4609    1    2    2    0   20]\n",
            " [   0    2    2    1    3    8    7    0    4   15    0    0    0    0    0    0    1    2  207    1    0    1    0    1    2    0    1    0    1   17    0 4498    6    1    4   10]\n",
            " [   0   49   10    1    3    4   22   12    0    0    0   12    0    0    1    0    2    0    2    1    2    2    1    0    0    0   13    1    1    0    8   13 4698    0    1    0]\n",
            " [   0    0    0    1    0    5    0    0    3    0    0    0    0    2    0    1    1    0    0   12    0    0    0    0   10    2    0    2    7    2   10    0    0 4699    1   15]\n",
            " [   1   40    1    3   11    8   24    0    0    0    2    0    0    0    0   15   41   11    6    2    0    1    0    2    5    1    4    7    7    8    2   10    1    2 4693    5]\n",
            " [   8    1    0    0    1    1   32    0    0    0    0    0    0    1    0    1   22    1    4    0    1    0    0    0    4    0    1    0    1    5   18    2    0   14    1 4766]]\n"
          ]
        },
        {
          "name": "stderr",
          "output_type": "stream",
          "text": [
            "/usr/local/lib/python3.6/dist-packages/statsmodels/tools/_testing.py:19: FutureWarning: pandas.util.testing is deprecated. Use the functions in the public API at pandas.testing instead.\n",
            "  import pandas.util.testing as tm\n"
          ]
        },
        {
          "data": {
            "image/png": "[encoded data removed]",
            "text/plain": [
              "<Figure size 1152x1152 with 2 Axes>"
            ]
          },
          "metadata": {
            "needs_background": "light",
            "tags": []
          },
          "output_type": "display_data"
        }
      ],
      "source": [
        "import sys\n",
        "import numpy\n",
        "#for the numpy array output version\n",
        "numpy.set_printoptions(threshold=sys.maxsize)#to display all rows\n",
        "numpy.set_printoptions(linewidth =sys.maxsize)#makes it so it the rows dont wrap around\n",
        "\n",
        "with tf.Session() as sess:\n",
        "    saver.restore(sess, \"./NN_model.ckpt\")\n",
        "    confusion = tf.confusion_matrix(labels=y_test, predictions=y_pred, num_classes=26+9+1+1)#for its own data (split from the training dataset)\n",
        "    numpy_con_mat = confusion.eval(session=sess)\n",
        "    print(numpy_con_mat[:36,:36])#gets rid of the last redundant column and row\n",
        "\n",
        "#print(numpy_con_mat)\n",
        "numpy_con_mat = numpy_con_mat[:36,:36]\n",
        "con_mat_norm = np.around(numpy_con_mat.astype('float') / numpy_con_mat.sum(axis=1)[:, np.newaxis], decimals=2)#get relative frequency for prediction labels\n",
        "\n",
        "\n",
        "#new tick lables\n",
        "labels_correct = ['a', 'b', 'c', 'd', 'e', 'f', 'g', 'h', 'i', 'j', 'k', 'l', 'm', 'n', 'o', 'p', 'q', 'r', 's', 't', 'u', 'v', 'w', 'x', 'y', 'z', '0', '1', '2', '3', '4', '5', '6', '7', '8', '9']\n",
        "import pandas as pd\n",
        "con_mat_df = pd.DataFrame(con_mat_norm, index = labels_correct, columns = labels_correct)\n",
        "#above line does equivelent to the below lines:\n",
        "# #0.5 so the new labels are in the middle of each box\n",
        "# loc = [0.5,1.5,2.5,3.5,4.5,5.5,6.5,7.5,8.5,9.5,10.5,11.5,12.5,13.5,14.5,15.5,16.5,17.5,18.5,19.5 ,20.5, 21.5, 22.5,23.5,24.5,25.5,26.5,27.5,28.5,29.5,30.5,31.5,32.5,33.5,34.5,35.5,36.5]\n",
        "# plt.xticks(loc, labels = labels_correct_x, rotation='vertical')\n",
        "# plt.yticks(loc, labels = labels_correct, rotation='vertical')\n",
        "# axes = plt.axes()#to get rid of the extra chart area\n",
        "# axes.set_ylim([0, 36])\n",
        "# axes.set_xlim([0, 36])\n",
        "\n",
        "from matplotlib import pyplot as plt\n",
        "import seaborn as sns\n",
        "\n",
        "\n",
        "figure = plt.figure(figsize=(16, 16))\n",
        "\n",
        "sns.heatmap(con_mat_df, annot=True, cmap=plt.cm.Blues)\n",
        "plt.tight_layout()\n",
        "plt.ylabel('True label')\n",
        "plt.xlabel('Predicted label')\n",
        "\n",
        "plt.show()"
      ]
    },
    {
      "cell_type": "markdown",
      "metadata": {
        "colab_type": "text",
        "id": "oVY3M4g2UTS0"
      },
      "source": [
        "# NN - Extract letters from page and run through model:"
      ]
    },
    {
      "cell_type": "markdown",
      "metadata": {
        "colab_type": "text",
        "id": "7Ou770JjHWon"
      },
      "source": [
        "New document letter recognition with neural net:"
      ]
    },
    {
      "cell_type": "code",
      "execution_count": 13,
      "metadata": {
        "colab": {
          "base_uri": "https://localhost:8080/",
          "height": 70
        },
        "colab_type": "code",
        "id": "ixA4SKYzkyTf",
        "outputId": "061a2161-5412-4983-d1fc-fe26c9f8a84b",
        "vscode": {
          "languageId": "python"
        }
      },
      "outputs": [
        {
          "name": "stdout",
          "output_type": "stream",
          "text": [
            "['a', 'b', 'c', 'd', 'e', 'f', 'g', 'h', 'i', 'j', 'k', 'l', 'm', 'n', 'o', 'p', 'q', 'r', 's', 't', 'u', 'v', 'w', 'x', 'y', 'z', '0', '1', '2', '3', '4', '5', '6', '7', '8', '9']\n",
            "[('a', 0), ('b', 1), ('c', 2), ('d', 3), ('e', 4), ('f', 5), ('g', 6), ('h', 7), ('i', 8), ('j', 9), ('k', 10), ('l', 11), ('m', 12), ('n', 13), ('o', 14), ('p', 15), ('q', 16), ('r', 17), ('s', 18), ('t', 19), ('u', 20), ('v', 21), ('w', 22), ('x', 23), ('y', 24), ('z', 25), ('0', 26), ('1', 27), ('2', 28), ('3', 29), ('4', 30), ('5', 31), ('6', 32), ('7', 33), ('8', 34), ('9', 35)]\n"
          ]
        }
      ],
      "source": [
        "#create int class to string:\n",
        "label_tuples = []\n",
        "\n",
        "string = 'abcdefghijklmnopqrstuvwxyz0123456789'#classes in order\n",
        "split_list = [char for char in string]\n",
        "\n",
        "print(split_list)\n",
        "\n",
        "value = 0\n",
        "for character in split_list:\n",
        "  label_tuples.append((character, value))\n",
        "  value+=1\n",
        "\n",
        "print(label_tuples)\n",
        "\n",
        "def find_label_string(int_label, label_tuples):\n",
        "  for ele in label_tuples:\n",
        "    if(ele[1]== int_label):\n",
        "      return ele[0]"
      ]
    },
    {
      "cell_type": "code",
      "execution_count": null,
      "metadata": {
        "colab": {
          "base_uri": "https://localhost:8080/",
          "height": 1000
        },
        "colab_type": "code",
        "id": "HSjlKuCqupDJ",
        "outputId": "bdbd943a-3c22-49b5-9ce0-e64a306c548c",
        "vscode": {
          "languageId": "python"
        }
      },
      "outputs": [],
      "source": [
        "#have each letter classifed and its classification added to a list then printed out, then have this list split appart for each word.\n",
        "# Extract letters from page\n",
        "import cv2\n",
        "import time\n",
        "start_time = time.time()\n",
        "extract = Extract_Letters()\n",
        "\n",
        "letters_in_doc_NN = []\n",
        "\n",
        "letters = extract.extractFile(\"/content/Handwriting documents/hand write 4-1.png\", \"defualt\")#add default mode\n",
        "\n",
        "for letter in letters:#for each letter in the file\n",
        "  letter = cv2.copyMakeBorder( letter, 5, 5, 5, 5, cv2.BORDER_CONSTANT)#add boarder so it looks like training data (5 on each side)\n",
        "  #resize\n",
        "  letter = resize(letter, (28, 28))#resize back\n",
        "  letters_in_doc_NN.append(letter)\n",
        "  #-----------------------------------show the image\n",
        "  # from PIL import Image\n",
        "  # import numpy as np\n",
        "  # from matplotlib import pyplot as plt\n",
        "  # plt.imshow(letter, interpolation='nearest')\n",
        "  # plt.show()\n",
        "  #-----------------------------------\n",
        "  \n",
        "letters_in_doc_NN= np.array(letters_in_doc_NN , dtype=np.float32)#converts to numpy array\n",
        "print(letters_in_doc_NN.shape)\n",
        "\n",
        "\n",
        "letters_in_doc_NN = letters_in_doc_NN.astype(np.float32).reshape(-1, 28*28) #/ 255.0 #remove this to fix classification\n",
        "print(letters_in_doc_NN.shape)"
      ]
    },
    {
      "cell_type": "code",
      "execution_count": 15,
      "metadata": {
        "colab": {
          "base_uri": "https://localhost:8080/",
          "height": 70
        },
        "colab_type": "code",
        "id": "ngUrfUdEtX-9",
        "outputId": "8313ea71-3728-4c9e-de69-21945cecacc8",
        "vscode": {
          "languageId": "python"
        }
      },
      "outputs": [
        {
          "name": "stdout",
          "output_type": "stream",
          "text": [
            "INFO:tensorflow:Restoring parameters from ./NN_model.ckpt\n",
            "Predicted classes: [ 0 32  2  3  4  5  6  7  0 20 10 10 12 13 26 17 34 17 31 19  7 21 21 23 24 25  0 34  2  3  4  5  6  7  8  9 10 11 12 13 26  4 16 17 18 19 20 21 22 23 24 25 26 27 28 29 30 31 32 33 34 35 19  7  4 16 20 26  2 10 32 17 26 22 13  5 26 23  9 20 12 17 18 26 21  4 17 19  7  4 11  0 28  9  3 26  6 19  7  4 19 20  1  2 10  1 17 26 22 13  5 26 23  3 21 12  4 31 26 21  4 17 19  7  4 11  0 25  9 28 26  6]\n"
          ]
        }
      ],
      "source": [
        "#to classfy an array of images\n",
        "import tensorflow as tf\n",
        "\n",
        "with tf.Session() as sess:\n",
        "    saver.restore(sess, \"./NN_model.ckpt\") # or better, use save_path\n",
        "    X_new_scaled =  letters_in_doc_NN#feed img array\n",
        "    Z = logits.eval(feed_dict={X: X_new_scaled})\n",
        "    y_pred = np.argmax(Z, axis=1)\n",
        "\n",
        "print(\"Predicted classes:\", y_pred)"
      ]
    },
    {
      "cell_type": "code",
      "execution_count": 16,
      "metadata": {
        "colab": {
          "base_uri": "https://localhost:8080/",
          "height": 104
        },
        "colab_type": "code",
        "id": "qx-0u0Qx_UvB",
        "outputId": "0234f843-4e3e-45ea-d255-624caa587cf3",
        "vscode": {
          "languageId": "python"
        }
      },
      "outputs": [
        {
          "name": "stdout",
          "output_type": "stream",
          "text": [
            "['a', 'b', 'c', 'd', 'e', 'f', 'g', 'h', 'i', 'j', 'k', 'l', 'm', 'n', 'o', 'p', 'q', 'r', 's', 't', 'u', 'v', 'w', 'x', 'y', 'z', 'a', 'b', 'c', 'd', 'e', 'f', 'g', 'h', 'i', 'j', 'k', 'l', 'm', 'n', 'o', 'p', 'q', 'r', 's', 't', 'u', 'v', 'w', 'x', 'y', 'z', '0', '1', '2', '3', '4', '5', '6', '7', '8', '9', 't', 'h', 'e', 'q', 'u', 'i', 'c', 'k', 'b', 'r', 'o', 'w', 'n', 'f', 'o', 'x', 'j', 'u', 'm', 'p', 's', 'o', 'v', 'e', 'r', 't', 'h', 'e', 'l', 'a', 'z', 'y', 'd', 'o', 'g', 't', 'h', 'e', 'q', 'u', 'i', 'c', 'k', 'b', 'r', 'o', 'w', 'n', 'f', 'o', 'x', 'j', 'u', 'm', 'p', 's', 'o', 'v', 'e', 'r', 't', 'h', 'e', 'l', 'a', 'z', 'y', 'd', 'o', 'g']\n",
            "[ 0 32  2  3  4  5  6  7  0 20 10 10 12 13 26 17 34 17 31 19  7 21 21 23 24 25  0 34  2  3  4  5  6  7  8  9 10 11 12 13 26  4 16 17 18 19 20 21 22 23 24 25 26 27 28 29 30 31 32 33 34 35 19  7  4 16 20 26  2 10 32 17 26 22 13  5 26 23  9 20 12 17 18 26 21  4 17 19  7  4 11  0 28  9  3 26  6 19  7  4 19 20  1  2 10  1 17 26 22 13  5 26 23  3 21 12  4 31 26 21  4 17 19  7  4 11  0 25  9 28 26  6]\n",
            "Neural net accuracy Score with test data (my handwriting): \n"
          ]
        },
        {
          "data": {
            "text/plain": [
              "0.7424242424242424"
            ]
          },
          "execution_count": 16,
          "metadata": {
            "tags": []
          },
          "output_type": "execute_result"
        }
      ],
      "source": [
        "alphabet = \"abcdefghijklmnopqrstuvwxyz\"\n",
        "numbers = \"0123456789\"\n",
        "quick_brown_fox = \"thequickbrownfoxjumpsoverthelazydog\"\n",
        "real_string = alphabet + alphabet + numbers + quick_brown_fox + quick_brown_fox\n",
        "\n",
        "real_list = list(real_string)#split into a list\n",
        "\n",
        "print(real_list)\n",
        "print(y_pred)\n",
        "\n",
        "predicted_list = y_pred\n",
        "predicted_list = [find_label_string(ele, label_tuples) for ele in predicted_list] #replace the int value with real string for the class\n",
        "\n",
        "from sklearn import metrics\n",
        "print(\"Neural net accuracy Score with test data (my handwriting): \")\n",
        "metrics.accuracy_score(real_list, predicted_list, normalize=True)#get accuracy score for this testing data"
      ]
    },
    {
      "cell_type": "code",
      "execution_count": 17,
      "metadata": {
        "colab": {
          "base_uri": "https://localhost:8080/",
          "height": 118
        },
        "colab_type": "code",
        "id": "P4g3haovv0CJ",
        "outputId": "b210a9e1-01fb-444e-f76d-34f6901d84de",
        "vscode": {
          "languageId": "python"
        }
      },
      "outputs": [
        {
          "name": "stdout",
          "output_type": "stream",
          "text": [
            "Neural net page interpretation: \n",
            "a6cdefghaukkmn0r8r5thvvxyz\n",
            "a8cdefghijklmn0eqrstuvwxyz\n",
            "0123456789\n",
            "thequ0ck6r0wnf0xjumrs0verthela2jd0g\n",
            "thetubckbr0wnf0xdvme50verthelazj20g\n"
          ]
        }
      ],
      "source": [
        "doc_NN = \"\"\n",
        "\n",
        "letters = 1\n",
        "\n",
        "alphabet = 26\n",
        "numbers = 10\n",
        "lazy_dog = 35\n",
        "\n",
        "for ele in y_pred:#num should be the same\n",
        "  #split for nicer output of known test data lengths\n",
        "  if(letters == alphabet+1 or letters == (alphabet*2)+1 or letters == (alphabet*2)+1+numbers or letters == (alphabet*2)+1+numbers+ lazy_dog):#letters (lower+uppercase), then numbers, then sets of the quick brown fox\n",
        "    doc_NN+=\"\\n\"\n",
        "  doc_NN+=(find_label_string(ele, label_tuples))#gets just the predicted character and adds to the string\n",
        "  letters += 1\n",
        "\n",
        "print(\"Neural net page interpretation: \")\n",
        "print(doc_NN)"
      ]
    },
    {
      "cell_type": "markdown",
      "metadata": {
        "colab_type": "text",
        "id": "V3Roao0iSbW6"
      },
      "source": [
        "# CNN:"
      ]
    },
    {
      "cell_type": "markdown",
      "metadata": {
        "colab_type": "text",
        "id": "o4snuRUSX9si"
      },
      "source": [
        "# CNN - data"
      ]
    },
    {
      "cell_type": "code",
      "execution_count": 79,
      "metadata": {
        "colab": {},
        "colab_type": "code",
        "id": "VN-2ZX2HtSoC",
        "vscode": {
          "languageId": "python"
        }
      },
      "outputs": [],
      "source": [
        "%tensorflow_version 1.x"
      ]
    },
    {
      "cell_type": "code",
      "execution_count": 80,
      "metadata": {
        "colab": {},
        "colab_type": "code",
        "id": "ovlgYqDjs8Ge",
        "vscode": {
          "languageId": "python"
        }
      },
      "outputs": [],
      "source": [
        "import tensorflow as tf"
      ]
    },
    {
      "cell_type": "code",
      "execution_count": 81,
      "metadata": {
        "colab": {
          "base_uri": "https://localhost:8080/",
          "height": 101
        },
        "colab_type": "code",
        "id": "2DqO-APl44I7",
        "outputId": "193065d9-3898-4878-a82c-904d52ffc33b",
        "vscode": {
          "languageId": "python"
        }
      },
      "outputs": [
        {
          "name": "stdout",
          "output_type": "stream",
          "text": [
            "(240000, 28, 28)\n",
            "(240000,)\n",
            "(124800, 28, 28)\n",
            "(124800,)\n",
            "<class 'numpy.ndarray'>\n"
          ]
        }
      ],
      "source": [
        "from emnist import extract_training_samples\n",
        "import numpy as np\n",
        "\n",
        "images_digits, labels_digits = extract_training_samples('digits')\n",
        "images_letters, labels_letters = extract_training_samples('letters')\n",
        "\n",
        "images_digits = np.copy(images_digits)#copy to make them writeable\n",
        "labels_digits = np.copy(labels_digits)\n",
        "\n",
        "images_letters = np.copy(images_letters)\n",
        "labels_letters = np.copy(labels_letters)\n",
        "\n",
        "\n",
        "print(images_digits.shape)\n",
        "print(labels_digits.shape)\n",
        "\n",
        "print(images_letters.shape)\n",
        "print(labels_letters.shape)\n",
        "      \n",
        "print(type(images_digits))"
      ]
    },
    {
      "cell_type": "code",
      "execution_count": 82,
      "metadata": {
        "colab": {
          "base_uri": "https://localhost:8080/",
          "height": 84
        },
        "colab_type": "code",
        "id": "YYxfOZbD44I-",
        "outputId": "8948db3c-e961-4370-d044-a3d0cd1688ef",
        "vscode": {
          "languageId": "python"
        }
      },
      "outputs": [
        {
          "name": "stdout",
          "output_type": "stream",
          "text": [
            "min val digets: 0\n",
            "max val digets: 9\n",
            "min val letters: 0\n",
            "max val letters: 26\n"
          ]
        }
      ],
      "source": [
        "minval_digets = 0\n",
        "for ele in labels_digits:\n",
        "  minval_digets = min(ele, minval_digets)\n",
        "print(\"min val digets:\",minval_digets)#0\n",
        "\n",
        "maxval_digets = 0\n",
        "for ele in labels_digits:\n",
        "  maxval_digets = max(ele, maxval_digets)\n",
        "print(\"max val digets:\",maxval_digets)#0-9\n",
        "\n",
        "\n",
        "minval_letters = 0\n",
        "for ele in labels_letters:\n",
        "  minval_letters = min(ele, minval_letters)\n",
        "print(\"min val letters:\",minval_letters)#0\n",
        "\n",
        "maxval_letters = 0\n",
        "for ele in labels_letters:\n",
        "  maxval_letters = max(ele, maxval_letters)\n",
        "print(\"max val letters:\",maxval_letters)#0-26"
      ]
    },
    {
      "cell_type": "code",
      "execution_count": 83,
      "metadata": {
        "colab": {
          "base_uri": "https://localhost:8080/",
          "height": 50
        },
        "colab_type": "code",
        "id": "uvkBmXYH44JA",
        "outputId": "1f51e189-2eca-423f-e57e-5b9fa354b911",
        "vscode": {
          "languageId": "python"
        }
      },
      "outputs": [
        {
          "name": "stdout",
          "output_type": "stream",
          "text": [
            "Union data shape:  (187200, 28, 28)\n",
            "Union labels shape:  (187200,)\n"
          ]
        }
      ],
      "source": [
        "#unify digit and letters data\n",
        "\n",
        "#cut out some number data: (so around equal amounts of data for each class)\n",
        "images_digits = images_digits[:62400]\n",
        "labels_digits = labels_digits[:62400]\n",
        "\n",
        "union_data = np.concatenate((images_digits, images_letters), axis=0, out=None)\n",
        "\n",
        "#before union lables, correct to have label vals being greater than the max letter ones]\n",
        "\n",
        "labels_digits+=maxval_letters+1\n",
        "\n",
        "union_labels = np.concatenate((labels_digits, labels_letters), axis=0, out=None)\n",
        "\n",
        "union_labels-=1\n",
        "\n",
        "print(\"Union data shape: \" , union_data.shape)\n",
        "print(\"Union labels shape: \" ,union_labels.shape)"
      ]
    },
    {
      "cell_type": "markdown",
      "metadata": {
        "colab_type": "text",
        "id": "m07tHx2oAyV8"
      },
      "source": [
        "# CNN - Basic - definition and train"
      ]
    },
    {
      "cell_type": "code",
      "execution_count": 23,
      "metadata": {
        "colab": {},
        "colab_type": "code",
        "id": "5qTmKgRD44JD",
        "vscode": {
          "languageId": "python"
        }
      },
      "outputs": [],
      "source": [
        "#could shuffle before split but it looks fairly random\n",
        "#split data into training and testing data\n",
        "from sklearn.model_selection import train_test_split\n",
        "X_train, X_test, y_train, y_test = train_test_split(union_data, union_labels, random_state=0, test_size=0.20)\n",
        "#------------------------------- shuffle data and labels before validation split\n",
        "indices = np.arange(X_train.shape[0])\n",
        "np.random.shuffle(indices)\n",
        "\n",
        "X_train = X_train[indices]\n",
        "y_train = y_train[indices]\n",
        "#-------------------------------"
      ]
    },
    {
      "cell_type": "code",
      "execution_count": 24,
      "metadata": {
        "colab": {},
        "colab_type": "code",
        "id": "LARbKcDXs8HD",
        "vscode": {
          "languageId": "python"
        }
      },
      "outputs": [],
      "source": [
        "n_epochs = 20\n",
        "batch_size = 50"
      ]
    },
    {
      "cell_type": "code",
      "execution_count": 25,
      "metadata": {
        "colab": {},
        "colab_type": "code",
        "id": "8GEQwPa-s8Gm",
        "vscode": {
          "languageId": "python"
        }
      },
      "outputs": [],
      "source": [
        "n_conv1 = 64\n",
        "n_hidden1 = 512\n",
        "n_outputs = 36"
      ]
    },
    {
      "cell_type": "code",
      "execution_count": 26,
      "metadata": {
        "colab": {},
        "colab_type": "code",
        "id": "eWpEItDvs8Go",
        "vscode": {
          "languageId": "python"
        }
      },
      "outputs": [],
      "source": [
        "\n",
        "X_train = np.expand_dims(X_train,-1).astype(np.float32) / 255.0\n",
        "X_test = np.expand_dims(X_test,-1).astype(np.float32) / 255.0\n",
        "\n",
        "y_train = y_train.astype(np.int32)\n",
        "y_test = y_test.astype(np.int32)\n",
        "\n",
        "X_valid, X_train = X_train[:5000], X_train[5000:]\n",
        "y_valid, y_train = y_train[:5000], y_train[5000:]"
      ]
    },
    {
      "cell_type": "code",
      "execution_count": 27,
      "metadata": {
        "colab": {},
        "colab_type": "code",
        "id": "tmJu_sPxs8Gs",
        "vscode": {
          "languageId": "python"
        }
      },
      "outputs": [],
      "source": [
        "reset_graph()\n",
        "\n",
        "X = tf.placeholder(tf.float32, shape=(None, 28, 28, 1), name=\"X\")\n",
        "y = tf.placeholder(tf.int32, shape=(None), name=\"y\") "
      ]
    },
    {
      "cell_type": "code",
      "execution_count": 28,
      "metadata": {
        "colab": {
          "base_uri": "https://localhost:8080/",
          "height": 168
        },
        "colab_type": "code",
        "id": "WbgT5FLBs8Gx",
        "outputId": "4eb3a0c5-36b3-46e3-dd3a-6603eeb21914",
        "vscode": {
          "languageId": "python"
        }
      },
      "outputs": [
        {
          "name": "stdout",
          "output_type": "stream",
          "text": [
            "WARNING:tensorflow:From <ipython-input-28-71a66e25a7e8>:7: conv2d (from tensorflow.python.layers.convolutional) is deprecated and will be removed in a future version.\n",
            "Instructions for updating:\n",
            "Use `tf.keras.layers.Conv2D` instead.\n",
            "WARNING:tensorflow:From <ipython-input-28-71a66e25a7e8>:11: max_pooling2d (from tensorflow.python.layers.pooling) is deprecated and will be removed in a future version.\n",
            "Instructions for updating:\n",
            "Use keras.layers.MaxPooling2D instead.\n",
            "WARNING:tensorflow:From <ipython-input-28-71a66e25a7e8>:13: flatten (from tensorflow.python.layers.core) is deprecated and will be removed in a future version.\n",
            "Instructions for updating:\n",
            "Use keras.layers.flatten instead.\n"
          ]
        }
      ],
      "source": [
        "with tf.name_scope(\"dnn\"):\n",
        "    conv1 = tf.layers.conv2d(X, \n",
        "                             n_conv1, \n",
        "                             kernel_size = (7,7), \n",
        "                             strides=(3,3), \n",
        "                             name=\"conv1\", \n",
        "                             activation=tf.nn.relu)\n",
        "    \n",
        "    pool1 = tf.layers.max_pooling2d(conv1, \n",
        "                                    pool_size=(4,4), \n",
        "                                    strides=(4,4))\n",
        "    \n",
        "    flatten = tf.layers.flatten(pool1)\n",
        "\n",
        "    fc1 = tf.layers.dense(flatten, \n",
        "                          n_hidden1, \n",
        "                          name=\"fc1\",\n",
        "                          activation=tf.nn.relu)\n",
        "    \n",
        "    logits = tf.layers.dense(fc1, \n",
        "                             n_outputs, \n",
        "                             name=\"outputs\")"
      ]
    },
    {
      "cell_type": "code",
      "execution_count": 29,
      "metadata": {
        "colab": {},
        "colab_type": "code",
        "id": "qWUFE-qDs8G1",
        "vscode": {
          "languageId": "python"
        }
      },
      "outputs": [],
      "source": [
        "with tf.name_scope(\"loss\"):\n",
        "    xentropy = tf.nn.sparse_softmax_cross_entropy_with_logits(labels=y, logits=logits)\n",
        "    loss = tf.reduce_mean(xentropy, name=\"loss\")"
      ]
    },
    {
      "cell_type": "code",
      "execution_count": 30,
      "metadata": {
        "colab": {},
        "colab_type": "code",
        "id": "LWcLrqfDs8G4",
        "vscode": {
          "languageId": "python"
        }
      },
      "outputs": [],
      "source": [
        "learning_rate = 0.01\n",
        "\n",
        "with tf.name_scope(\"train\"):\n",
        "    optimizer = tf.train.GradientDescentOptimizer(learning_rate)\n",
        "    training_op = optimizer.minimize(loss)"
      ]
    },
    {
      "cell_type": "code",
      "execution_count": 31,
      "metadata": {
        "colab": {},
        "colab_type": "code",
        "id": "m0Lbvfsps8G7",
        "vscode": {
          "languageId": "python"
        }
      },
      "outputs": [],
      "source": [
        "with tf.name_scope(\"eval\"):\n",
        "    correct = tf.nn.in_top_k(logits, y, 1)\n",
        "    accuracy = tf.reduce_mean(tf.cast(correct, tf.float32))"
      ]
    },
    {
      "cell_type": "code",
      "execution_count": 32,
      "metadata": {
        "colab": {},
        "colab_type": "code",
        "id": "cpDxqibhs8HA",
        "vscode": {
          "languageId": "python"
        }
      },
      "outputs": [],
      "source": [
        "init = tf.global_variables_initializer()\n",
        "saver = tf.train.Saver()"
      ]
    },
    {
      "cell_type": "markdown",
      "metadata": {
        "colab_type": "text",
        "id": "DXN2Q1mZhI0V"
      },
      "source": [
        "# Train"
      ]
    },
    {
      "cell_type": "code",
      "execution_count": 33,
      "metadata": {
        "colab": {
          "base_uri": "https://localhost:8080/",
          "height": 353
        },
        "colab_type": "code",
        "id": "HoIV3C1Os8HG",
        "outputId": "3e61fe06-a2e8-4644-cace-6d3be5b966ed",
        "vscode": {
          "languageId": "python"
        }
      },
      "outputs": [
        {
          "name": "stdout",
          "output_type": "stream",
          "text": [
            "0 Batch accuracy: 0.74 Validation accuracy: 0.6708\n",
            "1 Batch accuracy: 0.74 Validation accuracy: 0.7566\n",
            "2 Batch accuracy: 0.86 Validation accuracy: 0.7822\n",
            "3 Batch accuracy: 0.8 Validation accuracy: 0.801\n",
            "4 Batch accuracy: 0.78 Validation accuracy: 0.8114\n",
            "5 Batch accuracy: 0.78 Validation accuracy: 0.822\n",
            "6 Batch accuracy: 0.9 Validation accuracy: 0.8376\n",
            "7 Batch accuracy: 0.9 Validation accuracy: 0.8396\n",
            "8 Batch accuracy: 0.86 Validation accuracy: 0.8412\n",
            "9 Batch accuracy: 0.88 Validation accuracy: 0.8468\n",
            "10 Batch accuracy: 0.88 Validation accuracy: 0.8448\n",
            "11 Batch accuracy: 0.9 Validation accuracy: 0.8582\n",
            "12 Batch accuracy: 0.86 Validation accuracy: 0.8558\n",
            "13 Batch accuracy: 0.96 Validation accuracy: 0.8576\n",
            "14 Batch accuracy: 0.92 Validation accuracy: 0.86\n",
            "15 Batch accuracy: 0.94 Validation accuracy: 0.8684\n",
            "16 Batch accuracy: 0.86 Validation accuracy: 0.8652\n",
            "17 Batch accuracy: 0.9 Validation accuracy: 0.867\n",
            "18 Batch accuracy: 0.84 Validation accuracy: 0.8646\n",
            "19 Batch accuracy: 0.9 Validation accuracy: 0.867\n"
          ]
        }
      ],
      "source": [
        "def shuffle_batch(X, y, batch_size):\n",
        "    rnd_idx = np.random.permutation(len(X))\n",
        "    n_batches = len(X) // batch_size\n",
        "    for batch_idx in np.array_split(rnd_idx, n_batches):\n",
        "        X_batch, y_batch = X[batch_idx], y[batch_idx]\n",
        "        yield X_batch, y_batch\n",
        "        \n",
        "with tf.Session() as sess:\n",
        "    init.run()\n",
        "    for epoch in range(n_epochs):\n",
        "        for X_batch, y_batch in shuffle_batch(X_train, y_train, batch_size):\n",
        "            sess.run(training_op, feed_dict={X: X_batch, y: y_batch})\n",
        "        acc_batch = accuracy.eval(feed_dict={X: X_batch, y: y_batch})\n",
        "        acc_valid = accuracy.eval(feed_dict={X: X_valid, y: y_valid})\n",
        "        print(epoch, \"Batch accuracy:\", acc_batch, \"Validation accuracy:\", acc_valid)\n",
        "\n",
        "    save_path = saver.save(sess, \"./CNN_basic.ckpt\")"
      ]
    },
    {
      "cell_type": "markdown",
      "metadata": {
        "colab_type": "text",
        "id": "-U22cHcWiwO9"
      },
      "source": [
        "# Accuracy on its own test data"
      ]
    },
    {
      "cell_type": "code",
      "execution_count": 34,
      "metadata": {
        "colab": {
          "base_uri": "https://localhost:8080/",
          "height": 101
        },
        "colab_type": "code",
        "id": "5htMzscm7efe",
        "outputId": "99168420-1293-4a81-df41-3e3885f7f58d",
        "vscode": {
          "languageId": "python"
        }
      },
      "outputs": [
        {
          "name": "stdout",
          "output_type": "stream",
          "text": [
            "INFO:tensorflow:Restoring parameters from ./CNN_basic.ckpt\n",
            "Predicted classes: [32 32 21  1 18 15  4  8  9  1  1 28 35  5 15  2 33 11 26 35]\n",
            "Actual classes:    [32 32 21  1 18 15  4  8  9  1  1 28 35 16 15  4 33 11 26  6]\n",
            "CNN accuracy Score with test data (emnist): \n"
          ]
        },
        {
          "data": {
            "text/plain": [
              "0.8670138888888889"
            ]
          },
          "execution_count": 34,
          "metadata": {
            "tags": []
          },
          "output_type": "execute_result"
        }
      ],
      "source": [
        "with tf.Session() as sess:\n",
        "    saver.restore(sess, \"./CNN_basic.ckpt\") # or better, use save_path\n",
        "    #------------shuffle before split - to get a better look at the results\n",
        "    indices = np.arange(X_test.shape[0])\n",
        "    np.random.shuffle(indices)\n",
        "\n",
        "    X_test = X_test[indices]\n",
        "    y_test = y_test[indices]\n",
        "    #---------------------------------\n",
        "    X_new_scaled = X_test\n",
        "    Z = logits.eval(feed_dict={X: X_new_scaled})\n",
        "    y_pred = np.argmax(Z, axis=1)\n",
        "    \n",
        "print(\"Predicted classes:\", y_pred[:20])\n",
        "print(\"Actual classes:   \", y_test[:20])\n",
        "\n",
        "from sklearn import metrics\n",
        "print(\"CNN accuracy Score with test data (emnist): \")\n",
        "metrics.accuracy_score(y_test, y_pred, normalize=True)"
      ]
    },
    {
      "cell_type": "code",
      "execution_count": 35,
      "metadata": {
        "colab": {
          "base_uri": "https://localhost:8080/",
          "height": 1000
        },
        "colab_type": "code",
        "id": "BwR4rDsx9smA",
        "outputId": "1a5635f2-1e7d-4e97-aa8b-23cb86453620",
        "vscode": {
          "languageId": "python"
        }
      },
      "outputs": [
        {
          "name": "stdout",
          "output_type": "stream",
          "text": [
            "INFO:tensorflow:Restoring parameters from ./CNN_basic.ckpt\n",
            "[[ 877    0    2    6    2    4    6    7    0    0    0    0    2    1    4    2   24    7    0    1    2    0    2    1    0    1    3    0    9    1    4    1    0    0    1    3    0]\n",
            " [   4  855    0    5    2    1    4    6    0    0    2    0    0    0    3    3    3    1    2    0    0    0    1    0    0    2    3    1    0    2    0    2   59    0   17    0    0]\n",
            " [   4    0  907    1   16    3    3    0    0    0    0    2    0    0    3    1    1    4    0    0    2    0    0    0    0    0    1    0    0    0    0    2    3    0    0    0    0]\n",
            " [  11    6    0  888    0    0    1    0    0   21    0    1    0    0   16    8    2    0    0    0    0    0    1    0    0    0   23    0    5    0    0    0    0    1    0    0    0]\n",
            " [   4    0   20    0  908   10    3    0    0    0    2    1    0    0    3    3    1    6    0    0    2    0    0    0    0    2    0    0    1    0    0    1    1    0    2    0    0]\n",
            " [   2    0    1    0    3  893    2    0    0    0    1    1    0    0    0   10    2    9    2   23    0    0    0    1    0    0    0    2    0    0    0    4    0    2    2    0    0]\n",
            " [  21    2    4    0    4    2  685    0    0    4    0    0    1    0    1    2   73    2    1    0    1    0    0    0    8    0    1    0    0    3    3    5   35    2   39  133    0]\n",
            " [   8    6    0    1    0    0    1  842    0    0    4    9    6   22    0    1    2    2    0    2    0    0    4    0    2    0    0    0    0    0   20    0    2    1    1    0    0]\n",
            " [   1    0    0    1    0   10    1    1  542   27    0   86    0    0    1    0    0    3    0    2    0    0    0    0    1    5    1  278    1    0    0    1    1    1    0    0    0]\n",
            " [   1    0    0    7    0    3    8    0   20  873    0    2    0    0    0    0    0    0    3    4    3    3    0    0    3    0    0    4    0    1    0    6    0    4    3    0    0]\n",
            " [   1    7    0    1    1    1    0   12    1    0  903    1    0    0    0    0    2   13    0    1    0    1    2    2    1    0    0    1    0    0    1    0    3    0    0    0    0]\n",
            " [   0    1    3    1    0    0    0    4   97    1    0  417    0    1    0    0    0    0    0    0    0    1    1    1    3    0    0  422    0    0    1    2    3    0    1    0    0]\n",
            " [   4    0    0    0    0    0    0    6    0    0    1    0  921   21    0    0    0    3    0    0    2    0    9    0    2    0    0    0    0    0    0    0    0    1    0    1    0]\n",
            " [   8    1    0    0    1    0    0   11    0    2    0    0   15  856    4    1    0   18    0    1    1    4   17    3    0    1    1    0    0    0    0    0    0    4    0    1    0]\n",
            " [   4    1    0    6    1    0    1    0    0    0    0    0    0    1  600    3    2    1    0    1    2    0    0    0    0    0  375    0    0    0    0    2    0    0    0    0    0]\n",
            " [   5    2    0    2    2    5    0    0    0    1    0    0    0    0    2  892    5   16    0    0    0    0    0    0    3    0    0    0    0    0    0    0    0    5    5    1    0]\n",
            " [  34    0    1    0    5    1   43    0    0    0    0    0    0    2    0    8  631    2    0    1    2    0    3    0    2    0    4    1    1    1    3    0    2    0   20  177    0]\n",
            " [  12    1    2    0    6    2    0    1    0    0    7    1    0    6    1    3    4  903    0    3    0    7    0    0    5    0    0    0    3    0    0    1    0    0    1    0    0]\n",
            " [   1    1    1    0    0    2   15    0    1   13    0    0    0    2    2    0    0    0  725    1    0    0    0    0    0    0    0    0    0   15    1  207    1    0    9    1    0]\n",
            " [   0    1    2    1    6   13    1    1    5    3    2    3    0    0    0    0    0    4    1  868    0    0    0    0    0    5    0    1    0    0    5    1    1   20    0    1    0]\n",
            " [   4    0    1    5    0    0    0    2    0    3    1    0    0    1    0    0    0    0    0    0  882   36   10    0    3    0    1    0    0    0    5    0    4    1    0    0    0]\n",
            " [   0    0    0    0    0    0    0    0    0    2    1    0    0    1    0    1    1   13    0    0   25  920    2    1   11    0    0    0    0    0    0    1    0    0    0    0    0]\n",
            " [   0    0    0    2    0    0    0    2    0    1    0    1    0   11    0    0    0    2    1    0    4    6  937    0    1    0    0    0    0    0    1    0    1    0    0    0    0]\n",
            " [   2    0    0    1    1    2    1    1    2    0    9    0    2    5    0    1    0    8    0    1    0    0    1  872   15    4    0    0    1    0    3    0    0    1    2    0    0]\n",
            " [   0    0    0    0    0    0    4    0    0    3    0    1    0    0    0    1    4    7    0    2    3   23    1    5  847    0    0    0    3    1   34    0    1    3    0    3    0]\n",
            " [   3    0    0    1    4    0    1    0    1    0    0    0    0    0    0    1    5    0    0    3    0    0    0    2    0  823    0    0   85    4    0    0    0    4    1    0    0]\n",
            " [   2    0    2   17    0    0    1    0    0    0    0    0    0    1  261    1   13    0    0    0    3    0    1    0    0    0  945    0    1    0    0    0    0    1    1    0    0]\n",
            " [   0    0    0    0    0    2    0    0  113    5    0  133    0    0    0    0    0    2    0    2    0    0    0    0    0    0    0 1025    2    0    0    0    0    0    0    0    0]\n",
            " [  13    0    5    6    0    0    4    0    1    6    0    0    0    1    0    0    8    4    1    1    0    0    0    0    1   74    0    1 1094    2    0    0    0    4    0    1    0]\n",
            " [   0    1    0    1    1    1    8    0    0    6    0    0    0    0    0    0    0    0    0    0    0    0    0    0    0    2    0    0    1 1147    0    2    0    2    6    0    0]\n",
            " [   7    0    0    4    0    2    0    2    0    1    6    1    1    0    0    1    9    1    0    8    7    0    2    0   54    0    0    0    0    0 1097    0    0    3    1    7    0]\n",
            " [   1    4    0    1    0    0    4    0    0   14    1    0    0    0    1    0    0    1   38    2    0    0    0    0    0    0    2    0    1    4    0 1128    1    0    2    1    0]\n",
            " [   1   29    4    0    0    0   18    1    0    0    0    3    0    1    1    0    1    0    0    1    0    0    2    0    0    0    1    0    1    0    0    1 1211    0    2    0    0]\n",
            " [   0    0    0    0    0    3    0    0    0    0    0    0    0    0    0    0    1    0    0    6    0    0    0    0    7    2    0    0    0    0    0    0    0 1214    0    6    0]\n",
            " [   2   10    0    1    3    3   11    0    0    0    2    0    0    0    0    7   31    6    0    0    0    1    1    1    1    0    0    3    0    0    0    6    3    0 1163    1    0]\n",
            " [   2    0    0    0    0    0   28    0    0    0    0    0    0    0    0    1   28    0    1    1    0    0    0    0    4    0    0    0    0    0    1    1    0    5    3 1170    0]\n",
            " [   0    0    0    0    0    0    0    0    0    0    0    0    0    0    0    0    0    0    0    0    0    0    0    0    0    0    0    0    0    0    0    0    0    0    0    0    0]]\n"
          ]
        },
        {
          "data": {
            "image/png": "[encoded data removed]",
            "text/plain": [
              "<Figure size 1152x1152 with 2 Axes>"
            ]
          },
          "metadata": {
            "needs_background": "light",
            "tags": []
          },
          "output_type": "display_data"
        }
      ],
      "source": [
        "import sys\n",
        "import numpy\n",
        "#for the numpy array output version\n",
        "numpy.set_printoptions(threshold=sys.maxsize)#to display all rows\n",
        "numpy.set_printoptions(linewidth =sys.maxsize)#makes it so it the rows dont wrap around\n",
        "\n",
        "with tf.Session() as sess:\n",
        "    saver.restore(sess, \"./CNN_basic.ckpt\")\n",
        "    confusion = tf.confusion_matrix(labels=y_test, predictions=y_pred, num_classes=26+9+1+1)#for its own data (split from the training dataset)\n",
        "    numpy_con_mat = confusion.eval(session=sess)\n",
        "    print(numpy_con_mat)\n",
        "\n",
        "numpy_con_mat = numpy_con_mat[:36,:36]\n",
        "con_mat_norm = np.around(numpy_con_mat.astype('float') / numpy_con_mat.sum(axis=1)[:, np.newaxis], decimals=2)#get relative frequency for prediction labels\n",
        "\n",
        "#new tick lables\n",
        "labels_correct = ['a', 'b', 'c', 'd', 'e', 'f', 'g', 'h', 'i', 'j', 'k', 'l', 'm', 'n', 'o', 'p', 'q', 'r', 's', 't', 'u', 'v', 'w', 'x', 'y', 'z', '0', '1', '2', '3', '4', '5', '6', '7', '8', '9']\n",
        "import pandas as pd\n",
        "con_mat_df = pd.DataFrame(con_mat_norm, index = labels_correct, columns = labels_correct)\n",
        "\n",
        "from matplotlib import pyplot as plt\n",
        "import seaborn as sns\n",
        "\n",
        "figure = plt.figure(figsize=(16, 16))\n",
        "\n",
        "sns.heatmap(con_mat_df, annot=True, cmap=plt.cm.Blues)\n",
        "plt.tight_layout()\n",
        "plt.ylabel('True label')\n",
        "plt.xlabel('Predicted label')\n",
        "\n",
        "plt.show()"
      ]
    },
    {
      "cell_type": "markdown",
      "metadata": {
        "colab_type": "text",
        "id": "7Y4jGzltf_kN"
      },
      "source": [
        "# CNN - Basic - Test against doc"
      ]
    },
    {
      "cell_type": "code",
      "execution_count": 36,
      "metadata": {
        "colab": {
          "base_uri": "https://localhost:8080/",
          "height": 70
        },
        "colab_type": "code",
        "id": "kL1UCjGjgSHH",
        "outputId": "0d03fbfb-69fb-4e25-b4bb-aad9eec77726",
        "vscode": {
          "languageId": "python"
        }
      },
      "outputs": [
        {
          "name": "stdout",
          "output_type": "stream",
          "text": [
            "['a', 'b', 'c', 'd', 'e', 'f', 'g', 'h', 'i', 'j', 'k', 'l', 'm', 'n', 'o', 'p', 'q', 'r', 's', 't', 'u', 'v', 'w', 'x', 'y', 'z', '0', '1', '2', '3', '4', '5', '6', '7', '8', '9']\n",
            "[('a', 0), ('b', 1), ('c', 2), ('d', 3), ('e', 4), ('f', 5), ('g', 6), ('h', 7), ('i', 8), ('j', 9), ('k', 10), ('l', 11), ('m', 12), ('n', 13), ('o', 14), ('p', 15), ('q', 16), ('r', 17), ('s', 18), ('t', 19), ('u', 20), ('v', 21), ('w', 22), ('x', 23), ('y', 24), ('z', 25), ('0', 26), ('1', 27), ('2', 28), ('3', 29), ('4', 30), ('5', 31), ('6', 32), ('7', 33), ('8', 34), ('9', 35)]\n"
          ]
        }
      ],
      "source": [
        "#create int class to string:\n",
        "label_tuples = []\n",
        "\n",
        "string = 'abcdefghijklmnopqrstuvwxyz0123456789'#classes in order\n",
        "split_list = [char for char in string]\n",
        "\n",
        "print(split_list)\n",
        "\n",
        "value = 0\n",
        "for character in split_list:\n",
        "  label_tuples.append((character, value))\n",
        "  value+=1\n",
        "\n",
        "print(label_tuples)\n",
        "\n",
        "def find_label_string(int_label, label_tuples):\n",
        "  for ele in label_tuples:\n",
        "    if(ele[1]== int_label):\n",
        "      return ele[0]"
      ]
    },
    {
      "cell_type": "code",
      "execution_count": null,
      "metadata": {
        "colab": {
          "base_uri": "https://localhost:8080/",
          "height": 1000
        },
        "colab_type": "code",
        "id": "27pVQ5NSgSHL",
        "outputId": "b3e9067d-0585-4a43-9c2d-c4c3bcc29cac",
        "vscode": {
          "languageId": "python"
        }
      },
      "outputs": [],
      "source": [
        "#have each letter classifed and its classification added to a list then printed out, then have this list split appart for each word.\n",
        "# Extract letters from page\n",
        "import cv2\n",
        "import time\n",
        "start_time = time.time()\n",
        "extract = Extract_Letters()\n",
        "\n",
        "letters_in_doc_CNN = []\n",
        "\n",
        "letters = extract.extractFile(\"/content/Handwriting documents/hand write 4-1.png\", \"defualt\")#add default mode\n",
        "\n",
        "for letter in letters:#for each letter in the file\n",
        "  letter = cv2.copyMakeBorder( letter, 5, 5, 5, 5, cv2.BORDER_CONSTANT)#add boarder so it looks like training data (5 on each side)\n",
        "  #resize\n",
        "  letter = resize(letter, (28, 28))#resize back\n",
        "  letters_in_doc_CNN.append(letter)\n",
        "  #-----------------------------------show the image\n",
        "  # from PIL import Image\n",
        "  # import numpy as np\n",
        "  # from matplotlib import pyplot as plt\n",
        "  # plt.imshow(letter, interpolation='nearest')\n",
        "  # plt.show()\n",
        "  #-----------------------------------\n",
        "  \n",
        "letters_in_doc_CNN= np.array(letters_in_doc_CNN , dtype=np.float32)#converts to numpy array\n",
        "print(letters_in_doc_CNN.shape)\n",
        "\n",
        "letters_in_doc_CNN = np.expand_dims(letters_in_doc_CNN,-1).astype(np.float32) \n",
        "print(letters_in_doc_CNN.shape)"
      ]
    },
    {
      "cell_type": "code",
      "execution_count": 38,
      "metadata": {
        "colab": {
          "base_uri": "https://localhost:8080/",
          "height": 70
        },
        "colab_type": "code",
        "id": "btyk9ge1gSHN",
        "outputId": "2afd3ef9-86bb-402c-a4b1-49d4cfc84035",
        "vscode": {
          "languageId": "python"
        }
      },
      "outputs": [
        {
          "name": "stdout",
          "output_type": "stream",
          "text": [
            "INFO:tensorflow:Restoring parameters from ./CNN_basic.ckpt\n",
            "Predicted classes: [ 0  1  2  3  4  5  6  7  0 20 10 11 12 13 16 17 33 17 18 19 20 21 22 23 24 25  0  1  2  3  4  5  6  7  8  9 10 11 12 13 26 17 16 17 18 19 20 21 22 23 24 25 26  8 28 29  7 31 32 33 34 35 10  7  4 16 20  6  2 10 32 17 26 22 13  5 14 23  9 20 12 17 31 26 21  4 17 19  7  4 11  0 25 24  3 26  6 11  7  4 16 20 17 32 10  1 17 26 22 13  5 26 23  3 20 12 18 31 26 21  4 17 19  7  4 11  0 25 24 24 14  6]\n"
          ]
        }
      ],
      "source": [
        "#to classfy an array of images\n",
        "import tensorflow as tf\n",
        "with tf.Session() as sess:\n",
        "    saver.restore(sess, \"./CNN_basic.ckpt\") # or better, use save_path\n",
        "    X_new_scaled =  letters_in_doc_CNN#feed img array\n",
        "    Z = logits.eval(feed_dict={X: X_new_scaled})\n",
        "    y_pred = np.argmax(Z, axis=1)\n",
        "\n",
        "print(\"Predicted classes:\", y_pred)"
      ]
    },
    {
      "cell_type": "code",
      "execution_count": 39,
      "metadata": {
        "colab": {
          "base_uri": "https://localhost:8080/",
          "height": 104
        },
        "colab_type": "code",
        "id": "8bTOtDT5HIPL",
        "outputId": "558dc6cd-a195-48ff-80fd-29fe07a576a6",
        "vscode": {
          "languageId": "python"
        }
      },
      "outputs": [
        {
          "name": "stdout",
          "output_type": "stream",
          "text": [
            "['a', 'b', 'c', 'd', 'e', 'f', 'g', 'h', 'i', 'j', 'k', 'l', 'm', 'n', 'o', 'p', 'q', 'r', 's', 't', 'u', 'v', 'w', 'x', 'y', 'z', 'a', 'b', 'c', 'd', 'e', 'f', 'g', 'h', 'i', 'j', 'k', 'l', 'm', 'n', 'o', 'p', 'q', 'r', 's', 't', 'u', 'v', 'w', 'x', 'y', 'z', '0', '1', '2', '3', '4', '5', '6', '7', '8', '9', 't', 'h', 'e', 'q', 'u', 'i', 'c', 'k', 'b', 'r', 'o', 'w', 'n', 'f', 'o', 'x', 'j', 'u', 'm', 'p', 's', 'o', 'v', 'e', 'r', 't', 'h', 'e', 'l', 'a', 'z', 'y', 'd', 'o', 'g', 't', 'h', 'e', 'q', 'u', 'i', 'c', 'k', 'b', 'r', 'o', 'w', 'n', 'f', 'o', 'x', 'j', 'u', 'm', 'p', 's', 'o', 'v', 'e', 'r', 't', 'h', 'e', 'l', 'a', 'z', 'y', 'd', 'o', 'g']\n",
            "[ 0  1  2  3  4  5  6  7  0 20 10 11 12 13 16 17 33 17 18 19 20 21 22 23 24 25  0  1  2  3  4  5  6  7  8  9 10 11 12 13 26 17 16 17 18 19 20 21 22 23 24 25 26  8 28 29  7 31 32 33 34 35 10  7  4 16 20  6  2 10 32 17 26 22 13  5 14 23  9 20 12 17 31 26 21  4 17 19  7  4 11  0 25 24  3 26  6 11  7  4 16 20 17 32 10  1 17 26 22 13  5 26 23  3 20 12 18 31 26 21  4 17 19  7  4 11  0 25 24 24 14  6]\n",
            "Neural net accuracy Score with test data (my handwriting): \n"
          ]
        },
        {
          "data": {
            "text/plain": [
              "0.7954545454545454"
            ]
          },
          "execution_count": 39,
          "metadata": {
            "tags": []
          },
          "output_type": "execute_result"
        }
      ],
      "source": [
        "alphabet = \"abcdefghijklmnopqrstuvwxyz\"\n",
        "numbers = \"0123456789\"\n",
        "quick_brown_fox = \"thequickbrownfoxjumpsoverthelazydog\"\n",
        "real_string = alphabet + alphabet + numbers + quick_brown_fox + quick_brown_fox\n",
        "\n",
        "real_list = list(real_string)#split into a list\n",
        "\n",
        "print(real_list)\n",
        "print(y_pred)\n",
        "\n",
        "predicted_list = y_pred\n",
        "predicted_list = [find_label_string(ele, label_tuples) for ele in predicted_list] \n",
        "\n",
        "from sklearn import metrics\n",
        "print(\"Neural net accuracy Score with test data (my handwriting): \")\n",
        "metrics.accuracy_score(real_list, predicted_list, normalize=True)"
      ]
    },
    {
      "cell_type": "code",
      "execution_count": 40,
      "metadata": {
        "colab": {
          "base_uri": "https://localhost:8080/",
          "height": 118
        },
        "colab_type": "code",
        "id": "Isjgklz6gSHP",
        "outputId": "134d6bd3-a877-4555-ca63-8932730e324b",
        "vscode": {
          "languageId": "python"
        }
      },
      "outputs": [
        {
          "name": "stdout",
          "output_type": "stream",
          "text": [
            "CNN - basic - page interpretation: \n",
            "abcdefghauklmnqr7rstuvwxyz\n",
            "abcdefghijklmn0rqrstuvwxyz\n",
            "0i23h56789\n",
            "khequgck6r0wnfoxjumr50verthelazyd0g\n",
            "lhequr6kbr0wnf0xdums50verthelazyyog\n"
          ]
        }
      ],
      "source": [
        "doc_CNN = \"\"\n",
        "#print (time.time() - start_time, \"seconds\" )\n",
        "letters = 1\n",
        "\n",
        "alphabet = 26\n",
        "numbers = 10\n",
        "lazy_dog = 35\n",
        "\n",
        "for ele in y_pred:#num should be the same\n",
        "  if(letters == alphabet+1 or letters == (alphabet*2)+1 or letters == (alphabet*2)+1+numbers or letters == (alphabet*2)+1+numbers+ lazy_dog):#letters (lower+uppercase), then numbers, then sets of the quick brown fox\n",
        "    doc_CNN+=\"\\n\"\n",
        "  doc_CNN+=(find_label_string(ele, label_tuples))#gets just the predicted character and adds to the string\n",
        "  letters += 1\n",
        "\n",
        "print(\"CNN - basic - page interpretation: \")\n",
        "print(doc_CNN)"
      ]
    },
    {
      "cell_type": "markdown",
      "metadata": {
        "colab_type": "text",
        "id": "8VK5t8iHAZ47"
      },
      "source": [
        "#CNN - More advanced - Define graph - (SGD -> adam), Dropout (0.8), smaller kernel and strides, more epocs, more layers -> additional conv2d, pool, dropout set"
      ]
    },
    {
      "cell_type": "code",
      "execution_count": 84,
      "metadata": {
        "colab": {},
        "colab_type": "code",
        "id": "Ni3KYmK7LJp7",
        "vscode": {
          "languageId": "python"
        }
      },
      "outputs": [],
      "source": [
        "#could shuffle before split but it looks fairly random\n",
        "#split data into training and testing data\n",
        "from sklearn.model_selection import train_test_split\n",
        "X_train, X_test, y_train, y_test = train_test_split(union_data, union_labels, random_state=0, test_size=0.20)\n",
        "#------------------------------- shuffle data and labels before validation split\n",
        "indices = np.arange(X_train.shape[0])\n",
        "np.random.shuffle(indices)\n",
        "\n",
        "X_train = X_train[indices]\n",
        "y_train = y_train[indices]\n",
        "#-------------------------------"
      ]
    },
    {
      "cell_type": "code",
      "execution_count": 85,
      "metadata": {
        "colab": {},
        "colab_type": "code",
        "id": "o6c8YWvMRjP6",
        "vscode": {
          "languageId": "python"
        }
      },
      "outputs": [],
      "source": [
        "n_epochs = 35\n",
        "batch_size = 100"
      ]
    },
    {
      "cell_type": "code",
      "execution_count": 86,
      "metadata": {
        "colab": {},
        "colab_type": "code",
        "id": "hhSLejjls8HT",
        "vscode": {
          "languageId": "python"
        }
      },
      "outputs": [],
      "source": [
        "n_conv1 = 32\n",
        "n_conv2 = 64\n",
        "n_hidden1 = 512\n",
        "n_outputs = 36\n",
        "\n",
        "X_train = np.expand_dims(X_train,-1).astype(np.float32) / 255.0\n",
        "X_test = np.expand_dims(X_test,-1).astype(np.float32) / 255.0\n",
        "\n",
        "y_train = y_train.astype(np.int32)\n",
        "y_test = y_test.astype(np.int32)\n",
        "\n",
        "X_valid, X_train = X_train[:5000], X_train[5000:]\n",
        "y_valid, y_train = y_train[:5000], y_train[5000:]\n",
        "\n",
        "reset_graph()\n",
        "\n",
        "X = tf.placeholder(tf.float32, shape=(None, 28, 28, 1), name=\"X\")\n",
        "y = tf.placeholder(tf.int32, shape=(None), name=\"y\") \n",
        "\n",
        "keep_prob = 1 - tf.placeholder(tf.float32) #for dropout"
      ]
    },
    {
      "cell_type": "code",
      "execution_count": 87,
      "metadata": {
        "colab": {},
        "colab_type": "code",
        "id": "iPXOSVQrVsCS",
        "vscode": {
          "languageId": "python"
        }
      },
      "outputs": [],
      "source": [
        "#could add more layers in here to improve accuracy\n",
        "with tf.name_scope(\"dnn\"):\n",
        "    conv1 = tf.layers.conv2d(X, \n",
        "                             n_conv1, \n",
        "                             kernel_size = (3,3), \n",
        "                             strides=(2,2), ##\n",
        "                             name=\"conv1\", \n",
        "                             activation=tf.nn.relu)\n",
        "    \n",
        "    pool1 = tf.layers.max_pooling2d(conv1, \n",
        "                                    pool_size=(4,4), \n",
        "                                    strides=(4,4))\n",
        "    \n",
        "    drop_out = tf.nn.dropout(pool1, keep_prob)\n",
        "\n",
        "    #another conv2d, pool then dropout:\n",
        "    conv2 = tf.layers.conv2d(drop_out, \n",
        "                             n_conv2, \n",
        "                             kernel_size = (3,3), \n",
        "                             strides=(2,2),##\n",
        "                             name=\"conv2\", \n",
        "                             )\n",
        "    \n",
        "    pool2 = tf.layers.max_pooling2d(conv1, \n",
        "                                    pool_size=(4,4), \n",
        "                                    strides=(4,4))\n",
        "    \n",
        "    drop_out2 = tf.nn.dropout(pool2, keep_prob)\n",
        "    \n",
        "\n",
        "    flatten = tf.layers.flatten(drop_out2)\n",
        "\n",
        "    fc1 = tf.layers.dense(flatten,\n",
        "                          n_hidden1, \n",
        "                          name=\"fc1\",\n",
        "                          activation=tf.nn.relu)\n",
        "    \n",
        "    logits = tf.layers.dense(fc1, \n",
        "                             n_outputs, \n",
        "                             name=\"outputs\")"
      ]
    },
    {
      "cell_type": "code",
      "execution_count": 88,
      "metadata": {
        "colab": {},
        "colab_type": "code",
        "id": "OV9uBltKmoN8",
        "vscode": {
          "languageId": "python"
        }
      },
      "outputs": [],
      "source": [
        "with tf.name_scope(\"loss\"):\n",
        "    xentropy = tf.nn.sparse_softmax_cross_entropy_with_logits(labels=y, logits=logits)\n",
        "    loss = tf.reduce_mean(xentropy, name=\"loss\")"
      ]
    },
    {
      "cell_type": "code",
      "execution_count": 100,
      "metadata": {
        "colab": {},
        "colab_type": "code",
        "id": "Anar0tMsmqX0",
        "vscode": {
          "languageId": "python"
        }
      },
      "outputs": [],
      "source": [
        "learning_rate = 0.01\n",
        "\n",
        "with tf.name_scope(\"train\"):\n",
        "    optimizer = tf.compat.v1.train.AdamOptimizer(\n",
        "    learning_rate=0.01,\n",
        "    name='Adam')\n",
        "    \n",
        "    training_op = optimizer.minimize(loss)"
      ]
    },
    {
      "cell_type": "code",
      "execution_count": 90,
      "metadata": {
        "colab": {},
        "colab_type": "code",
        "id": "3FxrCjL9msNy",
        "vscode": {
          "languageId": "python"
        }
      },
      "outputs": [],
      "source": [
        "with tf.name_scope(\"eval\"):\n",
        "    correct = tf.nn.in_top_k(logits, y, 1)\n",
        "    accuracy = tf.reduce_mean(tf.cast(correct, tf.float32))"
      ]
    },
    {
      "cell_type": "code",
      "execution_count": 91,
      "metadata": {
        "colab": {},
        "colab_type": "code",
        "id": "x_RZHf1umv72",
        "vscode": {
          "languageId": "python"
        }
      },
      "outputs": [],
      "source": [
        "init = tf.global_variables_initializer()\n",
        "saver = tf.train.Saver()"
      ]
    },
    {
      "cell_type": "markdown",
      "metadata": {
        "colab_type": "text",
        "id": "pOAkCt5bg7-1"
      },
      "source": [
        "# Train"
      ]
    },
    {
      "cell_type": "code",
      "execution_count": 92,
      "metadata": {
        "colab": {
          "base_uri": "https://localhost:8080/",
          "height": 605
        },
        "colab_type": "code",
        "id": "fhj7yl5ym1sm",
        "outputId": "78f371d2-e819-4988-ab31-9997785904d3",
        "vscode": {
          "languageId": "python"
        }
      },
      "outputs": [
        {
          "name": "stdout",
          "output_type": "stream",
          "text": [
            "Epoch: 0 Batch accuracy: 0.83 Validation accuracy: 0.8156\n",
            "Epoch: 1 Batch accuracy: 0.84 Validation accuracy: 0.8286\n",
            "Epoch: 2 Batch accuracy: 0.76 Validation accuracy: 0.8292\n",
            "Epoch: 3 Batch accuracy: 0.89 Validation accuracy: 0.841\n",
            "Epoch: 4 Batch accuracy: 0.85 Validation accuracy: 0.8468\n",
            "Epoch: 5 Batch accuracy: 0.91 Validation accuracy: 0.8396\n",
            "Epoch: 6 Batch accuracy: 0.89 Validation accuracy: 0.8352\n",
            "Epoch: 7 Batch accuracy: 0.87 Validation accuracy: 0.8462\n",
            "Epoch: 8 Batch accuracy: 0.85 Validation accuracy: 0.844\n",
            "Epoch: 9 Batch accuracy: 0.88 Validation accuracy: 0.8416\n",
            "Epoch: 10 Batch accuracy: 0.9 Validation accuracy: 0.8362\n",
            "Epoch: 11 Batch accuracy: 0.88 Validation accuracy: 0.8308\n",
            "Epoch: 12 Batch accuracy: 0.89 Validation accuracy: 0.8324\n",
            "Epoch: 13 Batch accuracy: 0.88 Validation accuracy: 0.8388\n",
            "Epoch: 14 Batch accuracy: 0.83 Validation accuracy: 0.8328\n",
            "Epoch: 15 Batch accuracy: 0.91 Validation accuracy: 0.8414\n",
            "Epoch: 16 Batch accuracy: 0.91 Validation accuracy: 0.8472\n",
            "Epoch: 17 Batch accuracy: 0.82 Validation accuracy: 0.837\n",
            "Epoch: 18 Batch accuracy: 0.87 Validation accuracy: 0.8362\n",
            "Epoch: 19 Batch accuracy: 0.87 Validation accuracy: 0.8362\n",
            "Epoch: 20 Batch accuracy: 0.86 Validation accuracy: 0.8368\n",
            "Epoch: 21 Batch accuracy: 0.91 Validation accuracy: 0.8452\n",
            "Epoch: 22 Batch accuracy: 0.87 Validation accuracy: 0.8298\n",
            "Epoch: 23 Batch accuracy: 0.88 Validation accuracy: 0.8422\n",
            "Epoch: 24 Batch accuracy: 0.87 Validation accuracy: 0.847\n",
            "Epoch: 25 Batch accuracy: 0.87 Validation accuracy: 0.8388\n",
            "Epoch: 26 Batch accuracy: 0.88 Validation accuracy: 0.838\n",
            "Epoch: 27 Batch accuracy: 0.91 Validation accuracy: 0.8394\n",
            "Epoch: 28 Batch accuracy: 0.89 Validation accuracy: 0.8342\n",
            "Epoch: 29 Batch accuracy: 0.89 Validation accuracy: 0.8368\n",
            "Epoch: 30 Batch accuracy: 0.86 Validation accuracy: 0.8458\n",
            "Epoch: 31 Batch accuracy: 0.9 Validation accuracy: 0.8458\n",
            "Epoch: 32 Batch accuracy: 0.88 Validation accuracy: 0.8428\n",
            "Epoch: 33 Batch accuracy: 0.84 Validation accuracy: 0.842\n",
            "Epoch: 34 Batch accuracy: 0.86 Validation accuracy: 0.84\n"
          ]
        }
      ],
      "source": [
        "def shuffle_batch(X, y, batch_size):\n",
        "    rnd_idx = np.random.permutation(len(X))\n",
        "    n_batches = len(X) // batch_size\n",
        "    for batch_idx in np.array_split(rnd_idx, n_batches):\n",
        "        X_batch, y_batch = X[batch_idx], y[batch_idx]\n",
        "        yield X_batch, y_batch\n",
        "        \n",
        "with tf.Session() as sess:\n",
        "    init.run()\n",
        "    for epoch in range(n_epochs):\n",
        "        for X_batch, y_batch in shuffle_batch(X_train, y_train, batch_size):\n",
        "            sess.run(training_op, feed_dict={X: X_batch, y: y_batch, keep_prob : 0.8}) #feed dropout here (keep_prob/rate), good rate is 0.5-0.8\n",
        "        acc_batch = accuracy.eval(feed_dict={X: X_batch, y: y_batch, keep_prob : 1.0}) #dont do on validation\n",
        "        acc_valid = accuracy.eval(feed_dict={X: X_valid, y: y_valid, keep_prob : 1.0})\n",
        "        print(\"Epoch:\", epoch, \"Batch accuracy:\", acc_batch, \"Validation accuracy:\", acc_valid)\n",
        "\n",
        "    save_path = saver.save(sess, \"./CNN_more_adv.ckpt\")"
      ]
    },
    {
      "cell_type": "markdown",
      "metadata": {
        "colab_type": "text",
        "id": "eqYkQEI6AeIP"
      },
      "source": [
        "# Accuracy on its own test data"
      ]
    },
    {
      "cell_type": "code",
      "execution_count": 93,
      "metadata": {
        "colab": {
          "base_uri": "https://localhost:8080/",
          "height": 101
        },
        "colab_type": "code",
        "id": "VnJjzd9DLhk7",
        "outputId": "08290851-e314-4573-f10c-cf86d2549037",
        "vscode": {
          "languageId": "python"
        }
      },
      "outputs": [
        {
          "name": "stdout",
          "output_type": "stream",
          "text": [
            "INFO:tensorflow:Restoring parameters from ./CNN_more_adv.ckpt\n",
            "Predicted classes: [15 18 31 26 18 24 34 32  4 28 17  3 21 14 20 20 27  2 26  1]\n",
            "Actual classes:    [15 18 31 26 18 21 34 32  4 28 17  3 21 14 20 20 27  2 14  1]\n",
            "CNN accuracy Score with test data (emnist): \n"
          ]
        },
        {
          "data": {
            "text/plain": [
              "0.8382745726495726"
            ]
          },
          "execution_count": 93,
          "metadata": {
            "tags": []
          },
          "output_type": "execute_result"
        }
      ],
      "source": [
        "with tf.Session() as sess:\n",
        "    saver.restore(sess, \"./CNN_more_adv.ckpt\") # or better, use save_path\n",
        "    #------------shuffle before split - to get a better look at the results\n",
        "    indices = np.arange(X_test.shape[0])\n",
        "    np.random.shuffle(indices)\n",
        "\n",
        "    X_test = X_test[indices]\n",
        "    y_test = y_test[indices]\n",
        "    #---------------------------------\n",
        "    X_new_scaled = X_test\n",
        "    Z = logits.eval(feed_dict={X: X_new_scaled, keep_prob : 1.0})\n",
        "    y_pred = np.argmax(Z, axis=1)\n",
        "    \n",
        "print(\"Predicted classes:\", y_pred[:20])\n",
        "print(\"Actual classes:   \", y_test[:20])\n",
        "\n",
        "from sklearn import metrics\n",
        "print(\"CNN accuracy Score with test data (emnist): \")\n",
        "metrics.accuracy_score(y_test, y_pred, normalize=True)"
      ]
    },
    {
      "cell_type": "code",
      "execution_count": 94,
      "metadata": {
        "colab": {
          "base_uri": "https://localhost:8080/",
          "height": 1000
        },
        "colab_type": "code",
        "id": "J56tHPBr-JBf",
        "outputId": "dbb8d424-9b4e-4d01-fb75-002a68c91629",
        "vscode": {
          "languageId": "python"
        }
      },
      "outputs": [
        {
          "name": "stdout",
          "output_type": "stream",
          "text": [
            "INFO:tensorflow:Restoring parameters from ./CNN_more_adv.ckpt\n",
            "[[ 837   18    1    2    7    1    3    7    1    0    0    1    4    5    7    0   33    1    0    1    5    2    6    3    0    3    1    0   13    7    0    0    0    0    3    1    0]\n",
            " [   6  846    0    2    0    1    3   17    0    0    2    3    0    1    1    1    1    1    1    1    0    0    1    0    0    1    1    0    0    2    0    2   46    0   38    0    0]\n",
            " [   6    1  877    1   39    1    0    0    3    0    1    3    0    0    3    0    3    0    4    0    2    1    0    0    0    1    0    2    0    0    0    0    5    0    0    0    0]\n",
            " [   3    6    0  902    0    0    0    2    0    2    2    2    1    2   28    4    4    0    0    1    2    0    0    0    0    0   18    0    2    2    0    0    0    0    1    0    0]\n",
            " [   2    2   27    0  907    0    0    0    0    0    0    2    0    0    3    0    1    5    0    2    1    0    0    0    0    2    1    0    1    1    0    0    5    0    8    0    0]\n",
            " [   2    0    0    0   12  832    0    0    5    0    1    3    0    0    0   14    4    4    4   33    0    0    0    3    0    1    0    2    0    0    4    3    5    5   20    3    0]\n",
            " [  19   11    1    0    1    4  616    1    0    5    2    1    0    1    1    1  103    1    6    1    2    0    0    2    7    1    0    1    3    7    4    3   48    3   79   97    0]\n",
            " [   4   17    0    3    0    0    1  848    0    0    7    8    1   22    0    0    0    0    0    3    4    0    0    3    1    0    0    1    1    0   10    0    2    0    0    0    0]\n",
            " [   2    0    0    1    0    2    0    0  507   22    0  110    0    0    0    0    0    1    0    1    1    0    0    1    2    1    0  308    1    0    0    1    0    3    0    0    0]\n",
            " [   3    2    0   20    1    1    1    2   40  797    0    1    0    2    0    0    0    0    9    9   10    7    0    1    5    1    0    8    2   15    0    5    1    1    4    0    0]\n",
            " [   2    5    0    1    0    0    0    9    0    0  903    5    0    1    0    0    1    4    0    2    4    0    1    9    0    1    0    0    1    0    1    1    2    0    2    0    0]\n",
            " [   0    0    4    1    0    0    0    5   83    3    1  393    0    0    0    0    0    0    0    0    1    0    0    1    0    1    0  460    1    0    1    1    3    0    1    0    0]\n",
            " [   7    1    0    0    0    0    0    8    0    0    3    0  927   15    0    0    0    0    0    0    1    0    6    0    1    0    1    0    0    0    0    0    0    0    1    0    0]\n",
            " [  19    0    0    1    0    1    0   16    0    0    8    0   29  839    0    0    0    3    0    0    6    2   14    7    0    1    1    0    1    0    0    0    0    1    0    1    0]\n",
            " [   3    2    0    9    3    0    0    0    1    0    0    0    0    0  787    1    6    0    3    1    1    1    0    1    0    0  177    3    0    0    0    0    0    0    1    0    0]\n",
            " [   1    4    0    5    5    8    1    1    0    0    0    0    0    3    1  878    8    4    0    0    0    0    0    0    5    0    1    0    0    0    0    0    0    6   13    2    0]\n",
            " [  32    7    0    1    5    0   38    1    0    0    0    0    0    1    5    3  620    1    0    2    3    0    2    2    1    1    0    2    2    0    1    1    1    2   53  157    0]\n",
            " [  14   10    4    0   18    4    0    1    6    0   14    4    0   13    0    4    3  816    0    6    1   19    1    6   11    0    0    3    3    0    0    2    0    0    6    0    0]\n",
            " [   0    3    1    0    2    4    6    0    1    5    0    0    0    1    1    1    0    0  893    0    0    0    0    0    0    0    0    0    1   19    1   51    1    0    6    1    0]\n",
            " [   1    1    1    1    8    2    0    6    3    3    4    2    1    1    0    1    1    6    1  862    0    0    0    3    3    3    0    1    0    0    4    0    2   21    2    1    0]\n",
            " [   2    1    1    3    0    0    0    1    1    2    1    2    3    1    2    0    1    0    0    0  863   36   26    0    2    0    2    0    0    0    7    0    2    0    0    0    0]\n",
            " [   0    0    0    0    0    0    0    0    2    2    2    1    0    5    1    1    0    5    0    0   37  890    1    1   30    0    0    1    0    0    0    0    0    0    0    0    0]\n",
            " [   1    2    0    2    0    0    0    3    0    0    2    1    1   14    0    0    0    0    1    0    9    5  924    3    2    0    0    0    0    0    0    0    0    0    0    0    0]\n",
            " [   1    0    0    1    0    0    0    4    1    0   12    0    0    5    0    0    0    0    0    2    1    2    0  881   10    0    0    1    2    0    5    0    0    5    2    0    0]\n",
            " [   1    1    0    0    0    0    8    3    0    1    0    1    0    0    0    1    4    4    0    5   11   22    1   16  798    0    0    2    0    3   42    0    0   13    4    5    0]\n",
            " [   2    0    0    0    5    0    0    0    2    0    0    0    0    0    0    0    1    0    0    0    0    0    0    5    0  833    0    0   82    6    0    0    0    2    0    0    0]\n",
            " [   3    5    1   32    1    0    0    0    0    0    1    0    0    1  733    0   12    0    0    0    5    1    0    0    1    0  447    1    0    0    0    0    1    0    5    0    0]\n",
            " [   0    0    2    0    0    0    0    1  113    2    0  112    0    0    0    0    0    0    0    1    0    0    0    1    1    0    0 1047    2    1    0    0    0    1    0    0    0]\n",
            " [  23    1    1    7    0    0    3    0    1    1    0    0    0    0    0    1    5    1    2    0    0    0    0    6    0  116    1    2 1038    8    0    0    0    2    8    0    0]\n",
            " [   3    5    0    0    0    0    3    0    1    3    0    0    0    0    0    0    2    0   10    0    0    0    0    0    0    3    0    0    7 1124    0    5    0    3    7    2    0]\n",
            " [   6    0    0    2    0    1    3    7    0    0    5    0    3    0    0    0    5    0    0   15   16    0    2    6   64    0    1    1    0    0 1068    0    2    2    1    4    0]\n",
            " [   0    2    1    0    2    1    2    0    0   11    1    0    0    0    0    0    1    1  179    2    0    0    0    0    2    0    0    0    1    7    0  979    4    0    9    1    0]\n",
            " [   0   54    7    0    0    0    8    6    0    0    1    6    0    0    1    0    4    0    2    0    2    1    2    0    0    0    1    2    0    0    0    2 1176    0    3    0    0]\n",
            " [   0    0    0    0    0    2    0    0    1    0    0    0    1    3    0    0    2    0    0    5    0    0    0    1    3    4    0    3    3    2    2    0    0 1198    2    7    0]\n",
            " [   1   23    0    0    6    5    5    0    1    0    1    0    0    0    0    5   24    3    2    0    0    1    0    5    0    1    1    2    1    5    1    2    1    0 1153    7    0]\n",
            " [   5    0    0    0    1    1   38    0    0    0    0    0    0    0    1    1   91    0    0    1    0    0    0    0    4    1    0    0    0    0    4    0    0   12    6 1079    0]\n",
            " [   0    0    0    0    0    0    0    0    0    0    0    0    0    0    0    0    0    0    0    0    0    0    0    0    0    0    0    0    0    0    0    0    0    0    0    0    0]]\n"
          ]
        },
        {
          "data": {
            "image/png": "[encoded data removed]",
            "text/plain": [
              "<Figure size 1152x1152 with 2 Axes>"
            ]
          },
          "metadata": {
            "needs_background": "light",
            "tags": []
          },
          "output_type": "display_data"
        }
      ],
      "source": [
        "import sys\n",
        "import numpy\n",
        "#for the numpy array output version\n",
        "numpy.set_printoptions(threshold=sys.maxsize)#to display all rows\n",
        "numpy.set_printoptions(linewidth =sys.maxsize)#makes it so it the rows dont wrap around\n",
        "\n",
        "with tf.Session() as sess:\n",
        "    saver.restore(sess, \"./CNN_more_adv.ckpt\")\n",
        "    confusion = tf.confusion_matrix(labels=y_test, predictions=y_pred, num_classes=26+9+1+1)#for its own data (split from the training dataset)\n",
        "    numpy_con_mat = confusion.eval(session=sess)\n",
        "    print(numpy_con_mat)\n",
        "    \n",
        "numpy_con_mat = numpy_con_mat[:36,:36]\n",
        "con_mat_norm = np.around(numpy_con_mat.astype('float') / numpy_con_mat.sum(axis=1)[:, np.newaxis], decimals=2)#get relative frequency for prediction labels\n",
        "\n",
        "#new tick lables\n",
        "labels_correct = ['a', 'b', 'c', 'd', 'e', 'f', 'g', 'h', 'i', 'j', 'k', 'l', 'm', 'n', 'o', 'p', 'q', 'r', 's', 't', 'u', 'v', 'w', 'x', 'y', 'z', '0', '1', '2', '3', '4', '5', '6', '7', '8', '9']\n",
        "import pandas as pd\n",
        "con_mat_df = pd.DataFrame(con_mat_norm, index = labels_correct, columns = labels_correct)\n",
        "\n",
        "from matplotlib import pyplot as plt\n",
        "import seaborn as sns\n",
        "\n",
        "figure = plt.figure(figsize=(16, 16))\n",
        "\n",
        "sns.heatmap(con_mat_df, annot=True, cmap=plt.cm.Blues)\n",
        "plt.tight_layout()\n",
        "plt.ylabel('True label')\n",
        "plt.xlabel('Predicted label')\n",
        "\n",
        "plt.show()"
      ]
    },
    {
      "cell_type": "markdown",
      "metadata": {
        "colab_type": "text",
        "id": "cwK1y1TGelTI"
      },
      "source": [
        "# CNN - Adv - Test against doc "
      ]
    },
    {
      "cell_type": "code",
      "execution_count": 95,
      "metadata": {
        "colab": {
          "base_uri": "https://localhost:8080/",
          "height": 70
        },
        "colab_type": "code",
        "id": "QE3K16p8eLYC",
        "outputId": "100f0d8f-b318-4103-e1bd-5e1d80127cd5",
        "vscode": {
          "languageId": "python"
        }
      },
      "outputs": [
        {
          "name": "stdout",
          "output_type": "stream",
          "text": [
            "['a', 'b', 'c', 'd', 'e', 'f', 'g', 'h', 'i', 'j', 'k', 'l', 'm', 'n', 'o', 'p', 'q', 'r', 's', 't', 'u', 'v', 'w', 'x', 'y', 'z', '0', '1', '2', '3', '4', '5', '6', '7', '8', '9']\n",
            "[('a', 0), ('b', 1), ('c', 2), ('d', 3), ('e', 4), ('f', 5), ('g', 6), ('h', 7), ('i', 8), ('j', 9), ('k', 10), ('l', 11), ('m', 12), ('n', 13), ('o', 14), ('p', 15), ('q', 16), ('r', 17), ('s', 18), ('t', 19), ('u', 20), ('v', 21), ('w', 22), ('x', 23), ('y', 24), ('z', 25), ('0', 26), ('1', 27), ('2', 28), ('3', 29), ('4', 30), ('5', 31), ('6', 32), ('7', 33), ('8', 34), ('9', 35)]\n"
          ]
        }
      ],
      "source": [
        "#create int class to string:\n",
        "label_tuples = []\n",
        "\n",
        "string = 'abcdefghijklmnopqrstuvwxyz0123456789'#classes in order\n",
        "split_list = [char for char in string]\n",
        "\n",
        "print(split_list)\n",
        "\n",
        "value = 0\n",
        "for character in split_list:\n",
        "  label_tuples.append((character, value))\n",
        "  value+=1\n",
        "\n",
        "print(label_tuples)\n",
        "\n",
        "def find_label_string(int_label, label_tuples):\n",
        "  for ele in label_tuples:\n",
        "    if(ele[1]== int_label):\n",
        "      return ele[0]"
      ]
    },
    {
      "cell_type": "code",
      "execution_count": null,
      "metadata": {
        "colab": {
          "base_uri": "https://localhost:8080/",
          "height": 1000
        },
        "colab_type": "code",
        "id": "OSy54Ax5eLYH",
        "outputId": "b63726a1-ca51-4934-aefb-b5dc6daa7485",
        "vscode": {
          "languageId": "python"
        }
      },
      "outputs": [],
      "source": [
        "#have each letter classifed and its classification added to a list then printed out, then have this list split appart for each word.\n",
        "# Extract letters from page\n",
        "import cv2\n",
        "import time\n",
        "start_time = time.time()\n",
        "extract = Extract_Letters()\n",
        "\n",
        "letters_in_doc_CNN = []\n",
        "\n",
        "letters = extract.extractFile(\"/content/Handwriting documents/hand write 4-1.png\", \"defualt\")#add default mode\n",
        "\n",
        "for letter in letters:#for each letter in the file\n",
        "  letter = cv2.copyMakeBorder( letter, 5, 5, 5, 5, cv2.BORDER_CONSTANT)#add boarder so it looks like training data (5 on each side)\n",
        "  #resize\n",
        "  letter = resize(letter, (28, 28))#resize back\n",
        "  letters_in_doc_CNN.append(letter)\n",
        "  #-----------------------------------show the image\n",
        "  # from PIL import Image\n",
        "  # import numpy as np\n",
        "  # from matplotlib import pyplot as plt\n",
        "  # plt.imshow(letter, interpolation='nearest')\n",
        "  # plt.show()\n",
        "  #-----------------------------------\n",
        "  \n",
        "letters_in_doc_CNN= np.array(letters_in_doc_CNN , dtype=np.float32)#converts to numpy array\n",
        "print(letters_in_doc_CNN.shape)\n",
        "\n",
        "letters_in_doc_CNN = np.expand_dims(letters_in_doc_CNN,-1).astype(np.float32) \n",
        "print(letters_in_doc_CNN.shape)"
      ]
    },
    {
      "cell_type": "code",
      "execution_count": 97,
      "metadata": {
        "colab": {
          "base_uri": "https://localhost:8080/",
          "height": 70
        },
        "colab_type": "code",
        "id": "65o1qIbneLYK",
        "outputId": "1e45a8be-4ab0-4875-dce5-6913907aa0f5",
        "vscode": {
          "languageId": "python"
        }
      },
      "outputs": [
        {
          "name": "stdout",
          "output_type": "stream",
          "text": [
            "INFO:tensorflow:Restoring parameters from ./CNN_more_adv.ckpt\n",
            "Predicted classes: [ 0  1  2  3  4  5  6  7  0 20 10 11 12 13 16  4 16  5  9  5 20 21 22 23 24 25  0  1  2  3  4  5  6  7  8  9 10 11 12 13 14  4 16 17 18 19 20 21 22 23 24 25 14 23 28 29 22 31 31 33 34 35 19  7  4 16 20 14  2 20  1 17 14 22 12  5 14 23 30 20 12 34 18 14 21  4 31 19  7  4 11 16 25 24  3 14  6 19  7  4 16 20 28  2 10  1 17 14 22  0  5 14 23  3 21 12  4 18 14 21  4 17 19  7  4 11  0 25 24  3 26  6]\n"
          ]
        }
      ],
      "source": [
        "#to classfy an array of images\n",
        "import tensorflow as tf\n",
        "with tf.Session() as sess:\n",
        "    saver.restore(sess, \"./CNN_more_adv.ckpt\") # or better, use save_path\n",
        "    X_new_scaled =  letters_in_doc_CNN#feed img array\n",
        "    Z = logits.eval(feed_dict={X: X_new_scaled, keep_prob : 1.0})\n",
        "    y_pred = np.argmax(Z, axis=1)\n",
        "\n",
        "print(\"Predicted classes:\", y_pred)"
      ]
    },
    {
      "cell_type": "code",
      "execution_count": 98,
      "metadata": {
        "colab": {
          "base_uri": "https://localhost:8080/",
          "height": 104
        },
        "colab_type": "code",
        "id": "zrDRxsCxHPTO",
        "outputId": "a6937178-d301-43a5-db24-7b039aa454ee",
        "vscode": {
          "languageId": "python"
        }
      },
      "outputs": [
        {
          "name": "stdout",
          "output_type": "stream",
          "text": [
            "['a', 'b', 'c', 'd', 'e', 'f', 'g', 'h', 'i', 'j', 'k', 'l', 'm', 'n', 'o', 'p', 'q', 'r', 's', 't', 'u', 'v', 'w', 'x', 'y', 'z', 'a', 'b', 'c', 'd', 'e', 'f', 'g', 'h', 'i', 'j', 'k', 'l', 'm', 'n', 'o', 'p', 'q', 'r', 's', 't', 'u', 'v', 'w', 'x', 'y', 'z', '0', '1', '2', '3', '4', '5', '6', '7', '8', '9', 't', 'h', 'e', 'q', 'u', 'i', 'c', 'k', 'b', 'r', 'o', 'w', 'n', 'f', 'o', 'x', 'j', 'u', 'm', 'p', 's', 'o', 'v', 'e', 'r', 't', 'h', 'e', 'l', 'a', 'z', 'y', 'd', 'o', 'g', 't', 'h', 'e', 'q', 'u', 'i', 'c', 'k', 'b', 'r', 'o', 'w', 'n', 'f', 'o', 'x', 'j', 'u', 'm', 'p', 's', 'o', 'v', 'e', 'r', 't', 'h', 'e', 'l', 'a', 'z', 'y', 'd', 'o', 'g']\n",
            "[ 0  1  2  3  4  5  6  7  0 20 10 11 12 13 16  4 16  5  9  5 20 21 22 23 24 25  0  1  2  3  4  5  6  7  8  9 10 11 12 13 14  4 16 17 18 19 20 21 22 23 24 25 14 23 28 29 22 31 31 33 34 35 19  7  4 16 20 14  2 20  1 17 14 22 12  5 14 23 30 20 12 34 18 14 21  4 31 19  7  4 11 16 25 24  3 14  6 19  7  4 16 20 28  2 10  1 17 14 22  0  5 14 23  3 21 12  4 18 14 21  4 17 19  7  4 11  0 25 24  3 26  6]\n",
            "Neural net accuracy Score with test data (my handwriting): \n"
          ]
        },
        {
          "data": {
            "text/plain": [
              "0.8106060606060606"
            ]
          },
          "execution_count": 98,
          "metadata": {
            "tags": []
          },
          "output_type": "execute_result"
        }
      ],
      "source": [
        "alphabet = \"abcdefghijklmnopqrstuvwxyz\"\n",
        "numbers = \"0123456789\"\n",
        "quick_brown_fox = \"thequickbrownfoxjumpsoverthelazydog\"\n",
        "real_string = alphabet + alphabet + numbers + quick_brown_fox + quick_brown_fox\n",
        "\n",
        "real_list = list(real_string)#split into a list\n",
        "\n",
        "print(real_list)\n",
        "print(y_pred)\n",
        "\n",
        "predicted_list = y_pred\n",
        "predicted_list = [find_label_string(ele, label_tuples) for ele in predicted_list] \n",
        "\n",
        "from sklearn import metrics\n",
        "print(\"Neural net accuracy Score with test data (my handwriting): \")\n",
        "metrics.accuracy_score(real_list, predicted_list, normalize=True)#77.2%"
      ]
    },
    {
      "cell_type": "code",
      "execution_count": 99,
      "metadata": {
        "colab": {
          "base_uri": "https://localhost:8080/",
          "height": 118
        },
        "colab_type": "code",
        "id": "8u7S9tKGeLYM",
        "outputId": "0f6f7f4a-3d3e-4cf1-996d-df503a10d83a",
        "vscode": {
          "languageId": "python"
        }
      },
      "outputs": [
        {
          "name": "stdout",
          "output_type": "stream",
          "text": [
            "CNN - adv - page interpretation: \n",
            "abcdefghauklmnqeqfjfuvwxyz\n",
            "abcdefghijklmnoeqrstuvwxyz\n",
            "ox23w55789\n",
            "thequocubrowmfox4um8sove5thelqzydog\n",
            "thequ2ckbrowafoxdvmesoverthelazyd0g\n"
          ]
        }
      ],
      "source": [
        "doc_CNN = \"\"\n",
        "#print (time.time() - start_time, \"seconds\" )\n",
        "letters = 1\n",
        "\n",
        "alphabet = 26\n",
        "numbers = 10\n",
        "lazy_dog = 35\n",
        "\n",
        "for ele in y_pred:#num should be the same\n",
        "  if(letters == alphabet+1 or letters == (alphabet*2)+1 or letters == (alphabet*2)+1+numbers or letters == (alphabet*2)+1+numbers+ lazy_dog):#letters (lower+uppercase), then numbers, then sets of the quick brown fox\n",
        "    doc_CNN+=\"\\n\"\n",
        "  doc_CNN+=(find_label_string(ele, label_tuples))#gets just the predicted character and adds to the string\n",
        "  letters += 1\n",
        "\n",
        "print(\"CNN - adv - page interpretation: \")\n",
        "print(doc_CNN)"
      ]
    }
  ],
  "metadata": {
    "colab": {
      "name": "Ai CW part 2",
      "provenance": [],
      "toc_visible": true
    },
    "kernelspec": {
      "display_name": "Python 3",
      "name": "python3"
    }
  },
  "nbformat": 4,
  "nbformat_minor": 0
}
